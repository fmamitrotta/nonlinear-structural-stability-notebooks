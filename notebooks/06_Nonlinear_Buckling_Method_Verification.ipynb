{
 "cells": [
  {
   "cell_type": "markdown",
   "metadata": {
    "collapsed": true,
    "pycharm": {
     "name": "#%% md\n"
    }
   },
   "source": [
    "# Nonlinear Buckling Method Verification\n",
    "\n",
    "We want to verify Nastran's nonlinear buckling method on a box beam model. We consider a box beam model with a rigid tip section and a concentrated load applied at the center of such section."
   ]
  },
  {
   "cell_type": "markdown",
   "source": [
    "## Base model definition\n",
    "### Geometry"
   ],
   "metadata": {
    "collapsed": false
   }
  },
  {
   "cell_type": "code",
   "execution_count": 15,
   "outputs": [
    {
     "name": "stdout",
     "output_type": "stream",
     "text": [
      "Box beam dimensions:\n",
      "- width: 1.0 m\n",
      "- semispan: 4.5 m\n",
      "- height: 0.2 m\n",
      "- wall thickness: 4.0 mm\n"
     ]
    }
   ],
   "source": [
    "AR = 9 # aspect ratio - b/w\n",
    "w = 1e3   # width [mm]\n",
    "b = AR*w  # span [mm]\n",
    "non_dimensional_height = 0.2     # h/w\n",
    "h = w*non_dimensional_height     # box height [mm]\n",
    "non_dimensional_thickness = 1/50 # t/h\n",
    "t = h*non_dimensional_thickness  # shell thickness [mm]\n",
    "print(f'Box beam dimensions:\\n- width: {w/1e3:.1f} m\\n- semispan: {b/2/1e3:.1f} m\\n- height: {h/1e3:.1f} m\\n- wall thickness: {t:.1f} mm')"
   ],
   "metadata": {
    "collapsed": false,
    "pycharm": {
     "name": "#%%\n"
    }
   }
  },
  {
   "cell_type": "markdown",
   "source": [
    "### Material"
   ],
   "metadata": {
    "collapsed": false
   }
  },
  {
   "cell_type": "code",
   "execution_count": 16,
   "outputs": [],
   "source": [
    "rho = 2780e-12 # density [ton/mm^3]\n",
    "E = 73.1e3 # Young's modulus [MPa]\n",
    "nu = 0.3 # Poisson's ratio"
   ],
   "metadata": {
    "collapsed": false,
    "pycharm": {
     "name": "#%%\n"
    }
   }
  },
  {
   "cell_type": "markdown",
   "source": [
    "### Mesh\n",
    "Simple box beam without ribs."
   ],
   "metadata": {
    "collapsed": false
   }
  },
  {
   "cell_type": "code",
   "execution_count": 17,
   "outputs": [
    {
     "name": "stdout",
     "output_type": "stream",
     "text": [
      "---BDF Statistics---\n",
      "SOL None\n",
      "\n",
      "bdf.nodes\n",
      "  GRID     : 19600\n",
      "\n",
      "bdf.elements\n",
      "  CQUAD4   : 19500\n",
      "\n",
      "bdf.properties\n",
      "  PSHELL   : 1\n",
      "\n",
      "bdf.materials\n",
      "  MAT1     : 1\n",
      "\n",
      "\n"
     ]
    }
   ],
   "source": [
    "from resources import box_beam_utils\n",
    "element_size = 23 # [mm]\n",
    "box_beam_base_input, nodes_id_array, edge_indices, elements_id_array = box_beam_utils.create_mesh(E, nu, rho, t, w, b, h, element_size)\n",
    "print(box_beam_base_input.get_bdf_stats())"
   ],
   "metadata": {
    "collapsed": false,
    "pycharm": {
     "name": "#%%\n"
    }
   }
  },
  {
   "cell_type": "markdown",
   "source": [
    "### Boundary condition and load\n",
    "Boundary condition: clamped at the root."
   ],
   "metadata": {
    "collapsed": false
   }
  },
  {
   "cell_type": "code",
   "execution_count": 18,
   "outputs": [
    {
     "name": "stderr",
     "output_type": "stream",
     "text": [
      "subcase=0 already exists...skipping\n"
     ]
    }
   ],
   "source": [
    "# Add SPC1 card to bulk data\n",
    "constraint_set_id = 1\n",
    "root_nodes_ids = list(nodes_id_array[0,0:-2])\n",
    "box_beam_base_input.add_spc1(constraint_set_id, '123456', root_nodes_ids)\n",
    "# Select single point constraint in case control section\n",
    "box_beam_base_input.create_subcases(0)\n",
    "box_beam_base_input.case_control_deck.subcases[0].add_integer_type('SPC', constraint_set_id)"
   ],
   "metadata": {
    "collapsed": false,
    "pycharm": {
     "name": "#%%\n"
    }
   }
  },
  {
   "cell_type": "markdown",
   "source": [
    "Applied load: concentrated force applied at the center of the tip section, which is made rigid."
   ],
   "metadata": {
    "collapsed": false
   }
  },
  {
   "cell_type": "code",
   "execution_count": 19,
   "outputs": [
    {
     "data": {
      "text/plain": "FORCE          2   19601              1.      0.      0.      1."
     },
     "execution_count": 19,
     "metadata": {},
     "output_type": "execute_result"
    }
   ],
   "source": [
    "import numpy as np\n",
    "# Add master node of tip section\n",
    "master_node_id = np.amax(nodes_id_array)+1\n",
    "box_beam_base_input.add_grid(master_node_id, [w/2, b/2, 0.])\n",
    "# Add RBE2 element to make tip section rigid\n",
    "rbe2_element_id = len(box_beam_base_input.elements)+1\n",
    "tip_nodes_ids = list(nodes_id_array[-1,0:-2])\n",
    "box_beam_base_input.add_rbe2(rbe2_element_id, master_node_id, '123456', tip_nodes_ids)\n",
    "# Apply concentrated force to master node\n",
    "force_set_id = constraint_set_id+1\n",
    "force_magnitude = 1. # [N]\n",
    "force_direction = [0., 0., 1.]\n",
    "box_beam_base_input.add_force(sid=force_set_id, node=master_node_id, mag=force_magnitude, xyz=force_direction)"
   ],
   "metadata": {
    "collapsed": false,
    "pycharm": {
     "name": "#%%\n"
    }
   }
  },
  {
   "cell_type": "markdown",
   "source": [
    "Setup nonlinear analysis solution sequence."
   ],
   "metadata": {
    "collapsed": false
   }
  },
  {
   "cell_type": "code",
   "execution_count": 20,
   "outputs": [],
   "source": [
    "# Assign solution sequence\n",
    "box_beam_base_input.sol = 106\n",
    "# Add parameter for large displacement effects\n",
    "box_beam_base_input.add_param('LGDISP', [1])\n",
    "# Define general parameters for the nonlinear iteration strategy\n",
    "nlparm_id = 1\n",
    "box_beam_base_input.add_nlparm(nlparm_id=nlparm_id, kmethod='ITER', kstep=1, int_out='YES', conv='PW', eps_p=1e-2, eps_w=1e-2)\n",
    "# Define parameters for the arc-length method\n",
    "box_beam_base_input.add_nlpci(nlpci_id=nlparm_id, Type='CRIS', desiter=12, minalr=.25, maxalr=4.)\n",
    "# Add NLPARM id to the control case commands\n",
    "box_beam_base_input.case_control_deck.subcases[0].add_integer_type('NLPARM', nlparm_id)"
   ],
   "metadata": {
    "collapsed": false,
    "pycharm": {
     "name": "#%%\n"
    }
   }
  },
  {
   "cell_type": "markdown",
   "source": [
    "Setup buckling analysis parameters."
   ],
   "metadata": {
    "collapsed": false
   }
  },
  {
   "cell_type": "code",
   "execution_count": 21,
   "outputs": [],
   "source": [
    "box_beam_base_input.add_param('BUCKLE', [2])\n",
    "eigrl_set_id = force_set_id+1\n",
    "box_beam_base_input.add_eigrl(sid=eigrl_set_id, v1=0., nd=1)\n",
    "box_beam_base_input.case_control_deck.subcases[0].add_integer_type('METHOD', eigrl_set_id)"
   ],
   "metadata": {
    "collapsed": false,
    "pycharm": {
     "name": "#%%\n"
    }
   }
  },
  {
   "cell_type": "markdown",
   "source": [
    "Set output files."
   ],
   "metadata": {
    "collapsed": false
   }
  },
  {
   "cell_type": "code",
   "execution_count": 22,
   "outputs": [],
   "source": [
    "# Add PARAM card to store results in a op2 file\n",
    "box_beam_base_input.add_param('POST', [1])\n",
    "# Set defaults for output files\n",
    "box_beam_base_input.case_control_deck.subcases[0].add('ECHO', 'NONE', [], 'STRING-type') # request neither sorted nor unsorted Bulk Data to be printed\n",
    "box_beam_base_input.case_control_deck.subcases[0].add_result_type('DISPLACEMENT', 'ALL', ['PLOT']) # store displacement data of all nodes in the op2 file\n",
    "box_beam_base_input.case_control_deck.subcases[0].add_result_type('OLOAD', 'ALL', ['PLOT']) # store form and type of applied load vector"
   ],
   "metadata": {
    "collapsed": false,
    "pycharm": {
     "name": "#%%\n"
    }
   }
  },
  {
   "cell_type": "markdown",
   "source": [
    "Define subcases."
   ],
   "metadata": {
    "collapsed": false
   }
  },
  {
   "cell_type": "code",
   "source": [
    "from resources import pynastran_utils\n",
    "box_beam_verification_input = box_beam_base_input.__deepcopy__({})\n",
    "load_magnitudes = np.linspace(1, 3200, 10)\n",
    "np.set_printoptions(precision=0, suppress=True)\n",
    "print(f'Applied loads [N]: {load_magnitudes}')\n",
    "for i, scale_factor in enumerate(load_magnitudes):\n",
    "    load_set_id = 11+i\n",
    "    box_beam_verification_input.add_load(sid=load_set_id, scale=1., scale_factors=[scale_factor], load_ids=[force_set_id])\n",
    "    pynastran_utils.create_static_load_subcase(bdf_object=box_beam_verification_input, subcase_id=i+1, load_set_id=load_set_id)"
   ],
   "metadata": {
    "collapsed": false,
    "pycharm": {
     "name": "#%%\n"
    }
   },
   "execution_count": 23,
   "outputs": [
    {
     "name": "stdout",
     "output_type": "stream",
     "text": [
      "Applied loads [N]: [   1.  356.  712. 1067. 1423. 1778. 2134. 2489. 2845. 3200.]\n"
     ]
    }
   ]
  },
  {
   "cell_type": "markdown",
   "source": [
    "Run analysis."
   ],
   "metadata": {
    "collapsed": false
   }
  },
  {
   "cell_type": "code",
   "execution_count": 24,
   "outputs": [],
   "source": [
    "import os\n",
    "# Define name of analysis directory\n",
    "analysis_directory_name = '06_Nonlinear_Buckling_Method_Verification'\n",
    "analysis_directory_path = os.path.join(os.getcwd(), 'analyses', analysis_directory_name)\n",
    "# Run analysis\n",
    "input_filename = 'nonlinear_buckling_verification'\n",
    "pynastran_utils.run_analysis(directory_path=analysis_directory_path, bdf_object=box_beam_verification_input, bdf_filename=input_filename, run_flag=True)"
   ],
   "metadata": {
    "collapsed": false,
    "pycharm": {
     "name": "#%%\n"
    }
   }
  },
  {
   "cell_type": "markdown",
   "source": [
    "Read load displacement data and nonlinear buckling load for each load case."
   ],
   "metadata": {
    "collapsed": false
   }
  },
  {
   "cell_type": "code",
   "execution_count": 25,
   "outputs": [
    {
     "data": {
      "text/plain": "<IPython.core.display.HTML object>",
      "text/html": "<text style=color:green>INFO:    op2_scalar.py:1781           op2_filename = 'C:\\\\Users\\\\qa21944\\\\Git\\\\phd-jupyter-notebooks\\\\notebooks\\\\analyses\\\\06_Nonlinear_Buckling_Method_Verification\\\\nonlinear_buckling_verification.op2'\n</text>"
     },
     "metadata": {},
     "output_type": "display_data"
    },
    {
     "data": {
      "text/plain": "<IPython.core.display.HTML object>",
      "text/html": "<text style=color:orange>WARNING: subcase.py:683               nwords_to_lsem=1000 nwords_to_lsem//4=250\n</text>"
     },
     "metadata": {},
     "output_type": "display_data"
    },
    {
     "data": {
      "text/plain": "<IPython.core.display.HTML object>",
      "text/html": "<text style=color:orange>WARNING: subcase.py:683               nwords_to_lsem=1000 nwords_to_lsem//4=250\n</text>"
     },
     "metadata": {},
     "output_type": "display_data"
    },
    {
     "data": {
      "text/plain": "<IPython.core.display.HTML object>",
      "text/html": "<text style=color:orange>WARNING: subcase.py:683               nwords_to_lsem=1000 nwords_to_lsem//4=250\n</text>"
     },
     "metadata": {},
     "output_type": "display_data"
    },
    {
     "data": {
      "text/plain": "<IPython.core.display.HTML object>",
      "text/html": "<text style=color:orange>WARNING: subcase.py:683               nwords_to_lsem=1000 nwords_to_lsem//4=250\n</text>"
     },
     "metadata": {},
     "output_type": "display_data"
    },
    {
     "data": {
      "text/plain": "<IPython.core.display.HTML object>",
      "text/html": "<text style=color:orange>WARNING: subcase.py:683               nwords_to_lsem=1000 nwords_to_lsem//4=250\n</text>"
     },
     "metadata": {},
     "output_type": "display_data"
    },
    {
     "data": {
      "text/plain": "<IPython.core.display.HTML object>",
      "text/html": "<text style=color:orange>WARNING: subcase.py:683               nwords_to_lsem=1000 nwords_to_lsem//4=250\n</text>"
     },
     "metadata": {},
     "output_type": "display_data"
    },
    {
     "data": {
      "text/plain": "<IPython.core.display.HTML object>",
      "text/html": "<text style=color:orange>WARNING: subcase.py:683               nwords_to_lsem=1000 nwords_to_lsem//4=250\n</text>"
     },
     "metadata": {},
     "output_type": "display_data"
    },
    {
     "data": {
      "text/plain": "<IPython.core.display.HTML object>",
      "text/html": "<text style=color:orange>WARNING: subcase.py:683               nwords_to_lsem=1000 nwords_to_lsem//4=250\n</text>"
     },
     "metadata": {},
     "output_type": "display_data"
    },
    {
     "data": {
      "text/plain": "<IPython.core.display.HTML object>",
      "text/html": "<text style=color:orange>WARNING: subcase.py:683               nwords_to_lsem=1000 nwords_to_lsem//4=250\n</text>"
     },
     "metadata": {},
     "output_type": "display_data"
    },
    {
     "data": {
      "text/plain": "<IPython.core.display.HTML object>",
      "text/html": "<text style=color:orange>WARNING: subcase.py:683               nwords_to_lsem=1000 nwords_to_lsem//4=250\n</text>"
     },
     "metadata": {},
     "output_type": "display_data"
    },
    {
     "data": {
      "text/plain": "<IPython.core.display.HTML object>",
      "text/html": "<text style=color:orange>WARNING: subcase.py:683               nwords_to_lsem=1000 nwords_to_lsem//4=250\n</text>"
     },
     "metadata": {},
     "output_type": "display_data"
    },
    {
     "data": {
      "text/plain": "<IPython.core.display.HTML object>",
      "text/html": "<text style=color:orange>WARNING: subcase.py:683               nwords_to_lsem=1000 nwords_to_lsem//4=250\n</text>"
     },
     "metadata": {},
     "output_type": "display_data"
    },
    {
     "data": {
      "text/plain": "<IPython.core.display.HTML object>",
      "text/html": "<text style=color:orange>WARNING: subcase.py:683               nwords_to_lsem=1000 nwords_to_lsem//4=250\n</text>"
     },
     "metadata": {},
     "output_type": "display_data"
    },
    {
     "data": {
      "text/plain": "<IPython.core.display.HTML object>",
      "text/html": "<text style=color:orange>WARNING: subcase.py:683               nwords_to_lsem=1000 nwords_to_lsem//4=250\n</text>"
     },
     "metadata": {},
     "output_type": "display_data"
    },
    {
     "data": {
      "text/plain": "<IPython.core.display.HTML object>",
      "text/html": "<text style=color:orange>WARNING: subcase.py:683               nwords_to_lsem=1000 nwords_to_lsem//4=250\n</text>"
     },
     "metadata": {},
     "output_type": "display_data"
    },
    {
     "data": {
      "text/plain": "<IPython.core.display.HTML object>",
      "text/html": "<text style=color:orange>WARNING: subcase.py:683               nwords_to_lsem=1000 nwords_to_lsem//4=250\n</text>"
     },
     "metadata": {},
     "output_type": "display_data"
    },
    {
     "data": {
      "text/plain": "<IPython.core.display.HTML object>",
      "text/html": "<text style=color:orange>WARNING: subcase.py:683               nwords_to_lsem=1000 nwords_to_lsem//4=250\n</text>"
     },
     "metadata": {},
     "output_type": "display_data"
    },
    {
     "data": {
      "text/plain": "<IPython.core.display.HTML object>",
      "text/html": "<text style=color:orange>WARNING: subcase.py:683               nwords_to_lsem=1000 nwords_to_lsem//4=250\n</text>"
     },
     "metadata": {},
     "output_type": "display_data"
    },
    {
     "data": {
      "text/plain": "<IPython.core.display.HTML object>",
      "text/html": "<text style=color:orange>WARNING: subcase.py:683               nwords_to_lsem=1000 nwords_to_lsem//4=250\n</text>"
     },
     "metadata": {},
     "output_type": "display_data"
    },
    {
     "data": {
      "text/plain": "<IPython.core.display.HTML object>",
      "text/html": "<text style=color:orange>WARNING: subcase.py:683               nwords_to_lsem=1000 nwords_to_lsem//4=250\n</text>"
     },
     "metadata": {},
     "output_type": "display_data"
    }
   ],
   "source": [
    "# Import function to read op2 file\n",
    "from pyNastran.op2.op2 import read_op2\n",
    "# Read op2 file\n",
    "op2_filepath = os.path.join(analysis_directory_path, input_filename + '.op2')\n",
    "op2_output = read_op2(op2_filename=op2_filepath, debug=False)\n",
    "# Find load and displacement history\n",
    "load_steps, loads, displacements = pynastran_utils.read_load_displacement_history_from_op2(op2_object=op2_output, displacement_node_id=master_node_id)\n",
    "# Find nonlinear buckling loads and critical buckling factors\n",
    "nonlinear_buckling_loads, critical_buckling_factors = pynastran_utils.read_nonlinear_buckling_load_from_f06(f06_filepath=os.path.join(analysis_directory_path, input_filename + '.f06'), op2_object=op2_output)"
   ],
   "metadata": {
    "collapsed": false,
    "pycharm": {
     "name": "#%%\n"
    }
   }
  },
  {
   "cell_type": "markdown",
   "source": [
    "Plot results"
   ],
   "metadata": {
    "collapsed": false
   }
  },
  {
   "cell_type": "code",
   "execution_count": 26,
   "outputs": [
    {
     "data": {
      "text/plain": "<Figure size 900x600 with 3 Axes>",
      "image/png": "[encoded data removed]"
     },
     "metadata": {
      "needs_background": "light"
     },
     "output_type": "display_data"
    }
   ],
   "source": [
    "import matplotlib.pyplot as plt  # plotting library\n",
    "# Set default dpi of figures\n",
    "plt.rcParams['figure.dpi'] = 150\n",
    "# Collect loads and displacements of interest\n",
    "load_history = np.concatenate([loads[subcase_id][:,2] for subcase_id in loads])\n",
    "displacement_history = np.concatenate([displacements[subcase_id][:,2] for subcase_id in displacements])\n",
    "# Create figure with subplots\n",
    "fig, axs = plt.subplots(nrows=3, ncols=1, sharex='all')\n",
    "# Plot critical buckling factors vs applied loads\n",
    "axs[0].plot(load_magnitudes[2:], critical_buckling_factors[2:], '.-')\n",
    "reference, = axs[0].plot(load_magnitudes, [1]*len(load_magnitudes), '--k', label='$\\\\alpha=1$')\n",
    "# Plot nonlinear buckling loads vs applied loads\n",
    "axs[1].plot(load_magnitudes, nonlinear_buckling_loads, '.-')\n",
    "# Plot load-displacement diagram\n",
    "axs[2].plot(load_history[load_history>=load_magnitudes[0]], displacement_history[load_history>=load_magnitudes[0]], '.-')\n",
    "# Set plot appearance\n",
    "axs[0].set_ylabel('ALPHA')\n",
    "axs[0].grid(visible=True)\n",
    "axs[0].legend(handles=[reference])\n",
    "axs[1].set_ylabel('Buckling load [N]')\n",
    "axs[1].grid(visible=True)\n",
    "axs[2].set_xlabel('Applied load [N]')\n",
    "axs[2].set_ylabel('Displacement [mm]')\n",
    "axs[2].grid(visible=True)\n",
    "# Show plot\n",
    "plt.show()"
   ],
   "metadata": {
    "collapsed": false,
    "pycharm": {
     "name": "#%%\n"
    }
   }
  },
  {
   "cell_type": "markdown",
   "source": [
    "Let's zoom in where applied load vs buckling load curve changes slope."
   ],
   "metadata": {
    "collapsed": false
   }
  },
  {
   "cell_type": "code",
   "execution_count": 27,
   "outputs": [
    {
     "name": "stdout",
     "output_type": "stream",
     "text": [
      "Applied loads [N]: [1400. 1444. 1489. 1533. 1578. 1622. 1667. 1711. 1756. 1800.]\n"
     ]
    }
   ],
   "source": [
    "# Define applied loads\n",
    "load_magnitudes = np.linspace(1400, 1800, 10)\n",
    "print(f'Applied loads [N]: {load_magnitudes}')\n",
    "for i, scale_factor in enumerate(load_magnitudes):\n",
    "    load_set_id = 11+i\n",
    "    box_beam_verification_input.load_combinations[load_set_id][0].scale_factors = [scale_factor]\n",
    "# Run analysis\n",
    "input_filename = 'nonlinear_buckling_verification_zoomed'\n",
    "pynastran_utils.run_analysis(directory_path=analysis_directory_path, bdf_object=box_beam_verification_input, bdf_filename=input_filename, run_flag=True)"
   ],
   "metadata": {
    "collapsed": false,
    "pycharm": {
     "name": "#%%\n"
    }
   }
  },
  {
   "cell_type": "markdown",
   "source": [
    "Plot results"
   ],
   "metadata": {
    "collapsed": false
   }
  },
  {
   "cell_type": "code",
   "execution_count": 28,
   "outputs": [
    {
     "data": {
      "text/plain": "<IPython.core.display.HTML object>",
      "text/html": "<text style=color:green>INFO:    op2_scalar.py:1781           op2_filename = 'C:\\\\Users\\\\qa21944\\\\Git\\\\phd-jupyter-notebooks\\\\notebooks\\\\analyses\\\\06_Nonlinear_Buckling_Method_Verification\\\\nonlinear_buckling_verification_zoomed.op2'\n</text>"
     },
     "metadata": {},
     "output_type": "display_data"
    },
    {
     "data": {
      "text/plain": "<IPython.core.display.HTML object>",
      "text/html": "<text style=color:orange>WARNING: subcase.py:683               nwords_to_lsem=1000 nwords_to_lsem//4=250\n</text>"
     },
     "metadata": {},
     "output_type": "display_data"
    },
    {
     "data": {
      "text/plain": "<IPython.core.display.HTML object>",
      "text/html": "<text style=color:orange>WARNING: subcase.py:683               nwords_to_lsem=1000 nwords_to_lsem//4=250\n</text>"
     },
     "metadata": {},
     "output_type": "display_data"
    },
    {
     "data": {
      "text/plain": "<IPython.core.display.HTML object>",
      "text/html": "<text style=color:orange>WARNING: subcase.py:683               nwords_to_lsem=1000 nwords_to_lsem//4=250\n</text>"
     },
     "metadata": {},
     "output_type": "display_data"
    },
    {
     "data": {
      "text/plain": "<IPython.core.display.HTML object>",
      "text/html": "<text style=color:orange>WARNING: subcase.py:683               nwords_to_lsem=1000 nwords_to_lsem//4=250\n</text>"
     },
     "metadata": {},
     "output_type": "display_data"
    },
    {
     "data": {
      "text/plain": "<IPython.core.display.HTML object>",
      "text/html": "<text style=color:orange>WARNING: subcase.py:683               nwords_to_lsem=1000 nwords_to_lsem//4=250\n</text>"
     },
     "metadata": {},
     "output_type": "display_data"
    },
    {
     "data": {
      "text/plain": "<IPython.core.display.HTML object>",
      "text/html": "<text style=color:orange>WARNING: subcase.py:683               nwords_to_lsem=1000 nwords_to_lsem//4=250\n</text>"
     },
     "metadata": {},
     "output_type": "display_data"
    },
    {
     "data": {
      "text/plain": "<IPython.core.display.HTML object>",
      "text/html": "<text style=color:orange>WARNING: subcase.py:683               nwords_to_lsem=1000 nwords_to_lsem//4=250\n</text>"
     },
     "metadata": {},
     "output_type": "display_data"
    },
    {
     "data": {
      "text/plain": "<IPython.core.display.HTML object>",
      "text/html": "<text style=color:orange>WARNING: subcase.py:683               nwords_to_lsem=1000 nwords_to_lsem//4=250\n</text>"
     },
     "metadata": {},
     "output_type": "display_data"
    },
    {
     "data": {
      "text/plain": "<IPython.core.display.HTML object>",
      "text/html": "<text style=color:orange>WARNING: subcase.py:683               nwords_to_lsem=1000 nwords_to_lsem//4=250\n</text>"
     },
     "metadata": {},
     "output_type": "display_data"
    },
    {
     "data": {
      "text/plain": "<IPython.core.display.HTML object>",
      "text/html": "<text style=color:orange>WARNING: subcase.py:683               nwords_to_lsem=1000 nwords_to_lsem//4=250\n</text>"
     },
     "metadata": {},
     "output_type": "display_data"
    },
    {
     "data": {
      "text/plain": "<IPython.core.display.HTML object>",
      "text/html": "<text style=color:orange>WARNING: subcase.py:683               nwords_to_lsem=1000 nwords_to_lsem//4=250\n</text>"
     },
     "metadata": {},
     "output_type": "display_data"
    },
    {
     "data": {
      "text/plain": "<IPython.core.display.HTML object>",
      "text/html": "<text style=color:orange>WARNING: subcase.py:683               nwords_to_lsem=1000 nwords_to_lsem//4=250\n</text>"
     },
     "metadata": {},
     "output_type": "display_data"
    },
    {
     "data": {
      "text/plain": "<IPython.core.display.HTML object>",
      "text/html": "<text style=color:orange>WARNING: subcase.py:683               nwords_to_lsem=1000 nwords_to_lsem//4=250\n</text>"
     },
     "metadata": {},
     "output_type": "display_data"
    },
    {
     "data": {
      "text/plain": "<IPython.core.display.HTML object>",
      "text/html": "<text style=color:orange>WARNING: subcase.py:683               nwords_to_lsem=1000 nwords_to_lsem//4=250\n</text>"
     },
     "metadata": {},
     "output_type": "display_data"
    },
    {
     "data": {
      "text/plain": "<IPython.core.display.HTML object>",
      "text/html": "<text style=color:orange>WARNING: subcase.py:683               nwords_to_lsem=1000 nwords_to_lsem//4=250\n</text>"
     },
     "metadata": {},
     "output_type": "display_data"
    },
    {
     "data": {
      "text/plain": "<IPython.core.display.HTML object>",
      "text/html": "<text style=color:orange>WARNING: subcase.py:683               nwords_to_lsem=1000 nwords_to_lsem//4=250\n</text>"
     },
     "metadata": {},
     "output_type": "display_data"
    },
    {
     "data": {
      "text/plain": "<IPython.core.display.HTML object>",
      "text/html": "<text style=color:orange>WARNING: subcase.py:683               nwords_to_lsem=1000 nwords_to_lsem//4=250\n</text>"
     },
     "metadata": {},
     "output_type": "display_data"
    },
    {
     "data": {
      "text/plain": "<IPython.core.display.HTML object>",
      "text/html": "<text style=color:orange>WARNING: subcase.py:683               nwords_to_lsem=1000 nwords_to_lsem//4=250\n</text>"
     },
     "metadata": {},
     "output_type": "display_data"
    },
    {
     "data": {
      "text/plain": "<IPython.core.display.HTML object>",
      "text/html": "<text style=color:orange>WARNING: subcase.py:683               nwords_to_lsem=1000 nwords_to_lsem//4=250\n</text>"
     },
     "metadata": {},
     "output_type": "display_data"
    },
    {
     "data": {
      "text/plain": "<IPython.core.display.HTML object>",
      "text/html": "<text style=color:orange>WARNING: subcase.py:683               nwords_to_lsem=1000 nwords_to_lsem//4=250\n</text>"
     },
     "metadata": {},
     "output_type": "display_data"
    },
    {
     "data": {
      "text/plain": "<Figure size 900x600 with 3 Axes>",
      "image/png": "[encoded data removed]"
     },
     "metadata": {
      "needs_background": "light"
     },
     "output_type": "display_data"
    }
   ],
   "source": [
    "# Read op2 file\n",
    "op2_filepath = os.path.join(analysis_directory_path, input_filename + '.op2')\n",
    "op2_output = read_op2(op2_filename=op2_filepath, debug=False)\n",
    "# Find load and displacement history\n",
    "load_steps, loads, displacements = pynastran_utils.read_load_displacement_history_from_op2(op2_object=op2_output, displacement_node_id=master_node_id)\n",
    "# Find nonlinear buckling loads and critical buckling factors\n",
    "nonlinear_buckling_loads, critical_buckling_factors = pynastran_utils.read_nonlinear_buckling_load_from_f06(f06_filepath=os.path.join(analysis_directory_path, input_filename + '.f06'), op2_object=op2_output)\n",
    "# Collect loads and displacements of interest\n",
    "load_history = np.concatenate([loads[subcase_id][:,2] for subcase_id in loads])\n",
    "displacement_history = np.concatenate([displacements[subcase_id][:,2] for subcase_id in displacements])\n",
    "# Create figure with subplots\n",
    "fig, axs = plt.subplots(nrows=3, ncols=1, sharex='all')\n",
    "# Plot critical buckling factors vs applied loads\n",
    "axs[0].plot(load_magnitudes, critical_buckling_factors, '.-')\n",
    "reference, = axs[0].plot(load_magnitudes, [1]*len(load_magnitudes), '--k', label='$\\\\alpha=1$')\n",
    "# Plot nonlinear buckling loads vs applied loads\n",
    "axs[1].plot(load_magnitudes, nonlinear_buckling_loads, '.-')\n",
    "# Plot load-displacement diagram\n",
    "axs[2].plot(load_history[load_history>=load_magnitudes[0]], displacement_history[load_history>=load_magnitudes[0]], '.-')\n",
    "# Set plot appearance\n",
    "axs[0].set_ylabel('ALPHA')\n",
    "axs[0].grid(visible=True)\n",
    "axs[0].legend(handles=[reference])\n",
    "axs[1].set_ylabel('Buckling load [N]')\n",
    "axs[1].grid(visible=True)\n",
    "axs[2].set_xlabel('Applied load [N]')\n",
    "axs[2].set_ylabel('Displacement [mm]')\n",
    "axs[2].grid(visible=True)\n",
    "# Show plot\n",
    "plt.show()"
   ],
   "metadata": {
    "collapsed": false,
    "pycharm": {
     "name": "#%%\n"
    }
   }
  },
  {
   "cell_type": "markdown",
   "source": [
    "Let's apply a load of 1800 N and monitor the definiteness of the tangent stiffness matrix."
   ],
   "metadata": {
    "collapsed": false
   }
  },
  {
   "cell_type": "code",
   "execution_count": 29,
   "outputs": [],
   "source": [
    "box_beam_tangent_stiffness_matrix_input = box_beam_base_input.__deepcopy__({})\n",
    "box_beam_tangent_stiffness_matrix_input.executive_control_lines[1:1] = ['include \\'' + os.path.join(os.pardir, os.pardir, 'resources', 'kllrh_lowest_eigv.dmap') + '\\'']  # include DMAP sequence\n",
    "nlparm_id = 2\n",
    "box_beam_tangent_stiffness_matrix_input.add_nlparm(nlparm_id, ninc=200, kmethod='ITER', kstep=1, max_iter=25, conv='PUV', int_out='YES', eps_p=1e-3, eps_u=1e-3, max_bisect=10)\n",
    "box_beam_tangent_stiffness_matrix_input.add_nlpci(nlparm_id, Type='CRIS', minalr=.01, maxalr=2., desiter=2, mxinc=1000)\n",
    "box_beam_tangent_stiffness_matrix_input.case_control_deck.subcases[0].params['NLPARM'][0] = nlparm_id\n",
    "force_magnitude = 1800\n",
    "box_beam_tangent_stiffness_matrix_input.loads[force_set_id][0].mag = force_magnitude\n",
    "first_subcase_id = 1\n",
    "pynastran_utils.create_static_load_subcase(bdf_object=box_beam_tangent_stiffness_matrix_input, subcase_id=first_subcase_id, load_set_id=force_set_id)\n",
    "# Define name of analysis directory\n",
    "input_filename = 'tangent_stiffness_matrix'\n",
    "# Run analysis\n",
    "pynastran_utils.run_analysis(directory_path=analysis_directory_path, bdf_object=box_beam_tangent_stiffness_matrix_input, bdf_filename=input_filename, run_flag=True)"
   ],
   "metadata": {
    "collapsed": false,
    "pycharm": {
     "name": "#%%\n"
    }
   }
  },
  {
   "cell_type": "code",
   "execution_count": 30,
   "outputs": [
    {
     "data": {
      "text/plain": "<IPython.core.display.HTML object>",
      "text/html": "<text style=color:green>INFO:    op2_scalar.py:1781           op2_filename = 'C:\\\\Users\\\\qa21944\\\\Git\\\\phd-jupyter-notebooks\\\\notebooks\\\\analyses\\\\06_Nonlinear_Buckling_Method_Verification\\\\tangent_stiffness_matrix.op2'\n</text>"
     },
     "metadata": {},
     "output_type": "display_data"
    },
    {
     "data": {
      "text/plain": "<IPython.core.display.HTML object>",
      "text/html": "<text style=color:orange>WARNING: subcase.py:683               nwords_to_lsem=1000 nwords_to_lsem//4=250\n</text>"
     },
     "metadata": {},
     "output_type": "display_data"
    },
    {
     "data": {
      "text/plain": "<IPython.core.display.HTML object>",
      "text/html": "<text style=color:orange>WARNING: subcase.py:683               nwords_to_lsem=1000 nwords_to_lsem//4=250\n</text>"
     },
     "metadata": {},
     "output_type": "display_data"
    },
    {
     "data": {
      "text/plain": "<Figure size 900x600 with 1 Axes>",
      "image/png": "[encoded data removed]"
     },
     "metadata": {
      "needs_background": "light"
     },
     "output_type": "display_data"
    }
   ],
   "source": [
    "# Read OP2 file and find applied load history\n",
    "op2_filepath = os.path.join(analysis_directory_path, input_filename + '.op2')\n",
    "op2_output = read_op2(op2_filename=op2_filepath, debug=False)\n",
    "_, load_history, _ = pynastran_utils.read_load_displacement_history_from_op2(op2_object=op2_output)\n",
    "applied_load_history = [*load_history.values()][0][:,2]\n",
    "# Read the lowest eigenvalue of KLLRH matrices from f06 file\n",
    "f06_filepath = os.path.join(analysis_directory_path, input_filename + '.f06')  # path to .f06 file\n",
    "lowest_eigenvalues = pynastran_utils.read_kllrh_lowest_eigenvalues_from_f06(f06_filepath)\n",
    "# Create new figure and plot load history vs lowest eigenvalues\n",
    "_, ax = plt.subplots()\n",
    "ax.plot(applied_load_history, lowest_eigenvalues, '.-')\n",
    "plt.xlabel('Applied load [N]')\n",
    "plt.ylabel('Lowest eigenvalue')\n",
    "plt.grid()\n",
    "plt.show()"
   ],
   "metadata": {
    "collapsed": false,
    "pycharm": {
     "name": "#%%\n"
    }
   }
  },
  {
   "cell_type": "code",
   "execution_count": 30,
   "outputs": [],
   "source": [],
   "metadata": {
    "collapsed": false,
    "pycharm": {
     "name": "#%%\n"
    }
   }
  }
 ],
 "metadata": {
  "kernelspec": {
   "display_name": "Python 3",
   "language": "python",
   "name": "python3"
  },
  "language_info": {
   "codemirror_mode": {
    "name": "ipython",
    "version": 2
   },
   "file_extension": ".py",
   "mimetype": "text/x-python",
   "name": "python",
   "nbconvert_exporter": "python",
   "pygments_lexer": "ipython2",
   "version": "2.7.6"
  }
 },
 "nbformat": 4,
 "nbformat_minor": 0
}