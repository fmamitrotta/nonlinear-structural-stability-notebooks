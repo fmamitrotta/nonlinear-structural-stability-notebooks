{
 "cells": [
  {
   "cell_type": "raw",
   "metadata": {
    "collapsed": true,
    "pycharm": {
     "name": "#%% raw\n"
    }
   },
   "source": [
    "This notebook is made available under the GNU General Public License v3.0. (c) Francesco Mario Antonio Mitrotta 2022."
   ]
  },
  {
   "cell_type": "markdown",
   "metadata": {
    "pycharm": {
     "name": "#%% md\n"
    }
   },
   "source": [
    "# Nonlinear Buckling of a Box Beam Reinforced with Ribs\n",
    "\n",
    "***\n",
    "\n"
   ]
  },
  {
   "cell_type": "markdown",
   "metadata": {},
   "source": [
    "Define geometry."
   ]
  },
  {
   "cell_type": "code",
   "execution_count": 1,
   "metadata": {
    "pycharm": {
     "name": "#%%\n"
    }
   },
   "outputs": [
    {
     "name": "stdout",
     "output_type": "stream",
     "text": [
      "Box beam dimensions:\n",
      "- width: 1.0 m\n",
      "- span: 6.8 m\n",
      "- height: 0.2 m\n",
      "- wall thickness: 4.0 mm\n"
     ]
    }
   ],
   "source": [
    "AR = 13.5   # aspect ratio - 2*b/w (the span of the box beam corresponds to half the span of the CRM wing)\n",
    "w = 1e3   # width [mm]\n",
    "b = AR*w/2  # span [mm]\n",
    "non_dimensional_height = 0.2  # h/w\n",
    "h = w*non_dimensional_height  # box height [mm]\n",
    "non_dimensional_thickness = 1/50  # t/h\n",
    "t = h*non_dimensional_thickness   # shell thickness [mm]\n",
    "print(f'Box beam dimensions:\\n- width: {w/1e3:.1f} m\\n- span: {b/1e3:.1f} m\\n- height: {h/1e3:.1f} m\\n- wall thickness: {t:.1f} mm')"
   ]
  },
  {
   "cell_type": "markdown",
   "metadata": {},
   "source": [
    "Test pyvista."
   ]
  },
  {
   "cell_type": "code",
   "execution_count": 5,
   "metadata": {
    "pycharm": {
     "name": "#%%\n"
    }
   },
   "outputs": [
    {
     "data": {
      "application/vnd.jupyter.widget-view+json": {
       "model_id": "d3916272c69c4f69b34d7d5c21515329",
       "version_major": 2,
       "version_minor": 0
      },
      "text/plain": [
       "ViewInteractiveWidget(height=768, layout=Layout(height='auto', width='100%'), width=1024)"
      ]
     },
     "metadata": {},
     "output_type": "display_data"
    }
   ],
   "source": [
    "import pyvista\n",
    "shell_linear_size = 100  # [mm]\n",
    "top_skin_mesh = pyvista.Plane(center=[w/2, b/2, h/2], direction=[0, 0, 1], i_size=w, j_size=b, i_resolution=round(w/shell_linear_size/2)*2, j_resolution=round(b/shell_linear_size/2)*2)\n",
    "bottom_skin_mesh = pyvista.Plane(center=[w/2, b/2, -h/2], direction=[0, 0, -1], i_size=w, j_size=b, i_resolution=round(w/shell_linear_size/2)*2, j_resolution=round(b/shell_linear_size/2)*2)\n",
    "front_spar_mesh = pyvista.Plane(center=[0, b/2, 0], direction=[-1, 0, 0], i_size=h, j_size=b, i_resolution=round(h/shell_linear_size/2)*2, j_resolution=round(b/shell_linear_size/2)*2)\n",
    "rear_spar_mesh = pyvista.Plane(center=[w, b/2, 0], direction=[1, 0, 0], i_size=h, j_size=b, i_resolution=round(h/shell_linear_size/2)*2, j_resolution=round(b/shell_linear_size/2)*2)\n",
    "merged = top_skin_mesh.merge([rear_spar_mesh])\n",
    "merged.plot()"
   ]
  },
  {
   "cell_type": "markdown",
   "metadata": {},
   "source": [
    "Define material properties."
   ]
  },
  {
   "cell_type": "code",
   "execution_count": 46,
   "metadata": {
    "pycharm": {
     "name": "#%%\n"
    }
   },
   "outputs": [],
   "source": [
    "rho = 2780e-12  # density [ton/mm^3]\n",
    "E = 73.1e3  # Young's modulus [MPa]\n",
    "nu = 0.3  # Poisson's ratio"
   ]
  },
  {
   "cell_type": "markdown",
   "metadata": {},
   "source": [
    "Create base bdf input."
   ]
  },
  {
   "cell_type": "code",
   "execution_count": 47,
   "metadata": {
    "pycharm": {
     "name": "#%%\n"
    }
   },
   "outputs": [
    {
     "name": "stderr",
     "output_type": "stream",
     "text": [
      "subcase=0 already exists...skipping\n"
     ]
    }
   ],
   "source": [
    "from resources import box_beam_utils\n",
    "shell_linear_size = 23  # [mm]\n",
    "box_beam_bdf_input, nodes_id_array, edge_indices = box_beam_utils.create_base_bdf_input(young_modulus=E, poisson_ratio=nu, density=rho, shell_thickness=t, width=w, span=b, height=h, cquad4_length=shell_linear_size)[0:3]"
   ]
  },
  {
   "cell_type": "markdown",
   "metadata": {},
   "source": [
    "Define ribs spacing and add ribs."
   ]
  },
  {
   "cell_type": "code",
   "execution_count": 48,
   "metadata": {
    "pycharm": {
     "name": "#%%\n"
    }
   },
   "outputs": [
    {
     "ename": "DuplicateIDsError",
     "evalue": "self.elements IDs are not unique=[29200]\nold_element=\nCQUAD4     29200       1   29299   29300     293     292\n\nnew_elements=\nCQUAD4     29200       1     293   29300   37829     586\n\n",
     "output_type": "error",
     "traceback": [
      "\u001b[1;31m---------------------------------------------------------------------------\u001b[0m",
      "\u001b[1;31mDuplicateIDsError\u001b[0m                         Traceback (most recent call last)",
      "\u001b[1;32m~\\AppData\\Local\\Temp/ipykernel_10380/2912058984.py\u001b[0m in \u001b[0;36m<module>\u001b[1;34m\u001b[0m\n\u001b[0;32m     48\u001b[0m \u001b[0mribs_y_coordinates\u001b[0m \u001b[1;33m=\u001b[0m \u001b[0mnp\u001b[0m\u001b[1;33m.\u001b[0m\u001b[0mlinspace\u001b[0m\u001b[1;33m(\u001b[0m\u001b[1;36m0\u001b[0m\u001b[1;33m,\u001b[0m \u001b[0mb\u001b[0m\u001b[1;33m,\u001b[0m \u001b[0mno_ribs\u001b[0m\u001b[1;33m+\u001b[0m\u001b[1;36m1\u001b[0m\u001b[1;33m)\u001b[0m\u001b[1;33m[\u001b[0m\u001b[1;36m1\u001b[0m\u001b[1;33m:\u001b[0m\u001b[1;33m]\u001b[0m\u001b[1;33m\u001b[0m\u001b[1;33m\u001b[0m\u001b[0m\n\u001b[0;32m     49\u001b[0m \u001b[1;31m# Add ribs at nodes closest to prescribed position\u001b[0m\u001b[1;33m\u001b[0m\u001b[1;33m\u001b[0m\u001b[1;33m\u001b[0m\u001b[0m\n\u001b[1;32m---> 50\u001b[1;33m \u001b[0madd_rib\u001b[0m\u001b[1;33m(\u001b[0m\u001b[0mbox_beam_bdf_input\u001b[0m\u001b[1;33m,\u001b[0m \u001b[0mnodes_id_array\u001b[0m\u001b[1;33m,\u001b[0m \u001b[0medge_indices\u001b[0m\u001b[1;33m,\u001b[0m \u001b[0mribs_y_coordinates\u001b[0m\u001b[1;33m)\u001b[0m\u001b[1;33m\u001b[0m\u001b[1;33m\u001b[0m\u001b[0m\n\u001b[0m",
      "\u001b[1;32m~\\AppData\\Local\\Temp/ipykernel_10380/2912058984.py\u001b[0m in \u001b[0;36madd_rib\u001b[1;34m(bdf_object, nodes_id_array, edge_indices, ribs_y_coordinates)\u001b[0m\n\u001b[0;32m     35\u001b[0m     \u001b[1;32mfor\u001b[0m \u001b[0mcol\u001b[0m \u001b[1;32min\u001b[0m \u001b[0mrange\u001b[0m\u001b[1;33m(\u001b[0m\u001b[0mnp\u001b[0m\u001b[1;33m.\u001b[0m\u001b[0msize\u001b[0m\u001b[1;33m(\u001b[0m\u001b[0mrib_nodes_id_array\u001b[0m\u001b[1;33m,\u001b[0m \u001b[1;36m1\u001b[0m\u001b[1;33m)\u001b[0m \u001b[1;33m-\u001b[0m \u001b[1;36m1\u001b[0m\u001b[1;33m)\u001b[0m\u001b[1;33m:\u001b[0m\u001b[1;33m\u001b[0m\u001b[1;33m\u001b[0m\u001b[0m\n\u001b[0;32m     36\u001b[0m         \u001b[1;32mfor\u001b[0m \u001b[0mrow\u001b[0m \u001b[1;32min\u001b[0m \u001b[0mrange\u001b[0m\u001b[1;33m(\u001b[0m\u001b[0mnp\u001b[0m\u001b[1;33m.\u001b[0m\u001b[0msize\u001b[0m\u001b[1;33m(\u001b[0m\u001b[0mrib_nodes_id_array\u001b[0m\u001b[1;33m,\u001b[0m \u001b[1;36m0\u001b[0m\u001b[1;33m)\u001b[0m \u001b[1;33m-\u001b[0m \u001b[1;36m1\u001b[0m\u001b[1;33m)\u001b[0m\u001b[1;33m:\u001b[0m\u001b[1;33m\u001b[0m\u001b[1;33m\u001b[0m\u001b[0m\n\u001b[1;32m---> 37\u001b[1;33m             bdf_object.add_cquad4(eid=last_element_id + col * np.size(elements_id_array, 0) + row,\n\u001b[0m\u001b[0;32m     38\u001b[0m                                   pid= property_id, nids=[rib_nodes_id_array[row, col],\n\u001b[0;32m     39\u001b[0m                                                           \u001b[0mrib_nodes_id_array\u001b[0m\u001b[1;33m[\u001b[0m\u001b[0mrow\u001b[0m \u001b[1;33m+\u001b[0m \u001b[1;36m1\u001b[0m\u001b[1;33m,\u001b[0m \u001b[0mcol\u001b[0m\u001b[1;33m]\u001b[0m\u001b[1;33m,\u001b[0m\u001b[1;33m\u001b[0m\u001b[1;33m\u001b[0m\u001b[0m\n",
      "\u001b[1;32mc:\\users\\qa21944\\git\\pynastran\\pyNastran\\bdf\\bdf_interface\\add_card.py\u001b[0m in \u001b[0;36madd_cquad4\u001b[1;34m(self, eid, pid, nids, theta_mcid, zoffset, tflag, T1, T2, T3, T4, comment)\u001b[0m\n\u001b[0;32m   2837\u001b[0m         elem = CQUAD4(eid, pid, nids, theta_mcid=theta_mcid, zoffset=zoffset,\n\u001b[0;32m   2838\u001b[0m                       tflag=tflag, T1=T1, T2=T2, T3=T3, T4=T4, comment=comment)\n\u001b[1;32m-> 2839\u001b[1;33m         \u001b[0mself\u001b[0m\u001b[1;33m.\u001b[0m\u001b[0m_add_methods\u001b[0m\u001b[1;33m.\u001b[0m\u001b[0m_add_element_object\u001b[0m\u001b[1;33m(\u001b[0m\u001b[0melem\u001b[0m\u001b[1;33m)\u001b[0m\u001b[1;33m\u001b[0m\u001b[1;33m\u001b[0m\u001b[0m\n\u001b[0m\u001b[0;32m   2840\u001b[0m         \u001b[1;32mreturn\u001b[0m \u001b[0melem\u001b[0m\u001b[1;33m\u001b[0m\u001b[1;33m\u001b[0m\u001b[0m\n\u001b[0;32m   2841\u001b[0m \u001b[1;33m\u001b[0m\u001b[0m\n",
      "\u001b[1;32mc:\\users\\qa21944\\git\\pynastran\\pyNastran\\bdf\\bdf_interface\\add_methods.py\u001b[0m in \u001b[0;36m_add_element_object\u001b[1;34m(self, elem, allow_overwrites)\u001b[0m\n\u001b[0;32m    440\u001b[0m                 \u001b[0mmodel\u001b[0m\u001b[1;33m.\u001b[0m\u001b[0m_duplicate_elements\u001b[0m\u001b[1;33m.\u001b[0m\u001b[0mappend\u001b[0m\u001b[1;33m(\u001b[0m\u001b[0melem\u001b[0m\u001b[1;33m)\u001b[0m\u001b[1;33m\u001b[0m\u001b[1;33m\u001b[0m\u001b[0m\n\u001b[0;32m    441\u001b[0m                 \u001b[1;32mif\u001b[0m \u001b[0mmodel\u001b[0m\u001b[1;33m.\u001b[0m\u001b[0m_stop_on_duplicate_error\u001b[0m\u001b[1;33m:\u001b[0m\u001b[1;33m\u001b[0m\u001b[1;33m\u001b[0m\u001b[0m\n\u001b[1;32m--> 442\u001b[1;33m                     \u001b[0mmodel\u001b[0m\u001b[1;33m.\u001b[0m\u001b[0mpop_parse_errors\u001b[0m\u001b[1;33m(\u001b[0m\u001b[1;33m)\u001b[0m\u001b[1;33m\u001b[0m\u001b[1;33m\u001b[0m\u001b[0m\n\u001b[0m\u001b[0;32m    443\u001b[0m         \u001b[1;32melse\u001b[0m\u001b[1;33m:\u001b[0m\u001b[1;33m\u001b[0m\u001b[1;33m\u001b[0m\u001b[0m\n\u001b[0;32m    444\u001b[0m             \u001b[0mmodel\u001b[0m\u001b[1;33m.\u001b[0m\u001b[0melements\u001b[0m\u001b[1;33m[\u001b[0m\u001b[0mkey\u001b[0m\u001b[1;33m]\u001b[0m \u001b[1;33m=\u001b[0m \u001b[0melem\u001b[0m\u001b[1;33m\u001b[0m\u001b[1;33m\u001b[0m\u001b[0m\n",
      "\u001b[1;32mc:\\users\\qa21944\\git\\pynastran\\pyNastran\\bdf\\bdf.py\u001b[0m in \u001b[0;36mpop_parse_errors\u001b[1;34m(self)\u001b[0m\n\u001b[0;32m   1467\u001b[0m                     \u001b[0mmsg\u001b[0m \u001b[1;33m+=\u001b[0m \u001b[1;34m'\\n'\u001b[0m\u001b[1;33m\u001b[0m\u001b[1;33m\u001b[0m\u001b[0m\n\u001b[0;32m   1468\u001b[0m                     \u001b[0mis_error\u001b[0m \u001b[1;33m=\u001b[0m \u001b[1;32mTrue\u001b[0m\u001b[1;33m\u001b[0m\u001b[1;33m\u001b[0m\u001b[0m\n\u001b[1;32m-> 1469\u001b[1;33m                     \u001b[1;32mraise\u001b[0m \u001b[0mDuplicateIDsError\u001b[0m\u001b[1;33m(\u001b[0m\u001b[0mmsg\u001b[0m\u001b[1;33m)\u001b[0m\u001b[1;33m\u001b[0m\u001b[1;33m\u001b[0m\u001b[0m\n\u001b[0m\u001b[0;32m   1470\u001b[0m \u001b[1;33m\u001b[0m\u001b[0m\n\u001b[0;32m   1471\u001b[0m             \u001b[1;32mif\u001b[0m \u001b[0mself\u001b[0m\u001b[1;33m.\u001b[0m\u001b[0m_duplicate_properties\u001b[0m\u001b[1;33m:\u001b[0m\u001b[1;33m\u001b[0m\u001b[1;33m\u001b[0m\u001b[0m\n",
      "\u001b[1;31mDuplicateIDsError\u001b[0m: self.elements IDs are not unique=[29200]\nold_element=\nCQUAD4     29200       1   29299   29300     293     292\n\nnew_elements=\nCQUAD4     29200       1     293   29300   37829     586\n\n"
     ]
    }
   ],
   "source": [
    "import numpy as np\n",
    "\n",
    "def add_rib(bdf_object, nodes_id_array, edge_indices, ribs_y_coordinates):\n",
    "    # Retrieve las node and element ids from nodes of BDF object\n",
    "    last_node_id = max(bdf_object.nodes, key=int)\n",
    "    last_element_id = max(bdf_object.elements, key=int)\n",
    "    # Retrieve property id from BDF object\n",
    "    property_id = list(bdf_object.properties.keys())[0]\n",
    "    # Find y-coordinates (spanwise) of the box beam nodes\n",
    "    nodes_y_coordinates = np.array([bdf_object.nodes[nodes_id].xyz[1] for nodes_id in nodes_id_array[:, 0]])\n",
    "    # Iterate through the y-coordinates\n",
    "    for y_coordinate in ribs_y_coordinates:\n",
    "        # Find row index of nodes_id_array corresponding to nodes closest to the prescribed position\n",
    "        row_index = np.argmin(np.abs(y_coordinate - nodes_y_coordinates))\n",
    "        # Initialize array of rib nodes id with ids of front spar nodes\n",
    "        rib_nodes_id_array = np.flip(nodes_id_array[row_index, edge_indices[-2]:])\n",
    "        # Save the number of nodes along the z axis\n",
    "        no_nodes_along_z = np.shape(rib_nodes_id_array)[0]\n",
    "        # Iterate through the nodes along the top skin (chordwise) excluding the edges\n",
    "        for j in range(1, edge_indices[0]):\n",
    "            # Find xyz coordinates of new nodes to add between top and bottom skin\n",
    "            nodes_xyz = np.linspace(bdf_object.nodes[nodes_id_array[row_index, j]].xyz, bdf_object.nodes[nodes_id_array[row_index, edge_indices[-2]-j]].xyz, no_nodes_along_z)\n",
    "            # Generate ids for new nodes and add those to the array of rib nodes id\n",
    "            rib_nodes_id_array = np.column_stack((rib_nodes_id_array, np.concatenate([[nodes_id_array[row_index, j]], np.arange(last_node_id+1, last_node_id+no_nodes_along_z-1), [nodes_id_array[row_index, edge_indices[-2]-j]]])))\n",
    "            # Update id of last defined node\n",
    "            last_node_id = last_node_id+no_nodes_along_z-1\n",
    "            # Add GRID card for each new node\n",
    "            for row in range(no_nodes_along_z-2):\n",
    "                bdf_object.add_grid(nid=rib_nodes_id_array[row+1, -1], xyz=nodes_xyz[row+1])\n",
    "        # Add last column of nodes' ids\n",
    "        rib_nodes_id_array = np.column_stack((rib_nodes_id_array, nodes_id_array[row_index, edge_indices[0]:edge_indices[1]+1]))\n",
    "    # Initialize array with elements' id\n",
    "    elements_id_array = np.empty(tuple(dim - 1 for dim in rib_nodes_id_array.shape), dtype=int)\n",
    "    # Define shell elements (CQUAD4 cards)\n",
    "    for col in range(np.size(rib_nodes_id_array, 1) - 1):\n",
    "        for row in range(np.size(rib_nodes_id_array, 0) - 1):\n",
    "            bdf_object.add_cquad4(eid=last_element_id + col * np.size(elements_id_array, 0) + row,\n",
    "                                  pid= property_id, nids=[rib_nodes_id_array[row, col],\n",
    "                                                          rib_nodes_id_array[row + 1, col],\n",
    "                                                          rib_nodes_id_array[row + 1, col + 1],\n",
    "                                                          rib_nodes_id_array[row, col + 1]])\n",
    "\n",
    "# Prescribed spacing\n",
    "ribs_spacing = w/4\n",
    "# Number of ribs based on prescribed spacing\n",
    "no_ribs = int(np.ceil(b/ribs_spacing))\n",
    "# Find prescribed ribs position\n",
    "ribs_y_coordinates = np.linspace(0, b, no_ribs+1)[1:]\n",
    "# Add ribs at nodes closest to prescribed position\n",
    "add_rib(box_beam_bdf_input, nodes_id_array, edge_indices, ribs_y_coordinates)"
   ]
  },
  {
   "cell_type": "markdown",
   "metadata": {},
   "source": [
    "Apply concentrated force at the tip."
   ]
  },
  {
   "cell_type": "code",
   "execution_count": null,
   "metadata": {
    "pycharm": {
     "name": "#%%\n"
    }
   },
   "outputs": [],
   "source": [
    "# Add master node of tip section\n",
    "master_node_id =len(box_beam_bdf_input.nodes)+1\n",
    "box_beam_bdf_input.add_grid(master_node_id, [w/2, b/2, 0.])\n",
    "# Add RBE3 element to apply concentrated load at the master node\n",
    "rbe3_element_id = len(box_beam_bdf_input.elements)+1\n",
    "tip_nodes_ids = list(nodes_id_array[-1,0:-2])\n",
    "box_beam_bdf_input.add_rbe3(eid=rbe3_element_id, refgrid=master_node_id, refc='123456', weights=[1.]*len(tip_nodes_ids), comps=['123456']*len(tip_nodes_ids), Gijs=tip_nodes_ids)\n",
    "# Apply concentrated force to master node\n",
    "force_set_id = 11\n",
    "force_magnitude = 1. # [N]\n",
    "force_direction = [0., 0., 1.]\n",
    "box_beam_bdf_input.add_force(sid=force_set_id, node=master_node_id, mag=force_magnitude, xyz=force_direction)"
   ]
  },
  {
   "cell_type": "markdown",
   "metadata": {},
   "source": [
    "Calculate linear buckling."
   ]
  },
  {
   "cell_type": "code",
   "execution_count": null,
   "metadata": {
    "pycharm": {
     "name": "#%%\n"
    }
   },
   "outputs": [],
   "source": [
    "from resources import pynastran_utils\n",
    "import os\n",
    "from pyNastran.op2.op2 import read_op2\n",
    "import matplotlib.pyplot as plt\n",
    "# Set solution sequence for linear buckling analysis (SOL 105)\n",
    "box_beam_bdf_input.sol = 105\n",
    "# Create first subcase for the application of the static load\n",
    "load_application_subcase_id = 1\n",
    "pynastran_utils.create_static_load_subcase(bdf_object=box_beam_bdf_input, subcase_id=load_application_subcase_id, load_set_id=force_set_id)\n",
    "# Define set id of EIGRL card\n",
    "eigrl_set_id = force_set_id+1\n",
    "# Add EIGRL card to define the parameters for the eigenvalues calculation\n",
    "box_beam_bdf_input.add_eigrl(sid=eigrl_set_id, v1=0., nd=1)\n",
    "# Create second subcase for the calculation of the eigenvalues\n",
    "eigenvalue_calculation_subcase_id = 2\n",
    "box_beam_bdf_input.create_subcases(eigenvalue_calculation_subcase_id)\n",
    "box_beam_bdf_input.case_control_deck.subcases[eigenvalue_calculation_subcase_id].add_integer_type('METHOD', eigrl_set_id)\n",
    "# Define name of analysis directory\n",
    "analysis_directory_name = '08_Nonlinear_Buckling_Box_Beam_With_Ribs'\n",
    "analysis_directory_path = os.path.join(os.getcwd(), 'analyses', analysis_directory_name)\n",
    "# Define input name\n",
    "input_name = 'linear_buckling'\n",
    "# Run analysis\n",
    "pynastran_utils.run_analysis(directory_path=analysis_directory_path, bdf_object=box_beam_bdf_input, bdf_filename=input_name, run_flag=True)\n",
    "# Read op2 file\n",
    "op2_filepath = os.path.join(analysis_directory_path, input_name + '.op2')\n",
    "op2_output = read_op2(op2_filename=op2_filepath, load_geometry=True, debug=False)\n",
    "# Find buckling load and print it\n",
    "buckling_load = op2_output.eigenvectors[eigenvalue_calculation_subcase_id].eigr\n",
    "print(f'Buckling load: {buckling_load:.0f} N')\n",
    "ax = pynastran_utils.plot_buckling_shape(op2_object=op2_output, subcase=eigenvalue_calculation_subcase_id)\n",
    "# Adjust number of ticks and distance from axes\n",
    "ax.locator_params(axis='x', nbins=4)\n",
    "ax.locator_params(axis='z', nbins=2)\n",
    "ax.tick_params(axis='y', which='major', pad=15)\n",
    "plt.show()"
   ]
  },
  {
   "cell_type": "markdown",
   "metadata": {},
   "source": [
    "***\n",
    "\n",
    "The cell below executes the style for this notebook. We use a slightly modified version of the custom style found on the GitHub of [barbagroup](https://github.com/barbagroup), [@LorenaABarba](https://twitter.com/LorenaABarba)."
   ]
  },
  {
   "cell_type": "code",
   "execution_count": null,
   "metadata": {
    "pycharm": {
     "name": "#%%\n"
    }
   },
   "outputs": [],
   "source": [
    "from IPython.core.display import HTML\n",
    "import os\n",
    "def css_styling():\n",
    "    styles = open(os.path.join(os.pardir, 'styles', 'custom.css'), 'r').read()\n",
    "    return HTML(styles)\n",
    "css_styling()"
   ]
  }
 ],
 "metadata": {
  "kernelspec": {
   "display_name": "Python 3 (ipykernel)",
   "language": "python",
   "name": "python3"
  },
  "language_info": {
   "codemirror_mode": {
    "name": "ipython",
    "version": 3
   },
   "file_extension": ".py",
   "mimetype": "text/x-python",
   "name": "python",
   "nbconvert_exporter": "python",
   "pygments_lexer": "ipython3",
   "version": "3.8.12"
  }
 },
 "nbformat": 4,
 "nbformat_minor": 1
}
