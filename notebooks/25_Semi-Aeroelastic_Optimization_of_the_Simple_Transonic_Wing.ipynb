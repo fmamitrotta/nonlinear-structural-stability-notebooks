{
 "cells": [
  {
   "cell_type": "raw",
   "metadata": {
    "vscode": {
     "languageId": "raw"
    }
   },
   "source": [
    "Code provided under BSD 3-Clause license, all other content under a Creative Commons Attribution license, CC-BY 4.0. (c) 2024 Francesco Mario Antonio Mitrotta."
   ]
  },
  {
   "cell_type": "markdown",
   "metadata": {},
   "source": [
    "# Semi-Aeroelastic Optimization of the Simple Trasonic Wing\n",
    "\n",
    "* [Setup of the structural model](#structural-model)\n",
    "    * [Structural mesh convergence study](#structural-mesh)\n",
    "    * [Structural mesh verification](#structural-verification)\n",
    "* [Setup of the aerodynamic model and of the aeroelastic coupling](#aerodynamic-model)\n",
    "    * [Aerodynamic mesh convergence study](#aerodynamic-mesh)\n",
    "* [Benchmark analyses](#benchmark)\n",
    "    * [Aerodynamic analysis](#aerodynamic-analysis)\n",
    "    * [Structural analysis](#structural-analysis)\n",
    "    * [Aeroelastic analysis](#aeroelastic-analysis)\n",
    "* [Optimizations](#optimizations)\n",
    "    * [Linear buckling optimization](#linear-optimization)\n",
    "    * [Nonlinear structural stability optimization](#nonlinear-optimization)"
   ]
  },
  {
   "cell_type": "code",
   "execution_count": null,
   "metadata": {},
   "outputs": [],
   "source": [
    "import matplotlib.pyplot as plt  # package for making plots\n",
    "import tol_colors as tc  # package for colorblind-friendly colors\n",
    "import os  # package for file and directory manipulation\n",
    "from matplotlib.lines import Line2D  # class defining the characters for the marker styles\n",
    "\n",
    "# Set up matplotlib for interactive plotting\n",
    "%matplotlib widget\n",
    "\n",
    "# Set default color cycle to TOL bright and default dpi of figures\n",
    "plt.rc('axes', prop_cycle=plt.cycler('color', list(tc.tol_cset('bright'))))\n",
    "plt.rcParams[\"figure.dpi\"] = 120\n",
    "\n",
    "# Set the path to the directory containing the analysis files\n",
    "ANALYSIS_DIRECTORY_PATH = os.path.join(\n",
    "    os.getcwd(), \"analyses\",                                   \n",
    "    \"25_Semi-Aeroelastic_Optimization_of_the_Simple_Trasonic_Wing\")\n",
    "\n",
    "# Set the environment variable for the directory containing the report files\n",
    "report_directory_path = os.path.relpath(ANALYSIS_DIRECTORY_PATH, os.getcwd())\n",
    "os.environ['OPENMDAO_REPORTS_DIR'] = report_directory_path\n",
    "\n",
    "# Set the path to the directory containing the airfoil data\n",
    "AIRFOIL_PATH = os.path.join(os.getcwd(), \"resources\", \"STW\", \"rae2822.dat\")\n",
    "\n",
    "# Define constant variables related to plotting\n",
    "Y_COMPONENT_INDEX = 1  # index of y-component in load and displacement array\n",
    "Z_COMPONENT_INDEX = 2  # index of z-component in load and displacement array\n",
    "MARKERS = list(Line2D.markers.keys())[2:]  # list of marker characters\n",
    "COLORS = plt.rcParams['axes.prop_cycle'].by_key()['color']  # list with default color cycle\n",
    "UNSTABLE_COLOR = COLORS[1]  # color for unstable segments\n",
    "GLASS_CEILING_COLOR = COLORS[2]  # green is used for glass ceiling\n",
    "del COLORS[1:3]  # delete red from list of colors\n",
    "\n",
    "# Define constant variables related to Nastran analysis\n",
    "FIRST_SUBCASE_ID = 1\n",
    "SECOND_SUBCASE_ID = 2\n",
    "SPC_SET_ID = 1          # id of the SPC cards created by create_base_bdf\n",
    "FORCE_SET_ID = 1        # id of the FORCE cards created by aeroelastic analysis\n",
    "PRESSURE_SET_ID = 2     # id of the PLOAD2 cards used for benchmark structural analysis\n",
    "GRAVITY_SET_ID = 3      # id of the GRAV card employed for benchmark structural analysis\n",
    "LOAD_SET_ID = 4         # id of the LOAD card employed for SOL 105 and SOL 106\n",
    "METHOD_SET_ID = 5       # id of method set used for the calculation of eigenvalues\n",
    "TRIM_SET_ID = 6         # id of the TRIM card used for SOL 144\n",
    "NO_EIGENVALUES = 20     # number of eigenvalues to be calculated\n",
    "UPPER_EIGENVALUE = 1e5  # upper bound for the eigenvalues of the tangent stiffness matrix - set to 10^5 N/m to avoid convergence issues of Lanczos solver\n",
    "\n",
    "# Define constant variables related to tolerances\n",
    "OPTIMIZER_TOLERANCE = 1e-3  # convergence tolerance for the optimizer\n",
    "NODE_TOLERANCE = 1e-4  # tolerance for node coordinates comparison [m]"
   ]
  },
  {
   "cell_type": "markdown",
   "metadata": {},
   "source": [
    "## Setup of the structural model <a class=\"anchor\" id=\"structural-model\"></a>\n",
    "\n",
    "***"
   ]
  },
  {
   "cell_type": "code",
   "execution_count": null,
   "metadata": {},
   "outputs": [],
   "source": [
    "from resources.STW import wingGeometry  # import the wing geometry module\n",
    "\n",
    "# Create a base BDF object\n",
    "target_length = .25  # [m]\n",
    "stw_bdf, stw_layout = wingGeometry.create_base_bdf(target_length)\n",
    "print(stw_bdf.get_bdf_stats())"
   ]
  },
  {
   "cell_type": "markdown",
   "metadata": {},
   "source": [
    "Define function to apply uniform pressure load to lower skin, as defined for the benchmark structural analysis."
   ]
  },
  {
   "cell_type": "code",
   "execution_count": null,
   "metadata": {},
   "outputs": [],
   "source": [
    "import numpy as np\n",
    "from itertools import compress\n",
    "\n",
    "def find_element_ids(layout, part_names):\n",
    "    # Find number of structural segments\n",
    "    num_segments = len(layout.elemTopo.lIndex)\n",
    "    \n",
    "    # Initialize list of element ids for each segment and element counter\n",
    "    elem_ids = [None] * num_segments\n",
    "    elem = 1\n",
    "    \n",
    "    # Loop over all segments and find the element ids\n",
    "    for i in range(num_segments):\n",
    "        local = layout.elemTopo.lIndex[i]  # array with local node indices\n",
    "        num_rows = local.shape[0] - 1  # number of element rows\n",
    "        num_cols = local.shape[1] - 1  # number of element columns\n",
    "        elem_ids[i] = np.arange(elem, elem + num_rows * num_cols)\n",
    "        elem += num_rows * num_cols  # increment element counter\n",
    "    \n",
    "    # Find the element ids of the specified parts\n",
    "    part_element_ids = {name: None for name in part_names}\n",
    "    descriptions = np.array(layout.faceDescript)\n",
    "    for i, name in enumerate(part_names):\n",
    "        mask = np.char.find(descriptions, name) >= 0\n",
    "        part_element_ids[name] = np.concatenate(list(compress(elem_ids, mask)))\n",
    "    \n",
    "    # Return the element ids of the specified parts\n",
    "    return part_element_ids\n",
    "\n",
    "def apply_uniform_pressure_load(layout, bdf, set_id):\n",
    "    # Find element ids of the lower skin\n",
    "    element_ids_dict = find_element_ids(layout, [\"L_SKIN\"])\n",
    "    lower_skin_elem_ids = element_ids_dict[\"L_SKIN\"]\n",
    "    \n",
    "    # Calculate surface area of the lower skin\n",
    "    lower_skin_elem_areas = np.array(\n",
    "        [bdf.elements[eid].Area() for eid in lower_skin_elem_ids])\n",
    "    lower_skin_surface_area = np.sum(lower_skin_elem_areas)\n",
    "    scale_factor = lower_skin_surface_area/len(lower_skin_elem_ids)\n",
    "    \n",
    "    # Apply the pressure load to each element of the lower skin\n",
    "    for i, eid in enumerate(lower_skin_elem_ids):\n",
    "        bdf.add_pload2(\n",
    "            sid=set_id,\n",
    "            pressure=-1/lower_skin_elem_areas[i]*scale_factor,\n",
    "            eids=[eid])\n",
    "    \n",
    "def apply_benchmark_structural_analysis_load(\n",
    "    layout, bdf, pressure_set_id, gravity_set_id, load_set_id, pressure_value):\n",
    "    # Apply the pressure load to the lower skin\n",
    "    apply_uniform_pressure_load(layout, bdf, pressure_set_id)\n",
    "    \n",
    "    # Apply the gravity load\n",
    "    bdf.add_grav(sid=gravity_set_id, scale=9.81, N=np.array([0., 0., -1.]))\n",
    "    \n",
    "    # Combine the pressure and gravity loads with LOAD card\n",
    "    bdf.add_load(\n",
    "        sid=load_set_id, scale=1., scale_factors=[pressure_value, 2.5],\n",
    "        load_ids=[pressure_set_id, gravity_set_id])"
   ]
  },
  {
   "cell_type": "code",
   "execution_count": null,
   "metadata": {},
   "outputs": [],
   "source": [
    "PRESSURE_LOAD = 30e3  # [Pa]"
   ]
  },
  {
   "cell_type": "markdown",
   "metadata": {},
   "source": [
    "### Structural mesh convergence study <a class=\"anchor\" id=\"structural-mesh\"></a>"
   ]
  },
  {
   "cell_type": "code",
   "execution_count": null,
   "metadata": {},
   "outputs": [],
   "source": [
    "from resources import pynastran_utils, plot_utils\n",
    "\n",
    "# Define shell elements' lengths to be used for the mesh convergence study and print them to screen\n",
    "shell_element_target_lengths = np.geomspace(\n",
    "    wingGeometry.rootLESparHeight/2, wingGeometry.stiffenerHeight/8, 10) # [m]\n",
    "shell_element_target_lengths = np.array([shell_element_target_lengths[4]])  # select only converged length for now\n",
    "np.set_printoptions(precision=1, suppress=True)\n",
    "print(\"Target length of shell elements for mesh convergence study [mm]:\")\n",
    "print(shell_element_target_lengths*1e3)\n",
    "\n",
    "# Initialize arrays with number of elements, number of degrees of freedom and linear buckling loads\n",
    "no_elements = np.empty(np.shape(shell_element_target_lengths), dtype=int)\n",
    "dofs = np.empty(np.shape(shell_element_target_lengths), dtype=int)\n",
    "buckling_load_factors = np.empty(np.shape(shell_element_target_lengths))\n",
    "\n",
    "# Define function to adjust axes ticks and labels' position\n",
    "def adjust_3d_plot(axes, colorbar=None):\n",
    "    axes.locator_params(axis=\"x\", nbins=3)  # set number of ticks of x-axis\n",
    "    axes.locator_params(axis=\"z\", nbins=2)  # set number of ticks of z-axis\n",
    "    axes.tick_params(axis=\"y\", which=\"major\", pad=20)  # adjust position of ticks' label of y-axis\n",
    "    axes.tick_params(axis=\"z\", which=\"major\", pad=6)  # adjust position of ticks' label of z-axis\n",
    "    axes.yaxis.labelpad = 80  # adjust position of y-axis's label\n",
    "    axes.zaxis.labelpad = 10  # adjust position of z-axis's label\n",
    "    if colorbar is not None:\n",
    "        colorbar.ax.set_position(\n",
    "            colorbar.ax.get_position().shrunk(1.0, .66))  # decrease colorbar size\n",
    "        colorbar.ax.set_position(\n",
    "            colorbar.ax.get_position().translated(-.05, .14))  # move colorbar upwards\n",
    "\n",
    "# Define amplification factor for displacements of buckling modes\n",
    "amplification_factor = 1.5\n",
    "\n",
    "# Iterate through the different edge lengths\n",
    "for i, target_length in enumerate(shell_element_target_lengths):\n",
    "    # Generate base bdf input\n",
    "    sol_105_bdf, target_length_layout = wingGeometry.create_base_bdf(\n",
    "        target_length=target_length, parallel=True)\n",
    "    \n",
    "    # Apply load\n",
    "    apply_benchmark_structural_analysis_load(\n",
    "        layout=target_length_layout, bdf=sol_105_bdf, pressure_set_id=PRESSURE_SET_ID,\n",
    "        gravity_set_id=GRAVITY_SET_ID, load_set_id=LOAD_SET_ID,\n",
    "        pressure_value=PRESSURE_LOAD)\n",
    "    \n",
    "    # Store number of elements and number of degrees of freedom of current model\n",
    "    no_elements[i] = len(sol_105_bdf.elements)\n",
    "    constrained_nodes_ids = next(iter(sol_105_bdf.spcs.values()))[0].node_ids\n",
    "    dofs[i] = (len(sol_105_bdf.nodes) - len(constrained_nodes_ids))*6\n",
    "    \n",
    "    # Run SOL 105 and return OP2 object\n",
    "    input_name = f\"sol_105_{no_elements[i]}_elements\"\n",
    "    sol_105_op2 = pynastran_utils.run_sol_105(\n",
    "        bdf=sol_105_bdf, input_name=input_name, method_set_id=METHOD_SET_ID,\n",
    "        analysis_directory_path=ANALYSIS_DIRECTORY_PATH,\n",
    "        static_load_set_id=LOAD_SET_ID, run_flag=False)\n",
    "    \n",
    "    # Find critical buckling load and print it\n",
    "    print(f\"\"\"\\n\\033[1mResults of model with:\n",
    "    - {target_length*1e3:.1f} mm prescribed element length\n",
    "    - {no_elements[i]:d} elements\n",
    "    - {dofs[i]:d} degrees of freedom\\033[0m\"\"\")\n",
    "    buckling_load_factors[i] = sol_105_op2.eigenvectors[SECOND_SUBCASE_ID].eigr\n",
    "    print(f\"Buckling load factor: {buckling_load_factors[i]:.2f}\")\n",
    "    \n",
    "    # Plot critical buckling mode\n",
    "    print(\"Buckling mode:\")\n",
    "    _, ax, cbar = plot_utils.plot_eigenvector(\n",
    "        op2=sol_105_op2, subcase_id=SECOND_SUBCASE_ID,\n",
    "        displacement_component='tz', colormap='sunset',\n",
    "        displacement_amplification_factor=amplification_factor)\n",
    "    adjust_3d_plot(ax, cbar)\n",
    "    plt.show()"
   ]
  },
  {
   "cell_type": "markdown",
   "metadata": {},
   "source": [
    "Plot buckling load factor as a function of the number of degrees of freedom."
   ]
  },
  {
   "cell_type": "code",
   "execution_count": null,
   "metadata": {},
   "outputs": [],
   "source": [
    "# Plot buckling loads vs degrees of freedom with a log scale along the x-axis\n",
    "fig, ax1 = plt.subplots()  # create a figure and set of axes\n",
    "buckling_load_line = ax1.semilogx(dofs, buckling_load_factors, 'o-')\n",
    "\n",
    "# Create a twin set of axes to plot percentage difference vs degrees of freedom\n",
    "ax2 = ax1.twinx()\n",
    "percentage_diff = (buckling_load_factors/buckling_load_factors[-1]-1)*100\n",
    "percentage_diff_line = ax2.plot(dofs, percentage_diff, 'o-')\n",
    "\n",
    "# Set plot appearance\n",
    "ax1.set_xlabel('Degrees of freedom')\n",
    "ax1.set_ylabel('Buckling load factor')\n",
    "ax2.set_ylabel('Difference w.r.t. finest mesh, %')\n",
    "ax1.grid(True)\n",
    "ax2.grid(True)\n",
    "plt.show()"
   ]
  },
  {
   "cell_type": "markdown",
   "metadata": {},
   "source": [
    "Convergence is defined as the point where the relative difference with the buckling load factor obtained from the finest mesh is less than 2.5%."
   ]
  },
  {
   "cell_type": "code",
   "execution_count": null,
   "metadata": {},
   "outputs": [],
   "source": [
    "converged_mesh_index = np.where(np.abs(percentage_diff) < 2.5)[0][0]  # find index corresponding to first percentage difference below 1\n",
    "converged_target_struct_length = np.round(\n",
    "    shell_element_target_lengths[converged_mesh_index], 4)  # store shell length of converged mesh\n",
    "no_elements_converged_mesh = no_elements[converged_mesh_index]  # store number of elements of converged mesh\n",
    "blf_converged_mesh = buckling_load_factors[converged_mesh_index]  # store buckling load of converged mesh approximating to the nearest integer\n",
    "print(f\"\"\"\n",
    "Converged structural mesh:\n",
    "- target element length {converged_target_struct_length*1e3:.1f} mm\n",
    "- {no_elements_converged_mesh} elements\n",
    "- {dofs[converged_mesh_index]} degrees of freedom\n",
    "- buckling load factor {blf_converged_mesh:.2f}\"\"\")"
   ]
  },
  {
   "cell_type": "markdown",
   "metadata": {},
   "source": [
    "### Structural mesh verification <a class=\"anchor\" id=\"structural-verification\"></a>\n",
    "\n",
    "Run nonlinear analysis with original mesh obtained from the mesh convergence study and a refined meshes obtained by halving the target length of the original mesh."
   ]
  },
  {
   "cell_type": "code",
   "execution_count": null,
   "metadata": {},
   "outputs": [],
   "source": [
    "# Initialize dictionaries to store inputs and outputs of nonlinear analyses\n",
    "bdf_dict = {}\n",
    "layout_dict = {}\n",
    "input_name_dict = {}\n",
    "sol_106_op2_dict = {}\n",
    "\n",
    "# Define shell elements' lengths to be used for the mesh verification study\n",
    "mesh_labels = [\"original mesh\", \"refined mesh\"]\n",
    "shell_element_target_lengths = np.array(\n",
    "        [converged_target_struct_length, converged_target_struct_length/2])\n",
    "\n",
    "# Iterate through the different edge lengths\n",
    "for i, key in enumerate(mesh_labels):\n",
    "        # Create mesh with converged target element length\n",
    "        bdf_dict[key], layout_dict[key] = wingGeometry.create_base_bdf(\n",
    "                target_length=shell_element_target_lengths[i], parallel=True)\n",
    "        \n",
    "        # Apply loads to the original mesh\n",
    "        apply_benchmark_structural_analysis_load(\n",
    "                layout_dict[key], bdf_dict[key], PRESSURE_SET_ID,\n",
    "                GRAVITY_SET_ID, LOAD_SET_ID, PRESSURE_LOAD)\n",
    "        pynastran_utils.create_static_load_subcase(\n",
    "                bdf=bdf_dict[key], subcase_id=FIRST_SUBCASE_ID,\n",
    "                load_set_id=LOAD_SET_ID)\n",
    "\n",
    "        # Setup SOL 106 with arc-length method using parameters for fine\n",
    "        # resolution of equilibrium path\n",
    "        sol_106_bdf = bdf_dict[key].__deepcopy__({})\n",
    "        pynastran_utils.set_up_arc_length_method(\n",
    "                bdf=sol_106_bdf, max_iter=3, conv='PU', eps_u=5e-6, eps_p=5e-6,\n",
    "                max_bisect=20, minalr=1e-5, desiter=4, maxinc=650)\n",
    "        \n",
    "        # Request output of nonlinear stress and element strain energy\n",
    "        sol_106_bdf.case_control_deck.subcases[FIRST_SUBCASE_ID].add_result_type(\n",
    "                'NLSTRESS', 'ALL', ['PLOT'])\n",
    "        sol_106_bdf.case_control_deck.subcases[FIRST_SUBCASE_ID].add_result_type(\n",
    "                'ESE', 'ALL', ['PLOT'])\n",
    "                \n",
    "        # Run nonlinear analysis\n",
    "        no_elements = len(sol_106_bdf.elements)\n",
    "        input_name_dict[key] = f\"sol_106_{no_elements}_elements\"\n",
    "        sol_106_op2_dict[key] =\\\n",
    "                pynastran_utils.run_sol_106_with_kllrh_eigenvalues(\n",
    "                        bdf=sol_106_bdf, method_set_id=METHOD_SET_ID,\n",
    "                        analysis_directory_path=ANALYSIS_DIRECTORY_PATH,\n",
    "                        input_name=input_name_dict[key],\n",
    "                        no_eigenvalues=NO_EIGENVALUES,\n",
    "                        dmap_option=\"eigenvectors\", upper_eig=UPPER_EIGENVALUE,\n",
    "                        run_flag=False)"
   ]
  },
  {
   "cell_type": "markdown",
   "metadata": {},
   "source": [
    "Plot eigenvalue diagrams."
   ]
  },
  {
   "cell_type": "code",
   "execution_count": null,
   "metadata": {},
   "outputs": [],
   "source": [
    "# Initialize dictionaries to store nondimensional applied loads and eigenvalues of tangent stiffness matrix\n",
    "nondimensional_loads_dict = {}\n",
    "eigenvalues_dict = {}\n",
    "\n",
    "# Loop over the two models and read applied loads and eigenvalues\n",
    "for key in sol_106_op2_dict:\n",
    "    load_factors, _, _ =\\\n",
    "        pynastran_utils.read_load_displacement_history_from_op2(\n",
    "            op2=sol_106_op2_dict[key])  # read applied loads from OP2 object\n",
    "    nondimensional_loads_dict[key] = load_factors[FIRST_SUBCASE_ID]\n",
    "    f06_path = os.path.join(\n",
    "        ANALYSIS_DIRECTORY_PATH, input_name_dict[key] + '.f06')  # path of f06 file\n",
    "    eigenvalues_dict[key] =\\\n",
    "        pynastran_utils.read_kllrh_lowest_eigenvalues_from_f06(f06_path)  # read eigenvalues from f06 file\n",
    "\n",
    "# Plot the eigenvalue diagram for both models\n",
    "fig, axes = plt.subplots(2, 1, sharex=True, figsize=(6.4, 4.8*2))  # create a figure with two axes\n",
    "for i, key in enumerate(input_name_dict):  # iterate over the two models\n",
    "    plot_utils.plot_eigenvalue_diagram(\n",
    "        loads=nondimensional_loads_dict[key],\n",
    "        eigenvalues=eigenvalues_dict[key],\n",
    "        axes=axes[i])  # convert eigenvalues from N/mm to N/m\n",
    "    axes[i].set_ylabel(f\"$\\lambda$, N/m ({key})\")  # set y-axis label\n",
    "\n",
    "# Finalize plot appearance\n",
    "axes[i].set_xlabel(\"$P/P_\\mathrm{target}$\")\n",
    "plt.tight_layout()\n",
    "plt.show()"
   ]
  },
  {
   "cell_type": "markdown",
   "metadata": {},
   "source": [
    "Both analyses stop becasue they reach the maximum number of arc-length increments. In both cases we observe an instability at a larger load than the linear buckling load. We calculate the percentagge difference of the nonlinear critical load between the two meshes."
   ]
  },
  {
   "cell_type": "code",
   "execution_count": null,
   "metadata": {},
   "outputs": [],
   "source": [
    "print(\"Nondimensional applied load at first instability:\")\n",
    "nonlinear_critical_load_dict = {}  # initialize dictionary to store nondimensional applied load at first limit point\n",
    "for key in nondimensional_loads_dict:  # loop through the load history of the two meshes\n",
    "    first_negative_eigenvalue_index = np.where(eigenvalues_dict[key][0] < 0)[0][0]  # find index of first negative eigenvalue\n",
    "    nonlinear_critical_load_dict[key] = nondimensional_loads_dict[key][first_negative_eigenvalue_index]  # store nondimensional applied load at first limit point\n",
    "    print(f\"- {key}: {nonlinear_critical_load_dict[key]:.2f}\")  # print nondimensional applied load at first limit point\n",
    "percentage_diff = (\n",
    "    nonlinear_critical_load_dict[\"original mesh\"]/\n",
    "    nonlinear_critical_load_dict[\"refined mesh\"] - 1)*100  # compute percentage difference\n",
    "print(f\"\\nPercentage difference of original mesh w.r.t. refined mesh: {percentage_diff:.1f} %\")  # print percentage difference"
   ]
  },
  {
   "cell_type": "markdown",
   "metadata": {},
   "source": [
    "We want to compare the load-displacement diagram now in terms of the tip displacement and of the displacement at the node experiencing the largest displacement in the critical buckling mode predicted by the linear analysis.\n",
    "\n",
    "For both meshes, we find the ids of the nodes at the intersection between top skin, spars and tip rib. We will use these nodes to calculate the tip displacement and the twist according to the specifications of the Benchmark Problems document."
   ]
  },
  {
   "cell_type": "code",
   "execution_count": null,
   "metadata": {},
   "outputs": [],
   "source": [
    "def find_intersection_nodes(layout, part_names):\n",
    "    # Store face descriptions in a numpy array\n",
    "    descriptions = np.array(layout.faceDescript)\n",
    "    \n",
    "    # Find the nodes' ids of each part\n",
    "    part_nodes_ids = [np.array([])]*len(part_names)\n",
    "    for i, name in enumerate(part_names):\n",
    "        mask = np.char.find(descriptions, name) >= 0\n",
    "        nodes_lindex = list(compress(layout.elemTopo.lIndex, mask))\n",
    "        part_nodes_ids[i] = np.unique(\n",
    "            np.concatenate([arr.flatten() for arr in nodes_lindex]) + 1)\n",
    "\n",
    "    # Find the intersection nodes' ids\n",
    "    intersection_nodes_ids = part_nodes_ids[0]\n",
    "    for i in range(1, len(part_names)):\n",
    "        intersection_nodes_ids = np.intersect1d(\n",
    "            intersection_nodes_ids, part_nodes_ids[i], assume_unique=True)\n",
    "        \n",
    "    # Return the intersection nodes' ids\n",
    "    return intersection_nodes_ids\n",
    "\n",
    "def find_tip_nodes(layout, bdf):\n",
    "    # Find the ids of the intersection nodes between the upper skin, rib and spar\n",
    "    intersection_nodes_ids = find_intersection_nodes(\n",
    "        layout, [\"U_SKIN\", \"RIB\", \"SPAR\"])\n",
    "\n",
    "    # Create a (N,3) array of coordinates for the intersection nodes\n",
    "    intersection_nodes_xyz_array = np.vstack(\n",
    "        [bdf.nodes[node_id].xyz for node_id in intersection_nodes_ids])\n",
    "    \n",
    "    # Mask to find the nodes on the tip rib\n",
    "    tip_nodes_mask = np.abs(\n",
    "        intersection_nodes_xyz_array[:, 1] - layout.X[-1, 0, 1]\n",
    "        ) < NODE_TOLERANCE\n",
    "    \n",
    "    # Return the ids and coordinates of the tip nodes\n",
    "    return intersection_nodes_ids[tip_nodes_mask],\\\n",
    "        intersection_nodes_xyz_array[tip_nodes_mask]\n",
    "\n",
    "# Initialize dictionaries to store tip nodes' ids and coordinates\n",
    "tip_nodes_ids_dict = {}\n",
    "tip_nodes_coords_dict = {}\n",
    "\n",
    "# Find the tip nodes of the original mesh\n",
    "for key in mesh_labels:\n",
    "    tip_nodes_ids_dict[key], tip_nodes_coords_dict[key] = find_tip_nodes(\n",
    "        layout_dict[key], bdf_dict[key])"
   ]
  },
  {
   "cell_type": "markdown",
   "metadata": {},
   "source": [
    "\n",
    "We find the largest displacement node for critical buckling mode of model with original mesh."
   ]
  },
  {
   "cell_type": "code",
   "execution_count": null,
   "metadata": {},
   "outputs": [],
   "source": [
    "from pyNastran.op2.op2 import read_op2  # import function to read op2 file\n",
    "\n",
    "# Read op2 file of SOL 105 analysis with original mesh\n",
    "input_name = f\"sol_105_{no_elements_converged_mesh}_elements\"\n",
    "op2_filepath = os.path.join(ANALYSIS_DIRECTORY_PATH, input_name + '.op2')\n",
    "sol_105_op2 = read_op2(\n",
    "    op2_filename=op2_filepath, load_geometry=True, debug=None)\n",
    "\n",
    "# Plot critical buckling mode\n",
    "key = \"original mesh\"\n",
    "print(f\"Critical buckling mode of {key}:\")\n",
    "fig, ax, cbar = plot_utils.plot_eigenvector(\n",
    "    op2=sol_105_op2, subcase_id=SECOND_SUBCASE_ID, displacement_component='tz',\n",
    "    colormap='sunset', displacement_amplification_factor=amplification_factor)\n",
    "    \n",
    "# Plot node where max displacement occurs and add node id to dictionary\n",
    "max_disp_node_id_dict = {key: plot_utils.plot_max_displacement_node(\n",
    "    axes=ax, op2=sol_105_op2,\n",
    "    displacement_amplification_factor=amplification_factor)}\n",
    "\n",
    "# Add legend, adjust plot appearance and show plot\n",
    "ax.legend()\n",
    "adjust_3d_plot(ax, cbar)\n",
    "plt.show()"
   ]
  },
  {
   "cell_type": "markdown",
   "metadata": {},
   "source": [
    "We run a linear buckling analysis for the model with the refined mesh and find the largest displacement node for the critical buckling mode."
   ]
  },
  {
   "cell_type": "code",
   "execution_count": null,
   "metadata": {},
   "outputs": [],
   "source": [
    "# Run SOL 105 for model with refined mesh\n",
    "key = \"refined mesh\"\n",
    "input_name = f\"sol_105_{no_elements}_elements\"\n",
    "sol_105_op2 = pynastran_utils.run_sol_105(\n",
    "    analysis_directory_path=ANALYSIS_DIRECTORY_PATH, input_name=input_name,\n",
    "    bdf=bdf_dict[key], method_set_id=METHOD_SET_ID, run_flag=False)\n",
    "\n",
    "# Plot critical buckling mode\n",
    "print(f\"Critical buckling mode of {key}:\")\n",
    "fig, ax, cbar = plot_utils.plot_eigenvector(\n",
    "    op2=sol_105_op2, subcase_id=SECOND_SUBCASE_ID, displacement_component='tz',\n",
    "    colormap='sunset', displacement_amplification_factor=amplification_factor)\n",
    "    \n",
    "# Plot node where max displacement occurs and add node id to dictionary\n",
    "max_disp_node_id_dict[key] = plot_utils.plot_max_displacement_node(\n",
    "    axes=ax, op2=sol_105_op2,\n",
    "    displacement_amplification_factor=amplification_factor)\n",
    "\n",
    "# Add legend, adjust plot appearance and show plot\n",
    "ax.legend()\n",
    "adjust_3d_plot(ax, cbar)\n",
    "plt.show()"
   ]
  },
  {
   "cell_type": "markdown",
   "metadata": {},
   "source": [
    "Read displacement histories from op2 files and plot them."
   ]
  },
  {
   "cell_type": "code",
   "execution_count": null,
   "metadata": {},
   "outputs": [],
   "source": [
    "def calculate_tip_deflection(node_1_displacements, node_2_displacements):\n",
    "    delta_z_tip = .5*(\n",
    "        node_1_displacements[:, Z_COMPONENT_INDEX] +\\\n",
    "        node_2_displacements[:, Z_COMPONENT_INDEX])\n",
    "    return delta_z_tip\n",
    "    \n",
    "# Create figure for load-displacement diagram\n",
    "fig, axes = plt.subplots(1, 2, sharey=True)  # create a figure with two subplots\n",
    "displacement_labels = [\"SOB\", \"tip\"]  # labels for the displacements\n",
    "reference_lengths = [wingGeometry.meanAerodynamicChord, wingGeometry.semiSpan]  # reference lengths for the displacements\n",
    "reference_lengths_labels = [\"MAC\", r\"\\left(b/2\\right)\"]  # labels for the reference lengths\n",
    "stable_lines = []  # list to store proxy artists for the legend\n",
    "\n",
    "# Loop over the two meshes and plot the load-displacement diagram\n",
    "for i, key in enumerate(mesh_labels):\n",
    "    # Read the displacement history\n",
    "    _, _, displacements =\\\n",
    "        pynastran_utils.read_load_displacement_history_from_op2(\n",
    "        op2=sol_106_op2_dict[key],\n",
    "        node_ids=[max_disp_node_id_dict[key]] + list(tip_nodes_ids_dict[key]))\n",
    "        \n",
    "    # Calculate nondimensional SOB displacements\n",
    "    nondimensional_sob_displacements = displacements[\n",
    "        max_disp_node_id_dict[key]][FIRST_SUBCASE_ID][:, Z_COMPONENT_INDEX]/\\\n",
    "            wingGeometry.meanAerodynamicChord\n",
    "    \n",
    "    # Calculate nondimensional tip displacements\n",
    "    nondimensional_tip_displacements = calculate_tip_deflection(\n",
    "        displacements[tip_nodes_ids_dict[key][0]][FIRST_SUBCASE_ID],\n",
    "        displacements[tip_nodes_ids_dict[key][1]][FIRST_SUBCASE_ID])/\\\n",
    "            wingGeometry.semiSpan\n",
    "    \n",
    "    # Store nondimensional displacements in a list\n",
    "    displacement_list = [\n",
    "        nondimensional_sob_displacements, nondimensional_tip_displacements]\n",
    "    \n",
    "    # Loop over the two displacements and plot the load-displacement diagram\n",
    "    for j, displacements in enumerate(displacement_list):\n",
    "        plot_utils.plot_2d_load_displacements_stability(\n",
    "            axes=axes[j],\n",
    "            displacements=displacements*100,\n",
    "            loads=nondimensional_loads_dict[key],\n",
    "            eigenvalues=eigenvalues_dict[key],\n",
    "            marker=MARKERS[i], color=COLORS[i])\n",
    "        # Plot glass-ceiling line\n",
    "        axes[j].axhline(\n",
    "            y=blf_converged_mesh, color=GLASS_CEILING_COLOR, linestyle='-.')\n",
    "        # Set grid and x-axis label\n",
    "        axes[j].grid(visible=True)\n",
    "        axes[j].set_xlabel(\n",
    "            f\"$u_{{z,\\,\\mathrm{{{displacement_labels[j]}}}}}/{reference_lengths_labels[j]}$, %\")\n",
    "    \n",
    "    # Add proxy artist for the legend\n",
    "    stable_lines.append(Line2D(\n",
    "        [0], [0], linestyle='-', marker=MARKERS[i], color=COLORS[i],\n",
    "        label=key))\n",
    "\n",
    "# Add proxy artist for unstable lines and create legend\n",
    "unstable_line = Line2D(\n",
    "    [0], [0], linestyle='--', color=UNSTABLE_COLOR, label=\"unstable\")\n",
    "linear_buckling_line = Line2D(\n",
    "    [0], [0], linestyle='-.', color=GLASS_CEILING_COLOR,\n",
    "    label=\"linear buckling load\")\n",
    "fig.legend(\n",
    "    handles=stable_lines + [unstable_line, linear_buckling_line],\n",
    "    frameon=False, ncol=2, loc=\"upper center\", bbox_to_anchor=(0.5, 1.))\n",
    "\n",
    "# Set plot appearance\n",
    "axes[0].set_ylabel(\"$P/P_\\mathrm{target}$\")\n",
    "plt.show()"
   ]
  },
  {
   "cell_type": "markdown",
   "metadata": {},
   "source": [
    "## Setup of the aerodynamic model and of the aeroelastic coupling <a class=\"anchor\" id=\"aerodynamic-model\"></a>\n",
    "\n",
    "***\n",
    "\n",
    "Define functions to set up SOL 144 and the aerodynamic model."
   ]
  },
  {
   "cell_type": "code",
   "execution_count": null,
   "metadata": {},
   "outputs": [],
   "source": [
    "from ambiance import Atmosphere  # class for stabdard atmosphere calculations\n",
    "from scipy.interpolate import interp1d\n",
    "\n",
    "def mach_altitude_to_dynamic_pressure(mach, altitude):\n",
    "    # Find air density and speed of sound\n",
    "    rho_air = Atmosphere(altitude).density[0]  # air density\n",
    "    speed_of_sound = Atmosphere(altitude).speed_of_sound[0]  # speed of sound\n",
    "    # Calculate air speed\n",
    "    air_speed = mach*speed_of_sound\n",
    "    # Calculate dynamic pressure\n",
    "    return 0.5*rho_air*air_speed**2\n",
    "\n",
    "# Define function for general setup of SOL 144\n",
    "def set_up_sol_144(\n",
    "    bdf, trim_id, mach, angle_of_attack, altitude, reference_chord,\n",
    "    reference_span, reference_surfacea_area):\n",
    "    # Define solution sequence\n",
    "    bdf.sol = 144\n",
    "    \n",
    "    # Find dynamic pressure based on mach number and altitude\n",
    "    q = mach_altitude_to_dynamic_pressure(mach, altitude)\n",
    "    \n",
    "    # Define labels for static aeroelastic inputs\n",
    "    aestat_labels = [\"ANGLEA\", \"PITCH\", \"URDD3\", \"URDD5\"]\n",
    "    for i, label in enumerate(aestat_labels):\n",
    "        bdf.add_aestat(aestat_id=i+1, label=label)\n",
    "    \n",
    "    # Add trim card with the defined static aeroelastic inputs\n",
    "    # - angle of attack = angle_of_attack\n",
    "    # - pitch rate = 0\n",
    "    # - vertical acceleration = 0\n",
    "    # - pitch acceleration = 0\n",
    "    bdf.add_trim(\n",
    "        sid=trim_id, mach=mach, q=q, labels=aestat_labels,\n",
    "        uxs=[np.deg2rad(angle_of_attack), 0., 0., 0.])\n",
    "\n",
    "    # Create first subcase and assign trim id\n",
    "    bdf.create_subcases(subcase_ids=1)\n",
    "    bdf.case_control_deck.subcases[1].add_integer_type('TRIM', trim_id)\n",
    "\n",
    "    # Define basic parameters for static aeroelasticity\n",
    "    # - reference chord\n",
    "    # - reference span\n",
    "    # - reference area\n",
    "    # - aerodynamic loading symmetry --> symmetry about the xz-plane\n",
    "    bdf.add_aeros(\n",
    "        cref=reference_chord, bref=reference_span,\n",
    "        sref=reference_surfacea_area, sym_xz=1)\n",
    "    \n",
    "def calculate_camber_line_slopes(airfoil_filepath, nchord):\n",
    "    # Read the data, skipping the first line (header)\n",
    "    data = np.loadtxt(airfoil_filepath, skiprows=1)\n",
    "    \n",
    "    # Separate x and y coordinates\n",
    "    x, y = data[:, 0], data[:, 1]\n",
    "    \n",
    "    # Find the point where the profile wraps around (trailing edge to leading edge)\n",
    "    # This is typically where x starts increasing again\n",
    "    dx = np.diff(x)\n",
    "    wrap_idx = np.where(dx > 0)[0][0]\n",
    "    \n",
    "    # Separate upper and lower surfaces\n",
    "    x_upper = x[:wrap_idx+1]\n",
    "    y_upper = y[:wrap_idx+1]\n",
    "    x_lower = x[wrap_idx:]\n",
    "    y_lower = y[wrap_idx:]\n",
    "    \n",
    "    # Create interpolation functions for upper and lower surfaces\n",
    "    # Use cubic interpolation for smoothness\n",
    "    f_upper = interp1d(x_upper, y_upper, kind='cubic')\n",
    "    f_lower = interp1d(x_lower, y_lower, kind='cubic')\n",
    "    \n",
    "    # Create x points for camber line\n",
    "    # Use the overlapping x-range between upper and lower surfaces\n",
    "    x_camber = np.unique(np.concatenate((x_upper, x_lower)))\n",
    "    \n",
    "    # Calculate camber line (mean line between upper and lower surfaces)\n",
    "    y_camber = (f_upper(x_camber) + f_lower(x_camber)) / 2\n",
    "    \n",
    "    # Create interpolation function for camber line\n",
    "    f_camber = interp1d(x_camber, y_camber, kind='cubic')\n",
    "    \n",
    "    # Calculate segment size\n",
    "    segment_length = 1.0 / nchord\n",
    "    \n",
    "    # Calculate three-quarter points for each segment\n",
    "    x_positions = np.array([\n",
    "        i * segment_length + 0.75 * segment_length for i in range(nchord)])\n",
    "    \n",
    "    # Small delta for numerical differentiation\n",
    "    dx = 1e-6\n",
    "    \n",
    "    # Calculate slopes using central difference\n",
    "    slopes = np.zeros(nchord)\n",
    "    for i, x in enumerate(x_positions):\n",
    "        # Ensure we don't go outside the interpolation range\n",
    "        if x + dx > 1.0:\n",
    "            # Use backward difference at the end\n",
    "            dy = f_camber(x) - f_camber(x - dx)\n",
    "        elif x - dx < 0.0:\n",
    "            # Use forward difference at the start\n",
    "            dy = f_camber(x + dx) - f_camber(x)\n",
    "        else:\n",
    "            # Use central difference\n",
    "            dy = f_camber(x + dx/2) - f_camber(x - dx/2)\n",
    "        # Calculate slope in radians\n",
    "        slopes[i] = np.arctan2(dy, dx)\n",
    "    \n",
    "    return slopes\n",
    "    \n",
    "def define_aerodynamic_model(\n",
    "    bdf, paero_id, caero_ids, p1_xyz_array, p4_xyz_array, chord_array,\n",
    "    target_length, airfoil_filepath):\n",
    "    # Add PAERO1 card - dummy property for associated bodies for the panels in\n",
    "    # the Doublet-Lattice method\n",
    "    bdf.add_paero1(pid=paero_id)\n",
    "    \n",
    "    # Loop over the aerodynamic macro elements to define them\n",
    "    for i, eid in enumerate(caero_ids):\n",
    "        # Find number of spanwise and chordwise divisions\n",
    "        nchord = round(np.mean(chord_array[i])/target_length)\n",
    "        nspan = round(\n",
    "            np.linalg.norm(p4_xyz_array[i] - p1_xyz_array[i])/target_length)\n",
    "        # Define aerodynamic macro element\n",
    "        bdf.add_caero1(\n",
    "            eid=eid, pid=paero_id, igroup=1, p1=p1_xyz_array[i],\n",
    "            x12=chord_array[i, 0], p4=p4_xyz_array[i], x43=chord_array[i, 1],\n",
    "            nspan=nspan, nchord=nchord)\n",
    "        # Add W2GJ corrections for airfoil camber\n",
    "        box_id_component_list = [\n",
    "            (id, 3) for id in range(eid, eid + nspan*nchord)]\n",
    "        slopes = calculate_camber_line_slopes(airfoil_filepath, nchord)\n",
    "        correction_vector = np.tile(-slopes, nspan)  # minus sign for Nastran convention\n",
    "        bdf.add_dmij(\n",
    "            name='W2GJ', form=9, tin=1, tout=2, nrows=None, ncols=1,\n",
    "            GCj=[(1, 1)]*nspan*nchord, GCi=box_id_component_list,\n",
    "            Real=correction_vector)"
   ]
  },
  {
   "cell_type": "markdown",
   "metadata": {},
   "source": [
    "Define functions to set up load reference axis and to couple the aerodynamic and structural models with a surface spline."
   ]
  },
  {
   "cell_type": "code",
   "execution_count": null,
   "metadata": {},
   "outputs": [],
   "source": [
    "def define_load_reference_axis(\n",
    "    bdf, intersection_nodes_ids, le_xzy_array, te_xyz_array):\n",
    "    # Find last node id and intialize array of spline nodes ids\n",
    "    last_node_id = len(bdf.nodes)\n",
    "    spline_nodes_ids = np.arange(\n",
    "        last_node_id + 1, last_node_id +1 + 3*len(le_xzy_array))\n",
    "    \n",
    "    # Create a (N,3) array of coordinates for the intersection nodes\n",
    "    intersection_nodes_xyz_array = np.vstack(\n",
    "        [bdf.nodes[node_id].xyz for node_id in intersection_nodes_ids])\n",
    "    \n",
    "    # Loop over the y-coordinates of the ribs\n",
    "    te_node_id = last_node_id  # initialize trailing edge node id\n",
    "    for (le_xyz, te_xyz) in zip(le_xzy_array, te_xyz_array):\n",
    "        # Add node at quarter chord\n",
    "        c_4_node_id = te_node_id + 1\n",
    "        c_4_xyz = le_xyz + (te_xyz - le_xyz)/4\n",
    "        bdf.add_grid(c_4_node_id, c_4_xyz)\n",
    "        \n",
    "        # Find id of the skin nodes intersecting current rib\n",
    "        connection_nodes_ids = intersection_nodes_ids[\n",
    "            np.abs(intersection_nodes_xyz_array[:, 1] - c_4_xyz[1]) <\\\n",
    "                NODE_TOLERANCE]\n",
    "        \n",
    "        # Add RBE3 element to connect quarter chord node with skin nodes\n",
    "        rbe3_eid = len(bdf.elements) + len(bdf.rigid_elements) + 1\n",
    "        bdf.add_rbe3(\n",
    "            eid=rbe3_eid, refgrid=c_4_node_id, refc='123456', weights=[1.],\n",
    "            comps=['123456'], Gijs=[connection_nodes_ids.tolist()])\n",
    "        \n",
    "        # Add nodes at wing leading and trailing edge\n",
    "        le_node_id = c_4_node_id + 1\n",
    "        bdf.add_grid(le_node_id, le_xyz)\n",
    "        te_node_id = le_node_id + 1\n",
    "        bdf.add_grid(te_node_id, te_xyz)\n",
    "        \n",
    "        # Add RBE2 element to connect leading and trailing edge node with\n",
    "        # quarter chord node\n",
    "        rbe2_eid = len(bdf.elements) + len(bdf.rigid_elements) + 1\n",
    "        bdf.add_rbe2(rbe2_eid, c_4_node_id, '123456', [le_node_id, te_node_id])\n",
    "        \n",
    "    # Return spline nodes ids\n",
    "    return spline_nodes_ids\n",
    "\n",
    "# Function to define surface spline data\n",
    "def define_surface_spline(\n",
    "    bdf, set1_id, spline_nodes_ids, caero_ids, usage=\"BOTH\"):\n",
    "    # Add SET1 card to the BDF file to define the set of nodes for spline\n",
    "    # interpolation\n",
    "    bdf.add_set1(sid=set1_id, ids=spline_nodes_ids)\n",
    "    \n",
    "    # Add SPLINE1 card for each aerodynamic macro element\n",
    "    spline1_eid = len(bdf.elements) + len(bdf.rigid_elements)\n",
    "    for eid in caero_ids:\n",
    "        spline1_eid += 1\n",
    "        box2 = eid + bdf.caeros[eid].nspan*bdf.caeros[eid].nchord - 1\n",
    "        bdf.add_spline1(\n",
    "            eid=spline1_eid, caero=eid, box1=eid, box2=box2, setg=set1_id,\n",
    "            usage=usage)"
   ]
  },
  {
   "cell_type": "markdown",
   "metadata": {},
   "source": [
    "### Aerodynamic mesh convergence study <a class=\"anchor\" id = \"aerodynamic-mesh\"></a>\n",
    "\n",
    "Define flight conditions and set up SOL 144 according to the specification for the benchmark aerodynamic analysis."
   ]
  },
  {
   "cell_type": "code",
   "execution_count": null,
   "metadata": {},
   "outputs": [],
   "source": [
    "# Define flight conditions for aerodynamic mesh convergence study\n",
    "cruise_altitude = 10400  # [m]\n",
    "cruise_mach = 0.77\n",
    "mesh_convergence_study_aoa = 5  # [deg]\n",
    "\n",
    "# Define id of aeroelastic analysis cards and set up SOL 144\n",
    "sol_144_bdf = stw_bdf.__deepcopy__({})\n",
    "set_up_sol_144(\n",
    "        sol_144_bdf, TRIM_SET_ID, cruise_mach, mesh_convergence_study_aoa,\n",
    "        cruise_altitude, wingGeometry.meanAerodynamicChord,\n",
    "        wingGeometry.semiSpan*2, wingGeometry.planformArea)"
   ]
  },
  {
   "cell_type": "markdown",
   "metadata": {},
   "source": [
    "Define variables for the set up of the aerodynamic model."
   ]
  },
  {
   "cell_type": "code",
   "execution_count": null,
   "metadata": {},
   "outputs": [],
   "source": [
    "paero_id = np.max(\n",
    "        np.fromiter(stw_bdf.properties.keys(), dtype=int)) + 1\n",
    "caero_id = int(10**np.ceil(\n",
    "    np.log10(np.max(np.fromiter(stw_bdf.elements.keys(), dtype=int))))) + 1\n",
    "p1_xyz_array = np.atleast_2d(wingGeometry.LECoords[0, :])\n",
    "p4_xyz_array = np.atleast_2d(wingGeometry.LECoords[-1, :])\n",
    "chord_array = np.atleast_2d(wingGeometry.sectionChord)\n",
    "set1_sid = TRIM_SET_ID + 1"
   ]
  },
  {
   "cell_type": "markdown",
   "metadata": {},
   "source": [
    "Define variables for the set up of the load reference axis."
   ]
  },
  {
   "cell_type": "code",
   "execution_count": null,
   "metadata": {},
   "outputs": [],
   "source": [
    "# Find nodes at the intersection between skin and ribs\n",
    "intersection_nodes_ids = find_intersection_nodes(\n",
    "    stw_layout, [\"RIB\", \"SKIN\"])\n",
    "\n",
    "# Find ribs' y-coordinates\n",
    "ribs_y_coords = stw_layout.X[:, 0, 1]\n",
    "\n",
    "# Find leading edge coordinates corresponding to ribs' y-coordinates\n",
    "interp_coords = lambda coords, y: coords[0] + np.outer(\n",
    "    y - coords[0,1], (coords[1] - coords[0])) / (coords[1,1] - coords[0,1])\n",
    "le_xyz_array = interp_coords(wingGeometry.LECoords, ribs_y_coords)\n",
    "te_xyz_array = interp_coords(wingGeometry.TECoords, ribs_y_coords)"
   ]
  },
  {
   "cell_type": "markdown",
   "metadata": {},
   "source": [
    "Define names of the monitor point and the aerodyanmic component employed to monitor total normal force and the aerodynamic moment about the quarter chord at the root of the wing."
   ]
  },
  {
   "cell_type": "code",
   "execution_count": null,
   "metadata": {},
   "outputs": [],
   "source": [
    "monpnt1_name = \"C/4\"\n",
    "aecomp_name = \"WING\""
   ]
  },
  {
   "cell_type": "markdown",
   "metadata": {},
   "source": [
    "Run aerodynamic mesh convergence study."
   ]
  },
  {
   "cell_type": "code",
   "execution_count": null,
   "metadata": {},
   "outputs": [],
   "source": [
    "# Define target lattice lengths and initialize arrays to store results\n",
    "lattice_lengths = np.geomspace(\n",
    "    wingGeometry.meanAerodynamicChord/4,\n",
    "    wingGeometry.meanAerodynamicChord/32, 10) # [m]\n",
    "grid_factors = np.empty_like(lattice_lengths)\n",
    "normal_force_array = np.empty_like(lattice_lengths)\n",
    "moment_array = np.empty_like(lattice_lengths)\n",
    "\n",
    "# Run analysis for each lattice length\n",
    "for i, target_length in enumerate(lattice_lengths):\n",
    "    # Define aerodynamic model\n",
    "    target_length_bdf = sol_144_bdf.__deepcopy__({})\n",
    "    define_aerodynamic_model(\n",
    "        target_length_bdf, paero_id, [caero_id], p1_xyz_array, p4_xyz_array,\n",
    "        chord_array, target_length, AIRFOIL_PATH)\n",
    "    \n",
    "    # Define load reference axis and surface spline\n",
    "    spline_nodes_ids = define_load_reference_axis(\n",
    "        target_length_bdf, intersection_nodes_ids, le_xyz_array, te_xyz_array)\n",
    "    define_surface_spline(\n",
    "        target_length_bdf, set1_sid, spline_nodes_ids, [caero_id],\n",
    "        usage=\"FORCE\")\n",
    "    \n",
    "    # Find number of chordwise and spanwise elements and store grid factor\n",
    "    no_elements = target_length_bdf.caeros[caero_id].nspan*\\\n",
    "        target_length_bdf.caeros[caero_id].nchord\n",
    "    grid_factors[i] = no_elements**(-2/3)\n",
    "    \n",
    "    # Define monitor point after deepcopy to avoid pynastran bug raising an\n",
    "    # error when deepcopying monitor points\n",
    "    c_4_xyz = le_xyz_array[0] + (te_xyz_array[0] - le_xyz_array[0])/4\n",
    "    target_length_bdf.add_aecomp(\n",
    "        name=aecomp_name, list_type=\"CAERO\", lists=caero_id)\n",
    "    target_length_bdf.add_monpnt1(\n",
    "        name=monpnt1_name,\n",
    "        label=\"Integrated aerodynamic forces and moments about c/4\", axes='35',\n",
    "        aecomp_name=aecomp_name, xyz=c_4_xyz)\n",
    "    \n",
    "    # Run analysis\n",
    "    print(f\"Running analysis with target lattice length {target_length}\")\n",
    "    input_name = f\"sol_144_{no_elements}_aero_elements\"\n",
    "    pynastran_utils.run_analysis(\n",
    "        directory_path=ANALYSIS_DIRECTORY_PATH, bdf=target_length_bdf,\n",
    "        filename=input_name, run_flag=False)\n",
    "    \n",
    "    # Read monitor point data and store normal force and moment\n",
    "    aerodynamic_loads = pynastran_utils.read_monitor_point_from_f06(\n",
    "        f06_path=os.path.join(ANALYSIS_DIRECTORY_PATH, input_name + '.f06'),\n",
    "        monitor_point_name=monpnt1_name)\n",
    "    normal_force_array[i] = aerodynamic_loads['CZ'][0]\n",
    "    moment_array[i] = aerodynamic_loads['CMY'][0]"
   ]
  },
  {
   "cell_type": "markdown",
   "metadata": {},
   "source": [
    "Plot the results of the mesh convergence study in terms of normal force and moment about the root quarter chord point as a function of the grid factor."
   ]
  },
  {
   "cell_type": "code",
   "execution_count": null,
   "metadata": {},
   "outputs": [],
   "source": [
    "from scipy.stats import linregress\n",
    "\n",
    "# Create figure with two subplots\n",
    "fig, axes = plt.subplots(2, 1, sharex=True)\n",
    "\n",
    "# Plot normal force vs grid factor\n",
    "axes[0].plot(grid_factors, normal_force_array, 'o-')\n",
    "axes[0].set_ylabel('Normal force, N')\n",
    "axes[0].grid(True)\n",
    "\n",
    "# Plot moment about c/4 vs grid factor\n",
    "axes[1].plot(grid_factors, moment_array, 'o-')\n",
    "axes[1].set_ylabel('Moment about $c/4$, Nm')\n",
    "axes[1].grid(True)\n",
    "axes[1].set_xlabel('Grid factor ($N^{-2/3}$)')\n",
    "\n",
    "# Extract the last three points of both plots to calculate the Richardson extrapolation\n",
    "last_three_gf = grid_factors[-3:]\n",
    "last_three_normal_forces = normal_force_array[-3:]\n",
    "last_three_moments = moment_array[-3:]\n",
    "\n",
    "# Perform linear regression for normal force and moment and calculate intercepts of Richardson extrapolation lines\n",
    "_, intercept_normal_force, _, _, _ = linregress(\n",
    "    last_three_gf, last_three_normal_forces)\n",
    "_, intercept_moment, _, _, _ = linregress(last_three_gf, last_three_moments)\n",
    "\n",
    "# Plot Richardson extrapolation lines\n",
    "axes[0].plot(\n",
    "    [grid_factors[-3], 0],\n",
    "    [last_three_normal_forces[-3], intercept_normal_force],\n",
    "    '--')\n",
    "axes[1].plot(\n",
    "    [grid_factors[-3], 0],\n",
    "    [last_three_moments[-3], intercept_moment],\n",
    "    '--')\n",
    "\n",
    "# Create a twin set of axes to plot percentage difference w.r.t. Richardson extrapolation lines intercepts\n",
    "twin_scale = lambda y, y0: (y/y0 - 1)*100  # function to calculate percentage difference\n",
    "intercepts_list = [intercept_normal_force, intercept_moment]  # list of intercepts\n",
    "for i, intercept in enumerate(intercepts_list):  # loop over subplots\n",
    "    twin_ax = axes[i].twinx()  # create twin axes\n",
    "    ymin, ymax = axes[i].get_ylim()  # get y-axis limits of main axes\n",
    "    twin_ax.set_ylim(twin_scale(ymin, intercept), twin_scale(ymax, intercept))  # set y-axis limits of twin axes to match percentage differences\n",
    "    twin_ax.plot([], [])  # add empty plot to twin axes to ensure correct scaling\n",
    "    twin_ax.set_ylabel('Difference w.r.t. intercept, %')  # set y-axis label of twin axes\n",
    "    twin_ax.grid(True)  # enable grid for twin axes\n",
    "\n",
    "# Show plot\n",
    "plt.show()"
   ]
  },
  {
   "cell_type": "markdown",
   "metadata": {},
   "source": [
    "Aerodynamic mesh is defined to be converged where both the normal force and moment are below 1% of the value obtained from Richardson extrapolation."
   ]
  },
  {
   "cell_type": "code",
   "execution_count": null,
   "metadata": {},
   "outputs": [],
   "source": [
    "# Find index where percentage difference is below 1% for both normal force and\n",
    "# moment\n",
    "normal_force_percentage_diff = twin_scale(\n",
    "    normal_force_array, intercept_normal_force)  # calculate percentage differences for normal forces\n",
    "moment_percentage_diff = twin_scale(\n",
    "    moment_array, intercept_moment)  # calculate percentage differences for moments\n",
    "converged_mesh_index = np.where(\n",
    "    (np.abs(normal_force_percentage_diff) < 1) & \n",
    "    (np.abs(moment_percentage_diff) < 1))[0][0]\n",
    "\n",
    "# Print results of the mesh convergence study\n",
    "converged_target_aero_length = lattice_lengths[converged_mesh_index]\n",
    "nchord_converged_mesh = round(\n",
    "    wingGeometry.meanAerodynamicChord/converged_target_aero_length)\n",
    "nspan_converged_mesh = round(\n",
    "    wingGeometry.semiSpan/converged_target_aero_length)\n",
    "print(f\"\"\"Converged aerodynamic mesh:\n",
    "- target lattice length {converged_target_aero_length*1e3:.1f} mm\n",
    "- {nchord_converged_mesh} elements in the chordwise direction\n",
    "- {nspan_converged_mesh} elements in the spanwise direction\"\"\")"
   ]
  },
  {
   "cell_type": "markdown",
   "metadata": {},
   "source": [
    "## Benchmark analyses <a class=\"anchor\" id = \"benchmark\"></a>\n",
    "\n",
    "***\n",
    "\n",
    "### Aerodynamic analysis <a class=\"anchor\" id = \"aerodynamic-analysis\"></a>\n",
    "\n",
    "Define angles of attack of the benchmark aerodynamic analyses."
   ]
  },
  {
   "cell_type": "code",
   "execution_count": null,
   "metadata": {},
   "outputs": [],
   "source": [
    "benchmark_aerodynamic_aoa = np.arange(0., 6.)  # angles of attack [deg]\n",
    "lift_coefficient_array = np.empty_like(benchmark_aerodynamic_aoa)"
   ]
  },
  {
   "cell_type": "markdown",
   "metadata": {},
   "source": [
    "Run the benchmark aerodynamic analyses."
   ]
  },
  {
   "cell_type": "code",
   "execution_count": null,
   "metadata": {},
   "outputs": [],
   "source": [
    "# Define aerodynamic model\n",
    "sol_144_bdf = stw_bdf.__deepcopy__({})\n",
    "define_aerodynamic_model(\n",
    "    sol_144_bdf, paero_id, [caero_id], p1_xyz_array, p4_xyz_array,\n",
    "    chord_array, converged_target_aero_length, AIRFOIL_PATH)\n",
    "    \n",
    "# Define load reference axis and surface spline\n",
    "spline_nodes_ids = define_load_reference_axis(\n",
    "    sol_144_bdf, intersection_nodes_ids, le_xyz_array, te_xyz_array)\n",
    "define_surface_spline(\n",
    "    sol_144_bdf, set1_sid, spline_nodes_ids, [caero_id], usage=\"FORCE\")\n",
    "\n",
    "# Find dynamic pressure at cruise conditions\n",
    "cruise_dynamic_pressure = mach_altitude_to_dynamic_pressure(\n",
    "        cruise_mach, cruise_altitude)\n",
    "\n",
    "# Loop over angles of attack\n",
    "for i, aoa in enumerate(benchmark_aerodynamic_aoa):\n",
    "    # Set up SOL 144 with the current angle of attack\n",
    "    aoa_bdf = sol_144_bdf.__deepcopy__({})\n",
    "    set_up_sol_144(\n",
    "            aoa_bdf, TRIM_SET_ID, cruise_mach, aoa, cruise_altitude,\n",
    "            wingGeometry.meanAerodynamicChord, wingGeometry.semiSpan*2,\n",
    "            wingGeometry.planformArea)\n",
    "    \n",
    "    # Define monitor point after deepcopy to avoid pynastran bug raising an\n",
    "    # error when deepcopying monitor points\n",
    "    aoa_bdf.add_aecomp(name=aecomp_name, list_type=\"CAERO\", lists=caero_id)\n",
    "    aoa_bdf.add_monpnt1(\n",
    "        name=monpnt1_name,\n",
    "        label=\"Integrated aerodynamic forces and moments about c/4\", axes='35',\n",
    "        aecomp_name=aecomp_name, xyz=c_4_xyz)\n",
    "    \n",
    "    # Run analysis\n",
    "    print(f\"Running analysis with angle of attack {aoa:.1f} deg\")\n",
    "    input_name = f\"sol_144_benchmark_aerodynamic_{aoa:.0f}deg\"\n",
    "    pynastran_utils.run_analysis(\n",
    "        directory_path=ANALYSIS_DIRECTORY_PATH, bdf=aoa_bdf,\n",
    "        filename=input_name, run_flag=False)\n",
    "    \n",
    "    # Read monitor point data and store normal force and moment\n",
    "    aerodynamic_loads = pynastran_utils.read_monitor_point_from_f06(\n",
    "        f06_path=os.path.join(ANALYSIS_DIRECTORY_PATH, input_name + '.f06'),\n",
    "        monitor_point_name=monpnt1_name)\n",
    "    normal_force = aerodynamic_loads['CZ'][0]\n",
    "    lift = normal_force*np.cos(np.deg2rad(aoa))\n",
    "    lift_coefficient_array[i] = lift/(\n",
    "        cruise_dynamic_pressure*wingGeometry.planformArea)"
   ]
  },
  {
   "cell_type": "markdown",
   "metadata": {},
   "source": [
    "Plot the results of the benchmark aerodynamic analyses in terms of $C_L-\\alpha$ curve."
   ]
  },
  {
   "cell_type": "code",
   "execution_count": null,
   "metadata": {},
   "outputs": [],
   "source": [
    "# Create figure with two subplots\n",
    "fig, ax = plt.subplots()\n",
    "\n",
    "# Plot normal force vs grid factor\n",
    "ax.plot(benchmark_aerodynamic_aoa, lift_coefficient_array, 'o-')\n",
    "ax.set_xlabel('Angle of attack, deg')\n",
    "ax.set_ylabel('$C_L$')\n",
    "ax.grid(True)\n",
    "plt.show()"
   ]
  },
  {
   "cell_type": "markdown",
   "metadata": {},
   "source": [
    "### Structural analysis <a class=\"anchor\" id = \"structural-analysis\"></a>\n",
    "\n",
    "Define input according to the benchmark structural analysis - this is the same employed for the structural mesh convergence study."
   ]
  },
  {
   "cell_type": "code",
   "execution_count": null,
   "metadata": {},
   "outputs": [],
   "source": [
    "# Generate base bdf input\n",
    "stw_bdf, stw_layout = wingGeometry.create_base_bdf(\n",
    "    target_length=converged_target_struct_length, parallel=True)\n",
    "\n",
    "# Apply load\n",
    "sol_105_bdf = stw_bdf.__deepcopy__({})\n",
    "apply_benchmark_structural_analysis_load(\n",
    "    layout=stw_layout, bdf=sol_105_bdf, pressure_set_id=PRESSURE_SET_ID,\n",
    "    gravity_set_id=GRAVITY_SET_ID, load_set_id=LOAD_SET_ID,\n",
    "    pressure_value=PRESSURE_LOAD)\n",
    "\n",
    "# Request stress and element strain energy output for first subcase\n",
    "sol_105_bdf.case_control_deck.subcases[FIRST_SUBCASE_ID].add_result_type(\n",
    "    'STRESS', 'ALL', ['PLOT'])\n",
    "sol_105_bdf.case_control_deck.subcases[FIRST_SUBCASE_ID].add_result_type(\n",
    "    'ESE', 'ALL', ['PLOT'])\n",
    "\n",
    "# Run SOL 105 and return OP2 object\n",
    "input_name = f\"sol_105_benchmark_structural\"\n",
    "sol_105_op2 = pynastran_utils.run_sol_105(\n",
    "    bdf=sol_105_bdf, input_name=input_name, method_set_id=METHOD_SET_ID,\n",
    "    analysis_directory_path=ANALYSIS_DIRECTORY_PATH,\n",
    "    static_load_set_id=LOAD_SET_ID, run_flag=False)"
   ]
  },
  {
   "cell_type": "markdown",
   "metadata": {},
   "source": [
    "TODO: report linear and nonlinear tip deflection and twist, and separate factors of safety for material and stability failure."
   ]
  },
  {
   "cell_type": "markdown",
   "metadata": {},
   "source": [
    "### Aeroelastic analysis <a class=\"anchor\" id = \"aeroelastic-analysis\"></a>\n",
    "\n",
    "Define static aeroelastic analysis with SOL 144 according to benchmark aeroelastic analysis. Run analysis and output aerodynamic forces."
   ]
  },
  {
   "cell_type": "code",
   "execution_count": null,
   "metadata": {},
   "outputs": [],
   "source": [
    "from pyNastran.op2.op2 import read_op2\n",
    "\n",
    "# Define angle of attack for benchmark aeroelastic analysis\n",
    "benchmark_aeroelastic_aoa = 3.25  # [deg]\n",
    "\n",
    "# Define load reference axis and surface spline\n",
    "intersection_nodes_ids = find_intersection_nodes(stw_layout, [\"RIB\", \"SKIN\"])\n",
    "spline_nodes_ids = define_load_reference_axis(\n",
    "        stw_bdf, intersection_nodes_ids, le_xyz_array, te_xyz_array)\n",
    "\n",
    "# Apply gravity load\n",
    "stw_bdf.add_grav(sid=GRAVITY_SET_ID, scale=9.81, N=np.array([0., 0., -1.]))\n",
    "\n",
    "# Set up SOL 144\n",
    "sol_144_bdf = stw_bdf.__deepcopy__({})\n",
    "set_up_sol_144(\n",
    "        sol_144_bdf, TRIM_SET_ID, cruise_mach, benchmark_aeroelastic_aoa,\n",
    "        cruise_altitude, wingGeometry.meanAerodynamicChord,\n",
    "        wingGeometry.semiSpan*2, wingGeometry.planformArea)\n",
    "\n",
    "# Define aerodynamic model and surface spline\n",
    "define_aerodynamic_model(\n",
    "        sol_144_bdf, paero_id, [caero_id], p1_xyz_array, p4_xyz_array,\n",
    "        chord_array, converged_target_aero_length, AIRFOIL_PATH)\n",
    "define_surface_spline(\n",
    "        sol_144_bdf, set1_sid, spline_nodes_ids, [caero_id])\n",
    "\n",
    "# Add gravity load to external load set of the trim subcase\n",
    "sol_144_bdf.case_control_deck.subcases[1].add_integer_type(\n",
    "        'LOAD', GRAVITY_SET_ID)\n",
    "\n",
    "# Request output of aerodynamic forces in pch file\n",
    "sol_144_bdf.case_control_deck.subcases[0].add_result_type(\n",
    "        'TRIMF', 'ALL', ['AIR'])\n",
    "\n",
    "# Run analysis\n",
    "input_name = \"sol_144_benchmark_aeroelastic\"\n",
    "pynastran_utils.run_analysis(\n",
    "        directory_path=ANALYSIS_DIRECTORY_PATH, bdf=sol_144_bdf,\n",
    "        filename=input_name, run_flag=False)"
   ]
  },
  {
   "cell_type": "markdown",
   "metadata": {},
   "source": [
    "Print $C_L$ and plot deformation of the wingbox."
   ]
  },
  {
   "cell_type": "code",
   "execution_count": null,
   "metadata": {},
   "outputs": [],
   "source": [
    "# Read op2 file\n",
    "op2_filepath = os.path.join(ANALYSIS_DIRECTORY_PATH, input_name + '.op2')\n",
    "sol_144_op2 = read_op2(op2_filepath, load_geometry=True, debug=None)\n",
    "\n",
    "# Find lift and plot deformation\n",
    "full_vehicle_monitor_point = \"AEROSG2D\"\n",
    "aerodynamic_loads = pynastran_utils.read_monitor_point_from_f06(\n",
    "        f06_path=os.path.join(ANALYSIS_DIRECTORY_PATH, input_name + '.f06'),\n",
    "        monitor_point_name=full_vehicle_monitor_point)\n",
    "normal_force = aerodynamic_loads['CZ'][0]\n",
    "lift = normal_force*np.cos(np.deg2rad(benchmark_aeroelastic_aoa))\n",
    "lieft_coefficient = lift/(\n",
    "        cruise_dynamic_pressure*wingGeometry.planformArea)\n",
    "print(f\"CL: {lieft_coefficient:.2f}\")\n",
    "print(\"Deformation:\")\n",
    "_, ax, cbar = plot_utils.plot_deformation(\n",
    "        op2=sol_144_op2, displacement_component='rx', colormap='sunset')\n",
    "adjust_3d_plot(ax, cbar)\n",
    "plt.show()"
   ]
  },
  {
   "cell_type": "markdown",
   "metadata": {},
   "source": [
    "Run SOL 105 with aerodynamic forces from SOL 144."
   ]
  },
  {
   "cell_type": "code",
   "execution_count": null,
   "metadata": {},
   "outputs": [],
   "source": [
    "# Include the pch file with the forces obtained from the SOL 144 analysis in\n",
    "# bdf object with the load reference axis\n",
    "pch_filename = input_name + '.pch'\n",
    "stw_bdf.add_include_file(pch_filename)\n",
    "\n",
    "# Make a copy of the bdf object with load reference axis and combine\n",
    "# aerodynamic and gravity loads with LOAD card\n",
    "sol_105_bdf = stw_bdf.__deepcopy__({})\n",
    "sol_105_bdf.add_load(\n",
    "    sid=LOAD_SET_ID, scale=1., scale_factors=[1., 1.],\n",
    "    load_ids=[GRAVITY_SET_ID, FORCE_SET_ID])\n",
    "\n",
    "# Request stress and element strain energy output for first subcase\n",
    "sol_105_bdf.case_control_deck.subcases[FIRST_SUBCASE_ID].add_result_type(\n",
    "    'STRESS', 'ALL', ['PLOT'])\n",
    "sol_105_bdf.case_control_deck.subcases[FIRST_SUBCASE_ID].add_result_type(\n",
    "    'ESE', 'ALL', ['PLOT'])\n",
    "\n",
    "# Run SOL 105\n",
    "input_name = \"sol_105_benchmark_aeroelastic\"\n",
    "sol_105_op2 = pynastran_utils.run_sol_105(\n",
    "    bdf=sol_105_bdf, input_name=input_name,\n",
    "    analysis_directory_path=ANALYSIS_DIRECTORY_PATH,\n",
    "    static_load_set_id=LOAD_SET_ID, method_set_id=METHOD_SET_ID,\n",
    "    run_flag=False)"
   ]
  },
  {
   "cell_type": "markdown",
   "metadata": {},
   "source": [
    "Print buckling load factor and plot critical buckling mode."
   ]
  },
  {
   "cell_type": "code",
   "execution_count": null,
   "metadata": {},
   "outputs": [],
   "source": [
    "print(f\"Buckling load factor: \\\n",
    "    {sol_105_op2.eigenvectors[SECOND_SUBCASE_ID].eigr:.2f}\")\n",
    "_, ax, cbar = plot_utils.plot_eigenvector(\n",
    "    op2=sol_105_op2, subcase_id=SECOND_SUBCASE_ID,\n",
    "    displacement_component='tz', colormap='sunset',\n",
    "    displacement_amplification_factor=amplification_factor)\n",
    "max_disp_node_id = plot_utils.plot_max_displacement_node(\n",
    "    axes=ax, op2=sol_105_op2, subcase_id=SECOND_SUBCASE_ID,\n",
    "    displacement_amplification_factor=amplification_factor)\n",
    "ax.legend()\n",
    "adjust_3d_plot(ax, cbar)\n",
    "plt.show()"
   ]
  },
  {
   "cell_type": "markdown",
   "metadata": {},
   "source": [
    "Run SOL 106 with aerodynamic forces from SOL 144."
   ]
  },
  {
   "cell_type": "code",
   "execution_count": null,
   "metadata": {},
   "outputs": [],
   "source": [
    "# Make a copy of the bdf object with load reference axis and combine\n",
    "# aerodynamic and gravity loads with LOAD card\n",
    "sol_106_bdf = stw_bdf.__deepcopy__({})\n",
    "sol_106_bdf.add_load(\n",
    "        sid=LOAD_SET_ID, scale=1., scale_factors=[1., 1.],\n",
    "        load_ids=[GRAVITY_SET_ID, FORCE_SET_ID])\n",
    "\n",
    "# Request nonlinear stress and element strain energy output for first subcase\n",
    "sol_106_bdf.case_control_deck.subcases[FIRST_SUBCASE_ID].add_result_type(\n",
    "        'NLSTRESS', 'ALL', ['PLOT'])\n",
    "sol_106_bdf.case_control_deck.subcases[FIRST_SUBCASE_ID].add_result_type(\n",
    "        'ESE', 'ALL', ['PLOT'])\n",
    "\n",
    "# Set up arc-lengthm method and create subcase\n",
    "pynastran_utils.set_up_arc_length_method(\n",
    "        bdf=sol_106_bdf, max_iter=3, conv='PU', eps_u=5e-6, eps_p=5e-6,\n",
    "        max_bisect=20, minalr=1e-5, desiter=4, maxinc=650)\n",
    "pynastran_utils.create_static_load_subcase(\n",
    "        bdf=sol_106_bdf, subcase_id=FIRST_SUBCASE_ID, load_set_id=LOAD_SET_ID)\n",
    "\n",
    "# Run nonlinear analysis\n",
    "input_name = \"sol_106_benchmark_aeroelastic\"\n",
    "sol_106_op2 = pynastran_utils.run_sol_106_with_kllrh_eigenvalues(\n",
    "        bdf=sol_106_bdf, method_set_id=METHOD_SET_ID,\n",
    "        analysis_directory_path=ANALYSIS_DIRECTORY_PATH, input_name=input_name,\n",
    "        no_eigenvalues=NO_EIGENVALUES, upper_eig=UPPER_EIGENVALUE,\n",
    "        run_flag=False)"
   ]
  },
  {
   "cell_type": "markdown",
   "metadata": {},
   "source": [
    "Plot eigenvalue diagram."
   ]
  },
  {
   "cell_type": "code",
   "execution_count": null,
   "metadata": {},
   "outputs": [],
   "source": [
    "# Find id of tip nodes\n",
    "tip_nodes_ids = tip_nodes_ids_dict[\"original mesh\"]\n",
    "\n",
    "# Read load and displacment histories from OP2 object\n",
    "plot_nodes_ids = [max_disp_node_id] + list(tip_nodes_ids)  # list of node ids where displacement is monitored\n",
    "load_factors, _, displacements =\\\n",
    "pynastran_utils.read_load_displacement_history_from_op2(\n",
    "        op2=sol_106_op2, node_ids=plot_nodes_ids)\n",
    "nondimensional_loads = load_factors[FIRST_SUBCASE_ID]\n",
    "\n",
    "# Read eigenvalues from f06 file\n",
    "f06_path = os.path.join(ANALYSIS_DIRECTORY_PATH, input_name + '.f06')  # path of f06 file\n",
    "eigenvalues = pynastran_utils.read_kllrh_lowest_eigenvalues_from_f06(f06_path)  # read eigenvalues from f06 file\n",
    "\n",
    "# Plot eigenvalue diagram\n",
    "_, ax = plot_utils.plot_eigenvalue_diagram(nondimensional_loads, eigenvalues)\n",
    "ax.set_ylabel(\"$\\lambda$, N/m\")\n",
    "ax.set_xlabel(\"$P/P_\\mathrm{target}$\")\n",
    "plt.show()"
   ]
  },
  {
   "cell_type": "markdown",
   "metadata": {},
   "source": [
    "Plot load-displacement diagram."
   ]
  },
  {
   "cell_type": "code",
   "execution_count": null,
   "metadata": {},
   "outputs": [],
   "source": [
    "# Create figure for load-displacement diagram\n",
    "fig, axes = plt.subplots(1, 2, sharey=True)  # create a figure with two subplots\n",
    "\n",
    "# Calculate nondimensional SOB displacements\n",
    "nondimensional_sob_displacements = displacements[\n",
    "        max_disp_node_id][FIRST_SUBCASE_ID][:, Z_COMPONENT_INDEX]/\\\n",
    "                wingGeometry.meanAerodynamicChord\n",
    "\n",
    "# Calculate nondimensional tip displacements\n",
    "nondimensional_tip_displacements = calculate_tip_deflection(\n",
    "        displacements[tip_nodes_ids[0]][FIRST_SUBCASE_ID],\n",
    "        displacements[tip_nodes_ids[1]][FIRST_SUBCASE_ID])/\\\n",
    "                wingGeometry.semiSpan\n",
    "\n",
    "# Store nondimensional displacements in a list\n",
    "displacement_list = [\n",
    "nondimensional_sob_displacements, nondimensional_tip_displacements]\n",
    "\n",
    "# Loop over the two displacements and plot the load-displacement diagram\n",
    "for i, displacements in enumerate(displacement_list):\n",
    "        plot_utils.plot_2d_load_displacements_stability(\n",
    "                axes=axes[i],\n",
    "                displacements=displacements*100,\n",
    "                loads=nondimensional_loads,\n",
    "                eigenvalues=eigenvalues,\n",
    "                marker=MARKERS[0], color=COLORS[0])\n",
    "        # Set grid and x-axis label\n",
    "        axes[i].grid(visible=True)\n",
    "        axes[i].set_xlabel(\n",
    "                f\"$u_{{z,\\,\\mathrm{{{displacement_labels[j]}}}}}/{reference_lengths_labels[j]}$, %\")\n",
    "\n",
    "# Add proxy artists for the legend\n",
    "stable_line = Line2D(\n",
    "        [0], [0], linestyle='-', marker=MARKERS[0], color=COLORS[0],\n",
    "        label=\"stable\")\n",
    "fig.legend(\n",
    "        handles=[stable_line, unstable_line, linear_buckling_line],\n",
    "        frameon=False, ncol=3, loc=\"upper center\", bbox_to_anchor=(0.5, 1.))\n",
    "\n",
    "# Set plot appearance\n",
    "axes[0].set_ylabel(\"$u_{z,\\,tip}/l$, %\")\n",
    "plt.show()"
   ]
  },
  {
   "cell_type": "markdown",
   "metadata": {},
   "source": [
    "Plot nonlinear deformation of the wingbox."
   ]
  },
  {
   "cell_type": "code",
   "execution_count": null,
   "metadata": {},
   "outputs": [],
   "source": [
    "_, ax, cbar = plot_utils.plot_deformation(\n",
    "        op2=sol_106_op2, displacement_component='rx', colormap='sunset')\n",
    "adjust_3d_plot(ax, cbar)\n",
    "plt.show()"
   ]
  },
  {
   "cell_type": "markdown",
   "metadata": {},
   "source": [
    "## Optimizations <a class=\"anchor\" id = \"optimizations\"></a>\n",
    "\n",
    "***\n",
    "\n",
    "### Linear buckling optimization <a class=\"anchor\" id = \"linear-optimization\"></a>\n",
    "\n",
    "Wall thickness is varied linarly between root and side of body (SOB) and between SOB and tip. An independent variation is applied to each structural part: ribs, front spar, rear spar, top skin, bottom skin, top skin stiffeners, and bottom skin stiffeners."
   ]
  },
  {
   "cell_type": "code",
   "execution_count": null,
   "metadata": {},
   "outputs": [],
   "source": [
    "from mphys import Multipoint\n",
    "import openmdao.api as om\n",
    "from resources.NastranBuilder import NastranBuilder\n",
    "from mphys.scenario_structural import ScenarioStructural\n",
    "from resources.STW.performanceCalc import LandingGrossMass\n",
    "\n",
    "# Calculate y-coordinates of interpolation points for the skin, spars and\n",
    "# stiffeners\n",
    "panels_y_coords = ribs_y_coords[:-1] + np.diff(ribs_y_coords)/2\n",
    "\n",
    "# Define minimum and maximum thicknesses for optimization\n",
    "min_thickness = .6e-3  # [m]\n",
    "max_panel_thickness = wingGeometry.panelThickness*10  # [m]\n",
    "max_stiffener_thickness = wingGeometry.stiffenerHeight/5  # [m]\n",
    "\n",
    "# Initial thickness vectors\n",
    "initial_panel_thickness_vector = wingGeometry.panelThickness*np.ones(3)\n",
    "initial_stiffener_thickness_vector = wingGeometry.stiffenerThickness*np.ones(3)\n",
    "\n",
    "# Define constant masses\n",
    "PAYLOAD_MASS = 14.5e3  # kg\n",
    "AIRFRAME_MASS = 25e3  # kg\n",
    "RESERVE_FUEL_MASS = 2e3  # kg\n",
    "\n",
    "# Define maneuver flight conditions\n",
    "maneuver_altitude = 0.  # [m]\n",
    "maneuver_mach = .458\n",
    "maneuver_dynamic_pressure = mach_altitude_to_dynamic_pressure(\n",
    "    maneuver_mach, maneuver_altitude)\n",
    "sol_144_bdf.trims[TRIM_SET_ID].mach = maneuver_mach\n",
    "sol_144_bdf.trims[TRIM_SET_ID].q = maneuver_dynamic_pressure\n",
    "initial_maneuver_aoa = [8.96, -6.4]  # [deg]\n",
    "\n",
    "# Increase number of buckling eigenvalues\n",
    "sol_105_bdf.methods[METHOD_SET_ID].nd = NO_EIGENVALUES\n",
    "\n",
    "# Multiply SOL 144 loads by safety factor of 1.5\n",
    "sol_105_bdf.load_combinations[LOAD_SET_ID][0].scale_factors[1] = 1.5\n",
    "\n",
    "\n",
    "class NastranDVComp(om.ExplicitComponent):\n",
    "    \"\"\"\n",
    "    Component for grouping thickness design variables of the different\n",
    "    structural parts into a global design vector.\n",
    "    \"\"\"\n",
    "    def initialize(self):\n",
    "        self.options.declare(\n",
    "            \"layout\",\n",
    "            default=None,\n",
    "            desc=\"Layout object containing the structural layout\",\n",
    "            recordable=False,\n",
    "        )\n",
    "        \n",
    "    def setup(self):\n",
    "        self.layout = self.options[\"layout\"]\n",
    "        self.add_input(\n",
    "            \"t_ribs\", shape_by_conn=True, desc=\"Ribs thickness\", units=\"m\")\n",
    "        self.add_input(\n",
    "            \"t_front_spar\", shape_by_conn=True, desc=\"Front spar thickness\",\n",
    "            units=\"m\")\n",
    "        self.add_input(\n",
    "            \"t_rear_spar\", shape_by_conn=True, desc=\"Rear spar thickness\",\n",
    "            units=\"m\")\n",
    "        self.add_input(\n",
    "            \"t_top_skin\", shape_by_conn=True, desc=\"Top skin thickness\",\n",
    "            units=\"m\")\n",
    "        self.add_input(\n",
    "            \"t_bottom_skin\", shape_by_conn=True, desc=\"Bottom skin thickness\",\n",
    "            units=\"m\")\n",
    "        self.add_input(\n",
    "            \"t_top_stiffeners\", shape_by_conn=True,\n",
    "            desc=\"Top stiffeners thickness\", units=\"m\")\n",
    "        self.add_input(\n",
    "            \"t_bottom_stiffeners\", shape_by_conn=True,\n",
    "            desc=\"Bottom stiffeners thickness\", units=\"m\")\n",
    "        self.add_output(\n",
    "            \"dv_struct\", shape=len(self.layout.faceDescript),\n",
    "            desc=\"Structural design vector\")\n",
    "    \n",
    "    def compute(self, inputs, outputs):\n",
    "        # Initialize design vector\n",
    "        dv_struct = np.empty(len(self.layout.faceDescript))\n",
    "        descriptions = np.array(self.layout.faceDescript)\n",
    "        \n",
    "        # Ribs\n",
    "        rib_indices = np.where(np.char.find(descriptions, \"RIB\") >= 0)[0]\n",
    "        dv_struct[rib_indices] = np.repeat(\n",
    "            inputs[\"t_ribs\"], self.layout.nspars - 1)\n",
    "        \n",
    "        # Spars\n",
    "        spar_indices = np.where(np.char.find(descriptions, \"SPAR\") >= 0)[0]\n",
    "        dv_struct[spar_indices] = np.hstack(\n",
    "            (inputs[\"t_front_spar\"], inputs[\"t_rear_spar\"]))\n",
    "        \n",
    "        # Top skin\n",
    "        top_skin_indices = np.where(\n",
    "            np.char.find(descriptions, \"U_SKIN\") >= 0)[0]\n",
    "        dv_struct[top_skin_indices] = np.repeat(\n",
    "            inputs[\"t_top_skin\"], self.layout.nspars - 1)\n",
    "        \n",
    "        # Bottom skin\n",
    "        bottom_skin_indices = np.where(\n",
    "            np.char.find(descriptions, \"L_SKIN\") >= 0)[0]\n",
    "        dv_struct[bottom_skin_indices] = np.repeat(\n",
    "            inputs[\"t_bottom_skin\"], self.layout.nspars - 1)\n",
    "        \n",
    "        # Top skin stiffeners\n",
    "        top_stiffeners_indices = np.where(\n",
    "            np.char.find(descriptions, \"U_STRING\") >= 0)[0]\n",
    "        dv_struct[top_stiffeners_indices] = np.repeat(\n",
    "            inputs[\"t_top_stiffeners\"], self.layout.nspars - 2)\n",
    "        \n",
    "        # Bottom skin stiffeners\n",
    "        bottom_stiffeners_indices = np.where(\n",
    "            np.char.find(descriptions, \"L_STRING\") >= 0)[0]\n",
    "        dv_struct[bottom_stiffeners_indices] = np.repeat(\n",
    "            inputs[\"t_bottom_stiffeners\"], self.layout.nspars - 2)\n",
    "        \n",
    "        # Store design vector\n",
    "        outputs[\"dv_struct\"] = dv_struct\n",
    "        \n",
    "        \n",
    "class LoadFactor(om.ExplicitComponent):\n",
    "    def setup(self):\n",
    "        self.add_input(\"lift\", units=\"N\")\n",
    "        self.add_input(\"aircraft_mass\", units=\"kg\")\n",
    "        self.add_output(\"load_factor\")\n",
    "        \n",
    "    def setup_partials(self):\n",
    "        \"\"\"\n",
    "        Declare partial derivatives for the component using finite\n",
    "        difference method.\n",
    "        \"\"\"\n",
    "        self.declare_partials('*', '*', method='fd', step=1e-6)\n",
    "        \n",
    "    def compute(self, inputs, outputs):\n",
    "        outputs[\"load_factor\"] = inputs[\"lift\"]/(9.81*inputs[\"aircraft_mass\"])\n",
    "\n",
    "\n",
    "class Linear(Multipoint):\n",
    "    def initialize(self):\n",
    "        self.options.declare('sol_144_bdf', default=None)\n",
    "        self.options.declare('sol_105_bdf', default=None)\n",
    "        self.options.declare('input_name_suffix', default='')\n",
    "        self.options.declare('run_flag', default=True)\n",
    "\n",
    "    def setup(self):\n",
    "        #----------------#\n",
    "        # Initialization #\n",
    "        #----------------#\n",
    "        self.sol_144_bdf = self.options['sol_144_bdf']\n",
    "        self.sol_105_bdf = self.options['sol_105_bdf']\n",
    "        self.input_name_suffix = self.options['input_name_suffix']\n",
    "        self.run_flag = self.options['run_flag']\n",
    "\n",
    "        #-----#\n",
    "        # IVC #\n",
    "        #-----#\n",
    "        ivc = self.add_subsystem('ivc', om.IndepVarComp(), promotes=['*'])\n",
    "        ivc.add_output(\n",
    "            \"yield_strength\", val=wingGeometry.yieldStrength, units=\"Pa\")\n",
    "        ivc.add_output(\n",
    "            \"maneuver_aoa\",\n",
    "            val=initial_maneuver_aoa,\n",
    "            units=\"deg\")\n",
    "\n",
    "        #--------------------------#\n",
    "        # Interpolation components #\n",
    "        #--------------------------#    \n",
    "        # Function to add interpolation component\n",
    "        def add_interp_comp(y_coords, part_name, y_cp_val):\n",
    "            interp_comp = om.SplineComp(\n",
    "                method='slinear',\n",
    "                x_cp_val=wingGeometry.LESparCoords[:, 1],\n",
    "                x_interp_val=y_coords)\n",
    "            interp_comp.add_spline(\n",
    "                y_cp_name='t_cp', y_interp_name='t_interp',\n",
    "                y_cp_val=y_cp_val, y_units='m')\n",
    "            self.add_subsystem(f'{part_name}_interp', interp_comp)\n",
    "            self.connect(\n",
    "                f'{part_name}_interp.t_interp', f'dv_comp.t_{part_name}')\n",
    "        \n",
    "        # Ribs\n",
    "        add_interp_comp(ribs_y_coords, 'ribs', initial_panel_thickness_vector)\n",
    "        \n",
    "        \n",
    "        # Spars and skin\n",
    "        for part in ['front_spar', 'rear_spar', 'top_skin', 'bottom_skin']:\n",
    "            add_interp_comp(\n",
    "                panels_y_coords, part, initial_panel_thickness_vector)\n",
    "            \n",
    "        # Stiffeners\n",
    "        for part in ['top_stiffeners', 'bottom_stiffeners']:\n",
    "            add_interp_comp(\n",
    "                panels_y_coords, part, initial_stiffener_thickness_vector\n",
    "            )\n",
    "            \n",
    "        #-------------------------#\n",
    "        # Design vector assembler #\n",
    "        #-------------------------#\n",
    "        self.add_subsystem('dv_comp', NastranDVComp(layout=stw_layout))\n",
    "\n",
    "        #----------------------------#\n",
    "        # Add builders and scenarios #\n",
    "        #----------------------------#\n",
    "        bdf_list = [self.sol_144_bdf, self.sol_105_bdf]\n",
    "        for i, flight_point in enumerate([\"pull_up\", \"push_down\"]):\n",
    "            for j, sol_sequence in enumerate([\"sol_144\", \"sol_105\"]):\n",
    "                # Nastran builder\n",
    "                input_name = sol_sequence + \"_\" + flight_point +\\\n",
    "                    self.input_name_suffix\n",
    "                bdf_list[j]._xref = False\n",
    "                bdf = bdf_list[j].__deepcopy__({})\n",
    "                bdf.cross_reference(xref_loads=False)\n",
    "                builder = NastranBuilder(\n",
    "                    analysis_directory_path=ANALYSIS_DIRECTORY_PATH,\n",
    "                    input_name=input_name, bdf=bdf,\n",
    "                    run_flag=self.run_flag, trim_id=TRIM_SET_ID)\n",
    "                builder.initialize()\n",
    "                # Structures only scenario\n",
    "                scenario_name = flight_point + \"_\" + sol_sequence\n",
    "                self.mphys_add_scenario(\n",
    "                    scenario_name,\n",
    "                    ScenarioStructural(struct_builder=builder))\n",
    "                # Structural mesh\n",
    "                self.add_subsystem(\n",
    "                    scenario_name + \"_mesh\",\n",
    "                    builder.get_mesh_coordinate_subsystem())\n",
    "                # Connections\n",
    "                self.connect(\n",
    "                    \"yield_strength\", scenario_name + \".yield_strength\")\n",
    "                self.connect(\n",
    "                    scenario_name + \"_mesh.x_struct0\",\n",
    "                    scenario_name + \".x_struct0\")\n",
    "                self.connect(\"dv_comp.dv_struct\", scenario_name + \".dv_struct\")\n",
    "            # Add angle of attack connection to the SOL 144 scenario\n",
    "            self.connect(\n",
    "                \"maneuver_aoa\", flight_point + \"_sol_144.aoa\",\n",
    "                src_indices=[i])\n",
    "            # Include the pch file with the forces obtained from the SOL 144\n",
    "            # analysis in the SOL 105 bdf\n",
    "            builder.solver.bdf.reject_lines[0][0] =\\\n",
    "                \"INCLUDE 'sol_144_\" + flight_point + self.input_name_suffix +\\\n",
    "                    \".pch'\"\n",
    "                \n",
    "        #--------------------#\n",
    "        # Landing gross mass #\n",
    "        #--------------------#\n",
    "        lgm_comp = LandingGrossMass(\n",
    "            payloadMass=PAYLOAD_MASS,\n",
    "            airframeMass=AIRFRAME_MASS,\n",
    "            reserveFuelMass=RESERVE_FUEL_MASS\n",
    "        )\n",
    "        self.add_subsystem('lgm_comp', lgm_comp)\n",
    "        self.connect(\"pull_up_sol_105.mass\", \"lgm_comp.wingMass\")\n",
    "        \n",
    "        #-------------#\n",
    "        # Load factor #\n",
    "        #-------------#\n",
    "        for maneuver in [\"pull_up\", \"push_down\"]:\n",
    "            lf_comp = LoadFactor()\n",
    "            self.add_subsystem(f'{maneuver}_lf_comp', lf_comp)\n",
    "            self.connect(\n",
    "                f'{maneuver}_sol_144.lift', f'{maneuver}_lf_comp.lift')\n",
    "            self.connect(\n",
    "                f'lgm_comp.landingGrossMass', f'{maneuver}_lf_comp.aircraft_mass')"
   ]
  },
  {
   "cell_type": "markdown",
   "metadata": {},
   "source": [
    "Run starting design point."
   ]
  },
  {
   "cell_type": "code",
   "execution_count": null,
   "metadata": {},
   "outputs": [],
   "source": [
    "linear_problem = om.Problem(name=\"linear_problem\")\n",
    "linear_problem.model = Linear(\n",
    "    sol_144_bdf=sol_144_bdf,\n",
    "    sol_105_bdf=sol_105_bdf,\n",
    "    input_name_suffix=\"_start\",\n",
    "    run_flag=False)\n",
    "linear_problem.setup()\n",
    "\n",
    "linear_problem.run_model()\n",
    "\n",
    "mass_0 = linear_problem['pull_up_sol_105.mass'][0]\n",
    "pull_up_ks_stress_0 = linear_problem['pull_up_sol_105.ks_stress'][0]\n",
    "push_down_ks_stress_0 = linear_problem['push_down_sol_105.ks_stress'][0]\n",
    "\n",
    "print(f\"wing mass =          {linear_problem['pull_up_sol_105.mass'][0]:.0f} kg\")\n",
    "print(f\"landing gross mass = {linear_problem['lgm_comp.landingGrossMass'][0]:.0f} kg\")\n",
    "print(f\"pull-up maneuver lift =          {linear_problem['pull_up_sol_144.lift'][0]:.0f} N\")\n",
    "print(f\"pull-up load factor =            {linear_problem['pull_up_lf_comp.load_factor'][0]:.2f}\")\n",
    "print(f\"pull-up maneuver ks stress =     {linear_problem['pull_up_sol_105.ks_stress'][0]:.0f} Pa\")\n",
    "print(f\"pull-up maneuver ks buckling =   {linear_problem['pull_up_sol_105.ks_buckling'][0]:.2f}\")\n",
    "print(f\"push-down maneuver lift =        {linear_problem['push_down_sol_144.lift'][0]:.0f} N\")\n",
    "print(f\"push-down load factor =          {linear_problem['push_down_lf_comp.load_factor'][0]:.2f}\")\n",
    "print(f\"push-down maneuver ks stress =   {linear_problem['push_down_sol_105.ks_stress'][0]:.0f} Pa\")\n",
    "print(f\"push-down maneuver ks buckling = {linear_problem['push_down_sol_105.ks_buckling'][0]:.2f}\")"
   ]
  },
  {
   "cell_type": "markdown",
   "metadata": {},
   "source": [
    "Set up optimization problem."
   ]
  },
  {
   "cell_type": "code",
   "execution_count": null,
   "metadata": {},
   "outputs": [],
   "source": [
    "# Remove start suffix from input names\n",
    "linear_problem.model.options['input_name_suffix'] = \"\"\n",
    "\n",
    "# Set default initial design variables\n",
    "for part in ['ribs', 'front_spar', 'rear_spar', 'top_skin', 'bottom_skin']:\n",
    "    linear_problem.model.set_input_defaults(\n",
    "        f'{part}_interp.t_cp', initial_panel_thickness_vector)\n",
    "for part in ['top_stiffeners', 'bottom_stiffeners']:\n",
    "    linear_problem.model.set_input_defaults(\n",
    "        f'{part}_interp.t_cp', initial_stiffener_thickness_vector)\n",
    "\n",
    "# Choose optimizer\n",
    "linear_problem.driver = om.ScipyOptimizeDriver()\n",
    "linear_problem.driver.options['optimizer'] = 'COBYLA'\n",
    "linear_problem.driver.options['tol'] = OPTIMIZER_TOLERANCE\n",
    "linear_problem.driver.options['maxiter'] = 400\n",
    "\n",
    "# Add objective\n",
    "linear_problem.model.add_objective('pull_up_sol_105.mass', ref=mass_0)\n",
    "\n",
    "# Add design variables\n",
    "for part in ['ribs', 'front_spar', 'rear_spar', 'top_skin', 'bottom_skin']:\n",
    "    linear_problem.model.add_design_var(\n",
    "        f'{part}_interp.t_cp',\n",
    "        lower=min_thickness,\n",
    "        upper=max_panel_thickness,\n",
    "        ref=wingGeometry.panelThickness,\n",
    "        ref0=min_thickness)\n",
    "for part in ['top_stiffeners', 'bottom_stiffeners']:\n",
    "    linear_problem.model.add_design_var(\n",
    "        f'{part}_interp.t_cp',\n",
    "        lower=min_thickness,\n",
    "        upper=max_stiffener_thickness,\n",
    "        ref=wingGeometry.stiffenerThickness,\n",
    "        ref0=min_thickness)\n",
    "linear_problem.model.add_design_var(\n",
    "    'maneuver_aoa',\n",
    "    lower=-11.,\n",
    "    upper=12.5,\n",
    "    ref=initial_maneuver_aoa[0],\n",
    "    ref0=-11.)\n",
    "\n",
    "# Add constraints\n",
    "linear_problem.model.add_constraint(\n",
    "    'pull_up_sol_105.ks_stress', upper=0., ref=np.abs(pull_up_ks_stress_0))\n",
    "linear_problem.model.add_constraint('pull_up_sol_105.ks_buckling', upper=0.)\n",
    "linear_problem.model.add_constraint(\n",
    "    'push_down_sol_105.ks_stress', upper=0., ref=np.abs(push_down_ks_stress_0))\n",
    "linear_problem.model.add_constraint('push_down_sol_105.ks_buckling', upper=0.)\n",
    "linear_problem.model.add_constraint(\n",
    "    'pull_up_lf_comp.load_factor', lower=2.499, upper=2.501)\n",
    "linear_problem.model.add_constraint(\n",
    "    'push_down_lf_comp.load_factor', lower=-1.001, upper=-0.999)"
   ]
  },
  {
   "cell_type": "markdown",
   "metadata": {},
   "source": [
    "Run optimization."
   ]
  },
  {
   "cell_type": "code",
   "execution_count": null,
   "metadata": {},
   "outputs": [],
   "source": [
    "# Set up print options for numpy arrays\n",
    "np.set_printoptions(precision=5, suppress=True)\n",
    "\n",
    "# Define recorder file path\n",
    "recorder_filename = \"linear_optimization\"\n",
    "recorder_filepath = os.path.join(\n",
    "    ANALYSIS_DIRECTORY_PATH, recorder_filename + '.sql')\n",
    "\n",
    "# Define whether to run optimization or not\n",
    "run_optimization = False\n",
    "\n",
    "if run_optimization:\n",
    "    # If optimization is to be run, set up recorder and run optimization\n",
    "    recorder = om.SqliteRecorder(recorder_filepath)  # create recorder\n",
    "    linear_problem.driver.add_recorder(recorder)  # attach recorder to driver\n",
    "    linear_problem.setup()  # re-setup problem before running optimization\n",
    "    linear_problem.set_solver_print(0)  # disable solver output\n",
    "    linear_problem.driver.options['debug_print'] = ['desvars','nl_cons','objs']\n",
    "    linear_problem.run_driver()\n",
    "else:\n",
    "    # If optimization is not to be run, call final setup to enable driver\n",
    "    # variables list\n",
    "    linear_problem.setup()\n",
    "    linear_problem.final_setup()\n",
    "    \n",
    "# Clean up resources prior to exit\n",
    "linear_problem.cleanup()"
   ]
  },
  {
   "cell_type": "markdown",
   "metadata": {},
   "source": [
    "Plot optimization history."
   ]
  },
  {
   "cell_type": "code",
   "execution_count": null,
   "metadata": {},
   "outputs": [],
   "source": [
    "from resources.optimization_utils import plot_optimization_history\n",
    "\n",
    "# Find design variables and objectives/constraints\n",
    "driver_variables = linear_problem.list_driver_vars()\n",
    "\n",
    "# Plot histories of design variables\n",
    "design_variables = [var[0] for var in driver_variables['design_vars']]\n",
    "design_variable_labels = [\n",
    "    \"$t_{\\mathrm{ribs}}$, m\", \"$t_{\\mathrm{front\\ spar}}$, m\",\n",
    "    \"$t_{\\mathrm{rear\\ spar}}$, m\", \"$t_{\\mathrm{top\\ skin}}$, m\",\n",
    "    \"$t_{\\mathrm{bot\\ skin}}$, m\", \"$t_{\\mathrm{top\\ stif}}$, m\",\n",
    "    \"$t_{\\mathrm{bot\\ stif}}$, m\", \"$\\\\alpha$, deg\"]\n",
    "_, axes, design_variable_histories = plot_optimization_history(\n",
    "    recorder_filepath=recorder_filepath,\n",
    "    variable_names=design_variables,\n",
    "    y_labels=design_variable_labels)\n",
    "axes[0].legend([\"Root\", \"SOB\", \"Tip\"], ncol=3)\n",
    "axes[-1].legend([\"Pull-up\", \"Push-down\"], ncol=2)\n",
    "plt.show()\n",
    "\n",
    "# Plot histories of objective and constraints\n",
    "objective_constraints = [var[0] for var in driver_variables['objectives']] +\\\n",
    "    [var[0] for var in driver_variables['constraints']]\n",
    "objective_constraints_labels = [\n",
    "    \"$M_{\\mathrm{wing}}$, kg\", \"$KS_{\\sigma,\\,2.5\\mathrm{g}}$, Pa\",\n",
    "    \"$KS_{BLF,\\,2.5\\mathrm{g}}$\", \"$KS_{\\sigma,\\,-1\\mathrm{g}}$, Pa\",\n",
    "    \"$KS_{BLF,\\,-1\\mathrm{g}}$\", \"$n_{2.5\\mathrm{g}}$\", \"$n_{-1\\mathrm{g}}$\"]\n",
    "_, axes, objective_constraints_histories = plot_optimization_history(\n",
    "    recorder_filepath=recorder_filepath,\n",
    "    variable_names=objective_constraints,\n",
    "    y_labels=objective_constraints_labels)\n",
    "plt.show()"
   ]
  },
  {
   "cell_type": "markdown",
   "metadata": {},
   "source": [
    "Plot critical buckling mode of pull-up maneuver of linearly optimized structure."
   ]
  },
  {
   "cell_type": "code",
   "execution_count": null,
   "metadata": {},
   "outputs": [],
   "source": [
    "# Read op2 file of analysis of optimized structure\n",
    "op2_filepath = os.path.join(ANALYSIS_DIRECTORY_PATH, \"sol_105_pull_up.op2\")\n",
    "sol_105_op2 = read_op2(op2_filepath, load_geometry=True, debug=None)\n",
    "\n",
    "# Plot critical buckling mode and highlight max displacement node\n",
    "_, ax, cbar = plot_utils.plot_eigenvector(\n",
    "    op2=sol_105_op2, subcase_id=SECOND_SUBCASE_ID, displacement_component='tz',\n",
    "    colormap='sunset', displacement_amplification_factor=amplification_factor)\n",
    "max_disp_node_id = plot_utils.plot_max_displacement_node(\n",
    "    axes=ax, op2=sol_105_op2,\n",
    "    displacement_amplification_factor=amplification_factor)\n",
    "ax.legend()\n",
    "adjust_3d_plot(ax, cbar)\n",
    "plt.show()"
   ]
  },
  {
   "cell_type": "markdown",
   "metadata": {},
   "source": [
    "### Nonlinear structural stability optimization <a class=\"anchor\" id = \"nonlinear-optimization\"></a>\n",
    "\n",
    "Define nonlinear problem."
   ]
  },
  {
   "cell_type": "code",
   "execution_count": null,
   "metadata": {},
   "outputs": [],
   "source": [
    "# Apply safety factor to SOL 144 loads\n",
    "sol_106_bdf.load_combinations[LOAD_SET_ID][0].scale_factors[1] = 1.5\n",
    "\n",
    "# Change DMAP to store eigenvectors\n",
    "dmap_eigenvectors = sol_106_bdf.executive_control_lines[-2].replace(\n",
    "    \"eigenvalues_nobuckle\", \"eigenvectors\")\n",
    "sol_106_bdf.executive_control_lines[-2] = dmap_eigenvectors\n",
    "\n",
    "# Find value of thickness vectors at the end of the linear optimization\n",
    "linear_opt_thickness_vectors = [\n",
    "    history[-1] for history in design_variable_histories.values()]\n",
    "linear_opt_thickness_vectors = linear_opt_thickness_vectors[:-1]\n",
    "\n",
    "class Nonlinear(Multipoint):\n",
    "    def initialize(self):\n",
    "        self.options.declare('sol_106_bdf', default=None)\n",
    "        self.options.declare('input_name_suffix', default='')\n",
    "        self.options.declare('run_flag', default=True)\n",
    "\n",
    "    def setup(self):\n",
    "        #----------------#\n",
    "        # Initialization #\n",
    "        #----------------#\n",
    "        self.sol_106_bdf = self.options['sol_106_bdf']\n",
    "        self.input_name_suffix = self.options['input_name_suffix']\n",
    "        self.run_flag = self.options['run_flag']\n",
    "\n",
    "        #-----#\n",
    "        # IVC #\n",
    "        #-----#\n",
    "        ivc = self.add_subsystem('ivc', om.IndepVarComp(), promotes=['*'])\n",
    "        ivc.add_output(\n",
    "            \"yield_strength\", val=wingGeometry.yieldStrength, units=\"Pa\")\n",
    "\n",
    "        #--------------------------#\n",
    "        # Interpolation components #\n",
    "        #--------------------------#    \n",
    "        # Function to add interpolation component\n",
    "        def add_interp_comp(y_coords, part_name, y_cp_val):\n",
    "            interp_comp = om.SplineComp(\n",
    "                method='slinear',\n",
    "                x_cp_val=wingGeometry.LESparCoords[:, 1],\n",
    "                x_interp_val=y_coords)\n",
    "            interp_comp.add_spline(\n",
    "                y_cp_name='t_cp', y_interp_name='t_interp',\n",
    "                y_cp_val=y_cp_val, y_units='m')\n",
    "            self.add_subsystem(f'{part_name}_interp', interp_comp)\n",
    "            self.connect(\n",
    "                f'{part_name}_interp.t_interp', f'dv_comp.t_{part_name}')\n",
    "        \n",
    "        # Ribs\n",
    "        add_interp_comp(\n",
    "                ribs_y_coords, 'ribs', linear_opt_thickness_vectors[0])\n",
    "        \n",
    "        # Remaining parts\n",
    "        for i, part in enumerate([\n",
    "            'front_spar', 'rear_spar', 'top_skin', 'bottom_skin',\\\n",
    "                'top_stiffeners', 'bottom_stiffeners']):\n",
    "            add_interp_comp(\n",
    "                panels_y_coords, part, linear_opt_thickness_vectors[i + 1])\n",
    "            \n",
    "        #-------------------------#\n",
    "        # Design vector assembler #\n",
    "        #-------------------------#\n",
    "        self.add_subsystem('dv_comp', NastranDVComp(layout=stw_layout))\n",
    "\n",
    "        #----------------------------#\n",
    "        # Add builders and scenarios #\n",
    "        #----------------------------#\n",
    "        for i, flight_point in enumerate([\"pull_up\", \"push_down\"]):\n",
    "            # Nastran builder\n",
    "            input_name = \"sol_106_\" + flight_point + self.input_name_suffix\n",
    "            self.sol_106_bdf._xref = False\n",
    "            bdf = self.sol_106_bdf.__deepcopy__({})\n",
    "            bdf.cross_reference(xref_loads=False)\n",
    "            builder = NastranBuilder(\n",
    "                analysis_directory_path=ANALYSIS_DIRECTORY_PATH,\n",
    "                input_name=input_name, bdf=bdf, run_flag=self.run_flag)\n",
    "            builder.initialize()\n",
    "            # Include the pch file with the forces obtained from SOL 144\n",
    "            builder.solver.bdf.reject_lines[0][0] =\\\n",
    "                \"INCLUDE 'sol_144_\" + flight_point + \".pch'\"\n",
    "            # Structures only scenario\n",
    "            scenario_name = flight_point + \"_sol_106\"\n",
    "            self.mphys_add_scenario(\n",
    "                scenario_name,\n",
    "                ScenarioStructural(struct_builder=builder))\n",
    "            # Structural mesh\n",
    "            self.add_subsystem(\n",
    "                scenario_name + \"_mesh\",\n",
    "                builder.get_mesh_coordinate_subsystem())\n",
    "            # Connections\n",
    "            self.connect(\n",
    "                \"yield_strength\", scenario_name + \".yield_strength\")\n",
    "            self.connect(\n",
    "                scenario_name + \"_mesh.x_struct0\",\n",
    "                scenario_name + \".x_struct0\")\n",
    "            self.connect(\"dv_comp.dv_struct\", scenario_name + \".dv_struct\")"
   ]
  },
  {
   "cell_type": "markdown",
   "metadata": {},
   "source": [
    "Run starting design point of nonlinear optimization."
   ]
  },
  {
   "cell_type": "code",
   "execution_count": null,
   "metadata": {},
   "outputs": [],
   "source": [
    "nonlinear_problem = om.Problem(name=\"nonlinear_problem\")\n",
    "nonlinear_problem.model = Nonlinear(\n",
    "    sol_106_bdf=sol_106_bdf,\n",
    "    input_name_suffix=\"_start\",\n",
    "    run_flag=False)\n",
    "nonlinear_problem.setup()\n",
    "\n",
    "nonlinear_problem.run_model()\n",
    "\n",
    "mass_0 = nonlinear_problem['pull_up_sol_106.mass'][0]\n",
    "pull_up_ks_stress_0 = nonlinear_problem['pull_up_sol_106.ks_stress'][0]\n",
    "pull_up_ks_stability_0 = nonlinear_problem['pull_up_sol_106.ks_stability'][0]\n",
    "push_down_ks_stress_0 = nonlinear_problem['push_down_sol_106.ks_stress'][0]\n",
    "push_down_ks_stability_0 = nonlinear_problem['push_down_sol_106.ks_stability'][0]\n",
    "\n",
    "print(f\"wing mass =          {nonlinear_problem['pull_up_sol_106.mass'][0]:.0f} kg\")\n",
    "print(f\"pull-up maneuver ks stress =      {nonlinear_problem['pull_up_sol_106.ks_stress'][0]:.0f} Pa\")\n",
    "print(f\"pull-up maneuver ks stability =   {nonlinear_problem['pull_up_sol_106.ks_stability'][0]:.2f} N/m\")\n",
    "print(f\"push-down maneuver ks stress =    {nonlinear_problem['push_down_sol_106.ks_stress'][0]:.0f} Pa\")  \n",
    "print(f\"push-down maneuver ks stability = {nonlinear_problem['push_down_sol_106.ks_stability'][0]:.2f} N/m\")"
   ]
  },
  {
   "cell_type": "markdown",
   "metadata": {},
   "source": [
    "Plot eigenvalue diagram of pull-up maneuver case."
   ]
  },
  {
   "cell_type": "code",
   "execution_count": null,
   "metadata": {},
   "outputs": [],
   "source": [
    "# Read op2 file\n",
    "op2_filepath = os.path.join(\n",
    "    ANALYSIS_DIRECTORY_PATH, \"sol_106_pull_up_start.op2\")\n",
    "sol_106_op2 = read_op2(op2_filepath, load_geometry=True, debug=None)\n",
    "\n",
    "# Read loads and eigenvalues\n",
    "load_factors, _, _ =\\\n",
    "pynastran_utils.read_load_displacement_history_from_op2(op2=sol_106_op2)\n",
    "subcase_key = next(iter(load_factors.keys()))\n",
    "nondimensional_loads = load_factors[subcase_key]\n",
    "eigenvalues = pynastran_utils.read_kllrh_lowest_eigenvalues_from_op2(\n",
    "    op2=sol_106_op2)\n",
    "\n",
    "# Plot the eigenvalue diagram for both models\n",
    "_, ax = plot_utils.plot_eigenvalue_diagram(\n",
    "    loads=nondimensional_loads,\n",
    "    eigenvalues=eigenvalues)\n",
    "\n",
    "# Finalize plot appearance\n",
    "ax.set_xlabel(\"$P/P_\\mathrm{target}$\")\n",
    "ax.set_ylabel(f\"$\\lambda$, N/m\")\n",
    "ax.grid(visible=True)\n",
    "plt.tight_layout()\n",
    "plt.show()"
   ]
  },
  {
   "cell_type": "markdown",
   "metadata": {},
   "source": [
    "Nonlinear critical load is smaller than linear buckling load (occurring at $P/P_\\mathrm{target}=1.0$)."
   ]
  },
  {
   "cell_type": "code",
   "execution_count": null,
   "metadata": {},
   "outputs": [],
   "source": [
    "first_negative_eigenvalue_index = np.where(eigenvalues[0] < 0)[0][0]\n",
    "nonlinear_critical_load = nondimensional_loads[first_negative_eigenvalue_index]\n",
    "print(f\"Nonlinear critical load factor: {nonlinear_critical_load:.2f}\")"
   ]
  },
  {
   "cell_type": "markdown",
   "metadata": {},
   "source": [
    "Plot critical eigenvector."
   ]
  },
  {
   "cell_type": "code",
   "execution_count": null,
   "metadata": {},
   "outputs": [],
   "source": [
    "eigenvectors_key = next(iter(sol_106_op2.eigenvectors))\n",
    "critical_eigenvector_number =\\\n",
    "    NO_EIGENVALUES*first_negative_eigenvalue_index + 1\n",
    "amplification_factor = 10\n",
    "_, ax, cbar = plot_utils.plot_eigenvector(\n",
    "        op2=sol_106_op2, subcase_id=eigenvectors_key,\n",
    "        eigenvector_number=critical_eigenvector_number,\n",
    "        displacement_component='tz', colormap='sunset',\n",
    "        displacement_amplification_factor=amplification_factor)\n",
    "max_disp_node_id = plot_utils.plot_max_displacement_node(\n",
    "    axes=ax, op2=sol_106_op2, subcase_id=eigenvectors_key,\n",
    "    eigenvector_number=critical_eigenvector_number,\n",
    "    displacement_amplification_factor=amplification_factor)\n",
    "ax.legend()\n",
    "adjust_3d_plot(ax, cbar)\n",
    "plt.show()"
   ]
  },
  {
   "cell_type": "markdown",
   "metadata": {},
   "source": [
    "Plot only ribs."
   ]
  },
  {
   "cell_type": "code",
   "execution_count": null,
   "metadata": {},
   "outputs": [],
   "source": [
    "element_ids_dict = find_element_ids(stw_layout, ['RIB'])\n",
    "ribs_elements_ids = element_ids_dict['RIB']\n",
    "_, ax, cbar = plot_utils.plot_eigenvector(\n",
    "        op2=sol_106_op2, subcase_id=eigenvectors_key,\n",
    "        elements_ids=ribs_elements_ids,\n",
    "        eigenvector_number=critical_eigenvector_number,\n",
    "        displacement_component='ty', colormap='sunset',\n",
    "        displacement_amplification_factor=amplification_factor)\n",
    "max_disp_node_id = plot_utils.plot_max_displacement_node(\n",
    "    axes=ax, op2=sol_106_op2, subcase_id=eigenvectors_key,\n",
    "    eigenvector_number=critical_eigenvector_number,\n",
    "    displacement_amplification_factor=amplification_factor)\n",
    "ax.legend()\n",
    "adjust_3d_plot(ax, cbar)\n",
    "plt.show()"
   ]
  },
  {
   "cell_type": "markdown",
   "metadata": {},
   "source": [
    "Plot load-displacement diagram in terms of the $y$-displacement of the node experiencing the largest displacement in the critical eigenvector and of the tip displacement."
   ]
  },
  {
   "cell_type": "code",
   "execution_count": null,
   "metadata": {},
   "outputs": [],
   "source": [
    "# Create figure for load-displacement diagram\n",
    "fig, axes = plt.subplots(1, 2, sharey=True)  # create a figure with two subplots\n",
    "displacement_labels = [\"y,\\,\\mathrm{rib}\", \"z,\\,\\mathrm{tip}\"]  # labels for the displacements\n",
    "reference_lengths = [wingGeometry.meanAerodynamicChord, wingGeometry.semiSpan]  # reference lengths for the displacements\n",
    "reference_lengths_labels = [r\"\\mathrm{MAC}\", r\"\\left(b/2\\right)\"]  # labels for the reference lengths\n",
    "stable_lines = []  # list to store proxy artists for the legend\n",
    "\n",
    "# Read the displacement history\n",
    "_, _, displacements =\\\n",
    "    pynastran_utils.read_load_displacement_history_from_op2(\n",
    "    op2=sol_106_op2,\n",
    "    node_ids=[max_disp_node_id] + list(tip_nodes_ids))\n",
    "    \n",
    "# Calculate nondimensional SOB displacements\n",
    "nondimensional_rib_displacements = displacements[\n",
    "    max_disp_node_id][subcase_key][:, Y_COMPONENT_INDEX]/\\\n",
    "        wingGeometry.meanAerodynamicChord\n",
    "\n",
    "# Calculate nondimensional tip displacements\n",
    "nondimensional_tip_displacements = calculate_tip_deflection(\n",
    "    displacements[tip_nodes_ids[0]][subcase_key],\n",
    "    displacements[tip_nodes_ids[1]][subcase_key])/wingGeometry.semiSpan\n",
    "\n",
    "# Store nondimensional displacements in a list\n",
    "displacement_list = [\n",
    "    nondimensional_rib_displacements, nondimensional_tip_displacements]\n",
    "\n",
    "# Loop over the two displacements and plot the load-displacement diagram\n",
    "for i, displacements in enumerate(displacement_list):\n",
    "    plot_utils.plot_2d_load_displacements_stability(\n",
    "        axes=axes[i],\n",
    "        displacements=displacements*100,\n",
    "        loads=nondimensional_loads,\n",
    "        eigenvalues=eigenvalues,\n",
    "        marker=MARKERS[0], color=COLORS[0])\n",
    "    # Plot glass-ceiling line\n",
    "    axes[i].axhline(\n",
    "        y=1., color=GLASS_CEILING_COLOR, linestyle='-.')\n",
    "    # Set grid and x-axis label\n",
    "    axes[i].grid(visible=True)\n",
    "    axes[i].set_xlabel(\n",
    "        f\"$u_{{{displacement_labels[i]}}}/{reference_lengths_labels[i]}$, %\")\n",
    "\n",
    "# Add proxy artist for the legend\n",
    "stable_line = Line2D(\n",
    "    [0], [0], linestyle='-', marker=MARKERS[0], color=COLORS[0], label=\"stable\")\n",
    "fig.legend(\n",
    "    handles=[stable_line, unstable_line, linear_buckling_line],\n",
    "    frameon=False, ncol=3, loc=\"upper center\", bbox_to_anchor=(0.5, 1.))\n",
    "\n",
    "# Set plot appearance\n",
    "axes[0].set_ylabel(\"$P/P_\\mathrm{target}$\")\n",
    "plt.show()"
   ]
  },
  {
   "cell_type": "markdown",
   "metadata": {},
   "source": [
    "Set up nonlinear optimization problem."
   ]
  },
  {
   "cell_type": "code",
   "execution_count": null,
   "metadata": {},
   "outputs": [],
   "source": [
    "# Change DMAP to stop analysis after first negative eigenvalue\n",
    "dmap_stop = dmap_eigenvectors.replace(\"eigenvectors\", \"eigenvalues_stop\")\n",
    "sol_106_bdf.executive_control_lines[-2] = dmap_stop\n",
    "\n",
    "# Reduce maximum number of increments\n",
    "sol_106_bdf.nlpcis[1].mxinc = 150\n",
    "\n",
    "# Remove start suffix from input names\n",
    "nonlinear_problem.model.options['input_name_suffix'] = \"\"\n",
    "\n",
    "# Set default initial design variables\n",
    "for i, part in enumerate([\n",
    "    'ribs', 'front_spar', 'rear_spar', 'top_skin', 'bottom_skin',\\\n",
    "        'top_stiffeners', 'bottom_stiffeners']):\n",
    "    nonlinear_problem.model.set_input_defaults(\n",
    "        f'{part}_interp.t_cp', linear_opt_thickness_vectors[i])\n",
    "\n",
    "# Choose optimizer\n",
    "nonlinear_problem.driver = om.ScipyOptimizeDriver()\n",
    "nonlinear_problem.driver.options['optimizer'] = 'COBYLA'\n",
    "nonlinear_problem.driver.options['tol'] = OPTIMIZER_TOLERANCE\n",
    "nonlinear_problem.driver.options['maxiter'] = 50\n",
    "\n",
    "# Add objective\n",
    "nonlinear_problem.model.add_objective('pull_up_sol_106.mass', ref=mass_0)\n",
    "\n",
    "# Add design variables\n",
    "for part in ['ribs', 'front_spar', 'rear_spar', 'top_skin', 'bottom_skin']:\n",
    "    nonlinear_problem.model.add_design_var(\n",
    "        f'{part}_interp.t_cp',\n",
    "        lower=min_thickness,\n",
    "        upper=max_panel_thickness,\n",
    "        ref=wingGeometry.panelThickness,\n",
    "        ref0=min_thickness)\n",
    "for part in ['top_stiffeners', 'bottom_stiffeners']:\n",
    "    nonlinear_problem.model.add_design_var(\n",
    "        f'{part}_interp.t_cp',\n",
    "        lower=min_thickness,\n",
    "        upper=max_stiffener_thickness,\n",
    "        ref=wingGeometry.stiffenerThickness,\n",
    "        ref0=min_thickness)\n",
    "\n",
    "# Add constraints\n",
    "nonlinear_problem.model.add_constraint(\n",
    "    'pull_up_sol_106.ks_stress',\n",
    "    upper=0.,\n",
    "    ref=np.abs(pull_up_ks_stress_0))\n",
    "nonlinear_problem.model.add_constraint(\n",
    "    'pull_up_sol_106.ks_stability',\n",
    "    upper=0.,\n",
    "    ref=eigenvalues[0][0])\n",
    "nonlinear_problem.model.add_constraint(\n",
    "    'pull_up_sol_106.load_factor',\n",
    "    lower=.999)\n",
    "nonlinear_problem.model.add_constraint(\n",
    "    'push_down_sol_106.ks_stress',\n",
    "    upper=0.,\n",
    "    ref=np.abs(push_down_ks_stress_0))\n",
    "nonlinear_problem.model.add_constraint(\n",
    "    'push_down_sol_106.ks_stability',\n",
    "    upper=0.,\n",
    "    ref=np.abs(push_down_ks_stability_0))\n",
    "nonlinear_problem.model.add_constraint(\n",
    "    'push_down_sol_106.load_factor',\n",
    "    upper=.999)"
   ]
  },
  {
   "cell_type": "markdown",
   "metadata": {},
   "source": [
    "Run nonlinear optimization."
   ]
  },
  {
   "cell_type": "code",
   "execution_count": null,
   "metadata": {},
   "outputs": [
    {
     "name": "stdout",
     "output_type": "stream",
     "text": [
      "Nastran job sol_106_push_down.bdf completed\n",
      "Wall time: 1087.0 s\n"
     ]
    },
    {
     "data": {
      "text/html": [
       "<text style=color:orange>WARNING: subcase.py:683               nwords_to_lsem=1000 nwords_to_lsem//4=250\n",
       "</text>"
      ],
      "text/plain": [
       "<IPython.core.display.HTML object>"
      ]
     },
     "metadata": {},
     "output_type": "display_data"
    },
    {
     "data": {
      "text/html": [
       "<text style=color:orange>WARNING: subcase.py:683               nwords_to_lsem=1000 nwords_to_lsem//4=250\n",
       "</text>"
      ],
      "text/plain": [
       "<IPython.core.display.HTML object>"
      ]
     },
     "metadata": {},
     "output_type": "display_data"
    },
    {
     "name": "stdout",
     "output_type": "stream",
     "text": [
      "Nonlinear constraints\n",
      "{'pull_up_sol_106.ks_stability': array([-14.55322]),\n",
      " 'pull_up_sol_106.ks_stress': array([-27729504.]),\n",
      " 'pull_up_sol_106.load_factor': array([1.]),\n",
      " 'push_down_sol_106.ks_stability': array([-14.57341]),\n",
      " 'push_down_sol_106.ks_stress': array([-2.655e+08]),\n",
      " 'push_down_sol_106.load_factor': array([1.])}\n",
      "\n",
      "Objectives\n",
      "{'pull_up_sol_106.mass': array([2064.80865])}\n",
      "\n",
      "Driver debug print for iter coord: rank0:ScipyOptimize_COBYLA|45\n",
      "----------------------------------------------------------------\n",
      "Design Vars\n",
      "{'bottom_skin_interp.t_cp': array([[0.00928, 0.01242, 0.00332]]),\n",
      " 'bottom_stiffeners_interp.t_cp': array([[0.00623, 0.0053 , 0.0093 ]]),\n",
      " 'front_spar_interp.t_cp': array([[0.01298, 0.00587, 0.00408]]),\n",
      " 'rear_spar_interp.t_cp': array([[0.00749, 0.01726, 0.00605]]),\n",
      " 'ribs_interp.t_cp': array([[0.00643, 0.00436, 0.00462]]),\n",
      " 'top_skin_interp.t_cp': array([[0.00736, 0.01824, 0.00626]]),\n",
      " 'top_stiffeners_interp.t_cp': array([[0.00528, 0.00852, 0.00786]])}\n",
      "\n"
     ]
    },
    {
     "data": {
      "text/html": [
       "<text style=color:orange>WARNING: write_mesh.py:1333           is_double=True...changing size from 8 to 16...\n",
       "</text>"
      ],
      "text/plain": [
       "<IPython.core.display.HTML object>"
      ]
     },
     "metadata": {},
     "output_type": "display_data"
    },
    {
     "name": "stderr",
     "output_type": "stream",
     "text": [
      "\n",
      "*** SYSTEM INFORMATION MESSAGE (pgm: nastran, fn: estimate_job_requirements)\n",
      "    Starting ESTIMATE, please wait...\n"
     ]
    },
    {
     "name": "stdout",
     "output_type": "stream",
     "text": [
      "MSC Nastran V2024.2 (Intel Linux 6.8.0-49-generic) Fri Dec  6 08:42:34 2024\n"
     ]
    },
    {
     "name": "stderr",
     "output_type": "stream",
     "text": [
      "\n",
      "*** USER INFORMATION MESSAGE (pgm: nastran, fn: estimate_job_requirements)\n",
      "    Estimated memory=96411.0MB\n",
      "    Estimated pmem=0+\n"
     ]
    },
    {
     "name": "stdout",
     "output_type": "stream",
     "text": [
      "MSC Nastran beginning job sol_106_pull_up.\n",
      "Nastran job sol_106_pull_up.bdf completed\n",
      "Wall time: 1629.0 s\n"
     ]
    },
    {
     "data": {
      "text/html": [
       "<text style=color:orange>WARNING: subcase.py:683               nwords_to_lsem=1000 nwords_to_lsem//4=250\n",
       "</text>"
      ],
      "text/plain": [
       "<IPython.core.display.HTML object>"
      ]
     },
     "metadata": {},
     "output_type": "display_data"
    },
    {
     "data": {
      "text/html": [
       "<text style=color:orange>WARNING: subcase.py:683               nwords_to_lsem=1000 nwords_to_lsem//4=250\n",
       "</text>"
      ],
      "text/plain": [
       "<IPython.core.display.HTML object>"
      ]
     },
     "metadata": {},
     "output_type": "display_data"
    },
    {
     "data": {
      "text/html": [
       "<text style=color:orange>WARNING: write_mesh.py:1333           is_double=True...changing size from 8 to 16...\n",
       "</text>"
      ],
      "text/plain": [
       "<IPython.core.display.HTML object>"
      ]
     },
     "metadata": {},
     "output_type": "display_data"
    },
    {
     "name": "stdout",
     "output_type": "stream",
     "text": [
      "MSC Nastran V2024.2 (Intel Linux 6.8.0-49-generic) Fri Dec  6 09:09:59 2024\n"
     ]
    },
    {
     "name": "stderr",
     "output_type": "stream",
     "text": [
      "\n",
      "*** SYSTEM INFORMATION MESSAGE (pgm: nastran, fn: estimate_job_requirements)\n",
      "    Starting ESTIMATE, please wait...\n",
      "\n",
      "*** USER INFORMATION MESSAGE (pgm: nastran, fn: estimate_job_requirements)\n",
      "    Estimated memory=96411.0MB\n",
      "    Estimated pmem=0+\n"
     ]
    },
    {
     "name": "stdout",
     "output_type": "stream",
     "text": [
      "MSC Nastran beginning job sol_106_push_down.\n",
      "Nastran job sol_106_push_down.bdf completed\n",
      "Wall time: 1081.0 s\n"
     ]
    },
    {
     "data": {
      "text/html": [
       "<text style=color:orange>WARNING: subcase.py:683               nwords_to_lsem=1000 nwords_to_lsem//4=250\n",
       "</text>"
      ],
      "text/plain": [
       "<IPython.core.display.HTML object>"
      ]
     },
     "metadata": {},
     "output_type": "display_data"
    },
    {
     "data": {
      "text/html": [
       "<text style=color:orange>WARNING: subcase.py:683               nwords_to_lsem=1000 nwords_to_lsem//4=250\n",
       "</text>"
      ],
      "text/plain": [
       "<IPython.core.display.HTML object>"
      ]
     },
     "metadata": {},
     "output_type": "display_data"
    },
    {
     "name": "stdout",
     "output_type": "stream",
     "text": [
      "Nonlinear constraints\n",
      "{'pull_up_sol_106.ks_stability': array([-14.80959]),\n",
      " 'pull_up_sol_106.ks_stress': array([-37625536.]),\n",
      " 'pull_up_sol_106.load_factor': array([1.]),\n",
      " 'push_down_sol_106.ks_stability': array([-14.85157]),\n",
      " 'push_down_sol_106.ks_stress': array([-2.6036e+08]),\n",
      " 'push_down_sol_106.load_factor': array([1.])}\n",
      "\n",
      "Objectives\n",
      "{'pull_up_sol_106.mass': array([2095.46393])}\n",
      "\n",
      "Driver debug print for iter coord: rank0:ScipyOptimize_COBYLA|46\n",
      "----------------------------------------------------------------\n",
      "Design Vars\n",
      "{'bottom_skin_interp.t_cp': array([[0.00886, 0.00999, 0.00226]]),\n",
      " 'bottom_stiffeners_interp.t_cp': array([[0.00632, 0.00512, 0.00832]]),\n",
      " 'front_spar_interp.t_cp': array([[0.01283, 0.00538, 0.00406]]),\n",
      " 'rear_spar_interp.t_cp': array([[0.00743, 0.01676, 0.00602]]),\n",
      " 'ribs_interp.t_cp': array([[0.0061 , 0.00313, 0.00433]]),\n",
      " 'top_skin_interp.t_cp': array([[0.00753, 0.01614, 0.00503]]),\n",
      " 'top_stiffeners_interp.t_cp': array([[0.00531, 0.00819, 0.00719]])}\n",
      "\n"
     ]
    },
    {
     "data": {
      "text/html": [
       "<text style=color:orange>WARNING: write_mesh.py:1333           is_double=True...changing size from 8 to 16...\n",
       "</text>"
      ],
      "text/plain": [
       "<IPython.core.display.HTML object>"
      ]
     },
     "metadata": {},
     "output_type": "display_data"
    },
    {
     "name": "stdout",
     "output_type": "stream",
     "text": [
      "MSC Nastran V2024.2 (Intel Linux 6.8.0-49-generic) Fri Dec  6 09:28:11 2024\n"
     ]
    },
    {
     "name": "stderr",
     "output_type": "stream",
     "text": [
      "\n",
      "*** SYSTEM INFORMATION MESSAGE (pgm: nastran, fn: estimate_job_requirements)\n",
      "    Starting ESTIMATE, please wait...\n",
      "\n",
      "*** USER INFORMATION MESSAGE (pgm: nastran, fn: estimate_job_requirements)\n",
      "    Estimated memory=96411.0MB\n",
      "    Estimated pmem=0+\n"
     ]
    },
    {
     "name": "stdout",
     "output_type": "stream",
     "text": [
      "MSC Nastran beginning job sol_106_pull_up.\n",
      "Nastran job sol_106_pull_up.bdf completed\n",
      "Wall time: 10341.0 s\n"
     ]
    },
    {
     "data": {
      "text/html": [
       "<text style=color:orange>WARNING: subcase.py:683               nwords_to_lsem=1000 nwords_to_lsem//4=250\n",
       "</text>"
      ],
      "text/plain": [
       "<IPython.core.display.HTML object>"
      ]
     },
     "metadata": {},
     "output_type": "display_data"
    },
    {
     "data": {
      "text/html": [
       "<text style=color:orange>WARNING: subcase.py:683               nwords_to_lsem=1000 nwords_to_lsem//4=250\n",
       "</text>"
      ],
      "text/plain": [
       "<IPython.core.display.HTML object>"
      ]
     },
     "metadata": {},
     "output_type": "display_data"
    },
    {
     "data": {
      "text/html": [
       "<text style=color:orange>WARNING: write_mesh.py:1333           is_double=True...changing size from 8 to 16...\n",
       "</text>"
      ],
      "text/plain": [
       "<IPython.core.display.HTML object>"
      ]
     },
     "metadata": {},
     "output_type": "display_data"
    },
    {
     "name": "stdout",
     "output_type": "stream",
     "text": [
      "MSC Nastran V2024.2 (Intel Linux 6.8.0-49-generic) Fri Dec  6 12:21:00 2024\n"
     ]
    },
    {
     "name": "stderr",
     "output_type": "stream",
     "text": [
      "\n",
      "*** SYSTEM INFORMATION MESSAGE (pgm: nastran, fn: estimate_job_requirements)\n",
      "    Starting ESTIMATE, please wait...\n",
      "\n",
      "*** USER INFORMATION MESSAGE (pgm: nastran, fn: estimate_job_requirements)\n",
      "    Estimated memory=96411.0MB\n",
      "    Estimated pmem=0+\n"
     ]
    },
    {
     "name": "stdout",
     "output_type": "stream",
     "text": [
      "MSC Nastran beginning job sol_106_push_down.\n",
      "Nastran job sol_106_push_down.bdf completed\n",
      "Wall time: 1201.0 s\n"
     ]
    },
    {
     "data": {
      "text/html": [
       "<text style=color:orange>WARNING: subcase.py:683               nwords_to_lsem=1000 nwords_to_lsem//4=250\n",
       "</text>"
      ],
      "text/plain": [
       "<IPython.core.display.HTML object>"
      ]
     },
     "metadata": {},
     "output_type": "display_data"
    },
    {
     "data": {
      "text/html": [
       "<text style=color:orange>WARNING: subcase.py:683               nwords_to_lsem=1000 nwords_to_lsem//4=250\n",
       "</text>"
      ],
      "text/plain": [
       "<IPython.core.display.HTML object>"
      ]
     },
     "metadata": {},
     "output_type": "display_data"
    },
    {
     "name": "stdout",
     "output_type": "stream",
     "text": [
      "Nonlinear constraints\n",
      "{'pull_up_sol_106.ks_stability': array([-0.08163]),\n",
      " 'pull_up_sol_106.ks_stress': array([-14289472.]),\n",
      " 'pull_up_sol_106.load_factor': array([0.90383]),\n",
      " 'push_down_sol_106.ks_stability': array([-12.66184]),\n",
      " 'push_down_sol_106.ks_stress': array([-2.39164e+08]),\n",
      " 'push_down_sol_106.load_factor': array([1.])}\n",
      "\n",
      "Objectives\n",
      "{'pull_up_sol_106.mass': array([1819.01352])}\n",
      "\n",
      "Driver debug print for iter coord: rank0:ScipyOptimize_COBYLA|47\n",
      "----------------------------------------------------------------\n",
      "Design Vars\n",
      "{'bottom_skin_interp.t_cp': array([[0.00907, 0.0112 , 0.00344]]),\n",
      " 'bottom_stiffeners_interp.t_cp': array([[0.00659, 0.00557, 0.00833]]),\n",
      " 'front_spar_interp.t_cp': array([[0.0132 , 0.00577, 0.00431]]),\n",
      " 'rear_spar_interp.t_cp': array([[0.0077 , 0.01732, 0.00648]]),\n",
      " 'ribs_interp.t_cp': array([[0.0066 , 0.00424, 0.00487]]),\n",
      " 'top_skin_interp.t_cp': array([[0.00813, 0.01775, 0.00623]]),\n",
      " 'top_stiffeners_interp.t_cp': array([[0.00557, 0.00859, 0.00771]])}\n",
      "\n"
     ]
    },
    {
     "data": {
      "text/html": [
       "<text style=color:orange>WARNING: write_mesh.py:1333           is_double=True...changing size from 8 to 16...\n",
       "</text>"
      ],
      "text/plain": [
       "<IPython.core.display.HTML object>"
      ]
     },
     "metadata": {},
     "output_type": "display_data"
    },
    {
     "name": "stdout",
     "output_type": "stream",
     "text": [
      "MSC Nastran V2024.2 (Intel Linux 6.8.0-49-generic) Fri Dec  6 12:41:11 2024\n"
     ]
    },
    {
     "name": "stderr",
     "output_type": "stream",
     "text": [
      "\n",
      "*** SYSTEM INFORMATION MESSAGE (pgm: nastran, fn: estimate_job_requirements)\n",
      "    Starting ESTIMATE, please wait...\n",
      "\n",
      "*** USER INFORMATION MESSAGE (pgm: nastran, fn: estimate_job_requirements)\n",
      "    Estimated memory=96411.0MB\n",
      "    Estimated pmem=0+\n"
     ]
    },
    {
     "name": "stdout",
     "output_type": "stream",
     "text": [
      "MSC Nastran beginning job sol_106_pull_up.\n",
      "Nastran job sol_106_pull_up.bdf completed\n",
      "Wall time: 1888.0 s\n"
     ]
    },
    {
     "data": {
      "text/html": [
       "<text style=color:orange>WARNING: subcase.py:683               nwords_to_lsem=1000 nwords_to_lsem//4=250\n",
       "</text>"
      ],
      "text/plain": [
       "<IPython.core.display.HTML object>"
      ]
     },
     "metadata": {},
     "output_type": "display_data"
    },
    {
     "data": {
      "text/html": [
       "<text style=color:orange>WARNING: subcase.py:683               nwords_to_lsem=1000 nwords_to_lsem//4=250\n",
       "</text>"
      ],
      "text/plain": [
       "<IPython.core.display.HTML object>"
      ]
     },
     "metadata": {},
     "output_type": "display_data"
    },
    {
     "data": {
      "text/html": [
       "<text style=color:orange>WARNING: write_mesh.py:1333           is_double=True...changing size from 8 to 16...\n",
       "</text>"
      ],
      "text/plain": [
       "<IPython.core.display.HTML object>"
      ]
     },
     "metadata": {},
     "output_type": "display_data"
    },
    {
     "name": "stdout",
     "output_type": "stream",
     "text": [
      "MSC Nastran V2024.2 (Intel Linux 6.8.0-49-generic) Fri Dec  6 13:12:54 2024\n",
      "MSC Nastran beginning job sol_106_push_down.\n"
     ]
    },
    {
     "name": "stderr",
     "output_type": "stream",
     "text": [
      "\n",
      "*** SYSTEM INFORMATION MESSAGE (pgm: nastran, fn: estimate_job_requirements)\n",
      "    Starting ESTIMATE, please wait...\n",
      "\n",
      "*** USER INFORMATION MESSAGE (pgm: nastran, fn: estimate_job_requirements)\n",
      "    Estimated memory=96411.0MB\n",
      "    Estimated pmem=0+\n"
     ]
    },
    {
     "name": "stdout",
     "output_type": "stream",
     "text": [
      "Nastran job sol_106_push_down.bdf completed\n",
      "Wall time: 1116.0 s\n"
     ]
    },
    {
     "data": {
      "text/html": [
       "<text style=color:orange>WARNING: subcase.py:683               nwords_to_lsem=1000 nwords_to_lsem//4=250\n",
       "</text>"
      ],
      "text/plain": [
       "<IPython.core.display.HTML object>"
      ]
     },
     "metadata": {},
     "output_type": "display_data"
    },
    {
     "data": {
      "text/html": [
       "<text style=color:orange>WARNING: subcase.py:683               nwords_to_lsem=1000 nwords_to_lsem//4=250\n",
       "</text>"
      ],
      "text/plain": [
       "<IPython.core.display.HTML object>"
      ]
     },
     "metadata": {},
     "output_type": "display_data"
    },
    {
     "name": "stdout",
     "output_type": "stream",
     "text": [
      "Nonlinear constraints\n",
      "{'pull_up_sol_106.ks_stability': array([-13.93106]),\n",
      " 'pull_up_sol_106.ks_stress': array([-9707232.]),\n",
      " 'pull_up_sol_106.load_factor': array([1.]),\n",
      " 'push_down_sol_106.ks_stability': array([-14.18538]),\n",
      " 'push_down_sol_106.ks_stress': array([-2.57113e+08]),\n",
      " 'push_down_sol_106.load_factor': array([1.])}\n",
      "\n",
      "Objectives\n",
      "{'pull_up_sol_106.mass': array([2035.53417])}\n",
      "\n",
      "Driver debug print for iter coord: rank0:ScipyOptimize_COBYLA|48\n",
      "----------------------------------------------------------------\n",
      "Design Vars\n",
      "{'bottom_skin_interp.t_cp': array([[0.00907, 0.01046, 0.00218]]),\n",
      " 'bottom_stiffeners_interp.t_cp': array([[0.00631, 0.0052 , 0.00862]]),\n",
      " 'front_spar_interp.t_cp': array([[0.01285, 0.00537, 0.00502]]),\n",
      " 'rear_spar_interp.t_cp': array([[0.00744, 0.01638, 0.00595]]),\n",
      " 'ribs_interp.t_cp': array([[0.00608, 0.00309, 0.00429]]),\n",
      " 'top_skin_interp.t_cp': array([[0.00712, 0.01625, 0.00473]]),\n",
      " 'top_stiffeners_interp.t_cp': array([[0.0053 , 0.00828, 0.00698]])}\n",
      "\n"
     ]
    },
    {
     "data": {
      "text/html": [
       "<text style=color:orange>WARNING: write_mesh.py:1333           is_double=True...changing size from 8 to 16...\n",
       "</text>"
      ],
      "text/plain": [
       "<IPython.core.display.HTML object>"
      ]
     },
     "metadata": {},
     "output_type": "display_data"
    },
    {
     "name": "stdout",
     "output_type": "stream",
     "text": [
      "MSC Nastran V2024.2 (Intel Linux 6.8.0-49-generic) Fri Dec  6 13:31:41 2024\n"
     ]
    },
    {
     "name": "stderr",
     "output_type": "stream",
     "text": [
      "\n",
      "*** SYSTEM INFORMATION MESSAGE (pgm: nastran, fn: estimate_job_requirements)\n",
      "    Starting ESTIMATE, please wait...\n",
      "\n",
      "*** USER INFORMATION MESSAGE (pgm: nastran, fn: estimate_job_requirements)\n",
      "    Estimated memory=96411.0MB\n",
      "    Estimated pmem=0+\n"
     ]
    },
    {
     "name": "stdout",
     "output_type": "stream",
     "text": [
      "MSC Nastran beginning job sol_106_pull_up.\n",
      "Nastran job sol_106_pull_up.bdf completed\n",
      "Wall time: 15131.0 s\n"
     ]
    },
    {
     "data": {
      "text/html": [
       "<text style=color:orange>WARNING: subcase.py:683               nwords_to_lsem=1000 nwords_to_lsem//4=250\n",
       "</text>"
      ],
      "text/plain": [
       "<IPython.core.display.HTML object>"
      ]
     },
     "metadata": {},
     "output_type": "display_data"
    },
    {
     "data": {
      "text/html": [
       "<text style=color:orange>WARNING: subcase.py:683               nwords_to_lsem=1000 nwords_to_lsem//4=250\n",
       "</text>"
      ],
      "text/plain": [
       "<IPython.core.display.HTML object>"
      ]
     },
     "metadata": {},
     "output_type": "display_data"
    },
    {
     "data": {
      "text/html": [
       "<text style=color:orange>WARNING: write_mesh.py:1333           is_double=True...changing size from 8 to 16...\n",
       "</text>"
      ],
      "text/plain": [
       "<IPython.core.display.HTML object>"
      ]
     },
     "metadata": {},
     "output_type": "display_data"
    },
    {
     "name": "stdout",
     "output_type": "stream",
     "text": [
      "MSC Nastran V2024.2 (Intel Linux 6.8.0-49-generic) Fri Dec  6 17:44:21 2024\n"
     ]
    },
    {
     "name": "stderr",
     "output_type": "stream",
     "text": [
      "\n",
      "*** SYSTEM INFORMATION MESSAGE (pgm: nastran, fn: estimate_job_requirements)\n",
      "    Starting ESTIMATE, please wait...\n",
      "\n",
      "*** USER INFORMATION MESSAGE (pgm: nastran, fn: estimate_job_requirements)\n",
      "    Estimated memory=96411.0MB\n",
      "    Estimated pmem=0+\n"
     ]
    },
    {
     "name": "stdout",
     "output_type": "stream",
     "text": [
      "MSC Nastran beginning job sol_106_push_down.\n",
      "Nastran job sol_106_push_down.bdf completed\n",
      "Wall time: 1134.0 s\n"
     ]
    },
    {
     "data": {
      "text/html": [
       "<text style=color:orange>WARNING: subcase.py:683               nwords_to_lsem=1000 nwords_to_lsem//4=250\n",
       "</text>"
      ],
      "text/plain": [
       "<IPython.core.display.HTML object>"
      ]
     },
     "metadata": {},
     "output_type": "display_data"
    },
    {
     "data": {
      "text/html": [
       "<text style=color:orange>WARNING: subcase.py:683               nwords_to_lsem=1000 nwords_to_lsem//4=250\n",
       "</text>"
      ],
      "text/plain": [
       "<IPython.core.display.HTML object>"
      ]
     },
     "metadata": {},
     "output_type": "display_data"
    },
    {
     "name": "stdout",
     "output_type": "stream",
     "text": [
      "Nonlinear constraints\n",
      "{'pull_up_sol_106.ks_stability': array([0.03666]),\n",
      " 'pull_up_sol_106.ks_stress': array([-31388800.]),\n",
      " 'pull_up_sol_106.load_factor': array([0.89312]),\n",
      " 'push_down_sol_106.ks_stability': array([-12.8835]),\n",
      " 'push_down_sol_106.ks_stress': array([-2.45221e+08]),\n",
      " 'push_down_sol_106.load_factor': array([1.])}\n",
      "\n",
      "Objectives\n",
      "{'pull_up_sol_106.mass': array([1832.6572])}\n",
      "\n",
      "Driver debug print for iter coord: rank0:ScipyOptimize_COBYLA|49\n",
      "----------------------------------------------------------------\n",
      "Design Vars\n",
      "{'bottom_skin_interp.t_cp': array([[0.00918, 0.01258, 0.0032 ]]),\n",
      " 'bottom_stiffeners_interp.t_cp': array([[0.00625, 0.0053 , 0.00828]]),\n",
      " 'front_spar_interp.t_cp': array([[0.01272, 0.00577, 0.00406]]),\n",
      " 'rear_spar_interp.t_cp': array([[0.00745, 0.01702, 0.00601]]),\n",
      " 'ribs_interp.t_cp': array([[0.00642, 0.00349, 0.00455]]),\n",
      " 'top_skin_interp.t_cp': array([[0.00753, 0.01745, 0.0059 ]]),\n",
      " 'top_stiffeners_interp.t_cp': array([[0.00527, 0.00844, 0.00745]])}\n",
      "\n"
     ]
    },
    {
     "data": {
      "text/html": [
       "<text style=color:orange>WARNING: write_mesh.py:1333           is_double=True...changing size from 8 to 16...\n",
       "</text>"
      ],
      "text/plain": [
       "<IPython.core.display.HTML object>"
      ]
     },
     "metadata": {},
     "output_type": "display_data"
    },
    {
     "name": "stderr",
     "output_type": "stream",
     "text": [
      "\n",
      "*** SYSTEM INFORMATION MESSAGE (pgm: nastran, fn: estimate_job_requirements)\n",
      "    Starting ESTIMATE, please wait...\n",
      "\n",
      "*** USER INFORMATION MESSAGE (pgm: nastran, fn: estimate_job_requirements)\n",
      "    Estimated memory=96411.0MB\n",
      "    Estimated pmem=0+\n"
     ]
    },
    {
     "name": "stdout",
     "output_type": "stream",
     "text": [
      "MSC Nastran V2024.2 (Intel Linux 6.8.0-49-generic) Fri Dec  6 18:03:26 2024\n",
      "MSC Nastran beginning job sol_106_pull_up.\n",
      "Nastran job sol_106_pull_up.bdf completed\n",
      "Wall time: 2016.0 s\n"
     ]
    },
    {
     "data": {
      "text/html": [
       "<text style=color:orange>WARNING: subcase.py:683               nwords_to_lsem=1000 nwords_to_lsem//4=250\n",
       "</text>"
      ],
      "text/plain": [
       "<IPython.core.display.HTML object>"
      ]
     },
     "metadata": {},
     "output_type": "display_data"
    },
    {
     "data": {
      "text/html": [
       "<text style=color:orange>WARNING: subcase.py:683               nwords_to_lsem=1000 nwords_to_lsem//4=250\n",
       "</text>"
      ],
      "text/plain": [
       "<IPython.core.display.HTML object>"
      ]
     },
     "metadata": {},
     "output_type": "display_data"
    },
    {
     "data": {
      "text/html": [
       "<text style=color:orange>WARNING: write_mesh.py:1333           is_double=True...changing size from 8 to 16...\n",
       "</text>"
      ],
      "text/plain": [
       "<IPython.core.display.HTML object>"
      ]
     },
     "metadata": {},
     "output_type": "display_data"
    },
    {
     "name": "stdout",
     "output_type": "stream",
     "text": [
      "MSC Nastran V2024.2 (Intel Linux 6.8.0-49-generic) Fri Dec  6 18:37:16 2024\n",
      "MSC Nastran beginning job sol_106_push_down.\n"
     ]
    },
    {
     "name": "stderr",
     "output_type": "stream",
     "text": [
      "\n",
      "*** SYSTEM INFORMATION MESSAGE (pgm: nastran, fn: estimate_job_requirements)\n",
      "    Starting ESTIMATE, please wait...\n",
      "\n",
      "*** USER INFORMATION MESSAGE (pgm: nastran, fn: estimate_job_requirements)\n",
      "    Estimated memory=96411.0MB\n",
      "    Estimated pmem=0+\n"
     ]
    },
    {
     "name": "stdout",
     "output_type": "stream",
     "text": [
      "Nastran job sol_106_push_down.bdf completed\n",
      "Wall time: 1009.0 s\n"
     ]
    },
    {
     "data": {
      "text/html": [
       "<text style=color:orange>WARNING: subcase.py:683               nwords_to_lsem=1000 nwords_to_lsem//4=250\n",
       "</text>"
      ],
      "text/plain": [
       "<IPython.core.display.HTML object>"
      ]
     },
     "metadata": {},
     "output_type": "display_data"
    },
    {
     "data": {
      "text/html": [
       "<text style=color:orange>WARNING: subcase.py:683               nwords_to_lsem=1000 nwords_to_lsem//4=250\n",
       "</text>"
      ],
      "text/plain": [
       "<IPython.core.display.HTML object>"
      ]
     },
     "metadata": {},
     "output_type": "display_data"
    },
    {
     "name": "stdout",
     "output_type": "stream",
     "text": [
      "Nonlinear constraints\n",
      "{'pull_up_sol_106.ks_stability': array([-2.35314]),\n",
      " 'pull_up_sol_106.ks_stress': array([-38864160.]),\n",
      " 'pull_up_sol_106.load_factor': array([1.]),\n",
      " 'push_down_sol_106.ks_stability': array([-14.57936]),\n",
      " 'push_down_sol_106.ks_stress': array([-2.60726e+08]),\n",
      " 'push_down_sol_106.load_factor': array([1.])}\n",
      "\n",
      "Objectives\n",
      "{'pull_up_sol_106.mass': array([2024.67064])}\n",
      "\n",
      "Driver debug print for iter coord: rank0:ScipyOptimize_COBYLA|50\n",
      "----------------------------------------------------------------\n",
      "Design Vars\n",
      "{'bottom_skin_interp.t_cp': array([[0.00896, 0.01043, 0.00212]]),\n",
      " 'bottom_stiffeners_interp.t_cp': array([[0.00616, 0.0048 , 0.00939]]),\n",
      " 'front_spar_interp.t_cp': array([[0.01314, 0.00539, 0.00304]]),\n",
      " 'rear_spar_interp.t_cp': array([[0.00746, 0.01699, 0.00585]]),\n",
      " 'ribs_interp.t_cp': array([[0.00604, 0.00352, 0.00397]]),\n",
      " 'top_skin_interp.t_cp': array([[0.00694, 0.0167 , 0.00519]]),\n",
      " 'top_stiffeners_interp.t_cp': array([[0.00522, 0.00803, 0.00767]])}\n",
      "\n"
     ]
    },
    {
     "data": {
      "text/html": [
       "<text style=color:orange>WARNING: write_mesh.py:1333           is_double=True...changing size from 8 to 16...\n",
       "</text>"
      ],
      "text/plain": [
       "<IPython.core.display.HTML object>"
      ]
     },
     "metadata": {},
     "output_type": "display_data"
    },
    {
     "name": "stdout",
     "output_type": "stream",
     "text": [
      "MSC Nastran V2024.2 (Intel Linux 6.8.0-49-generic) Fri Dec  6 18:54:15 2024\n",
      "MSC Nastran beginning job sol_106_pull_up.\n"
     ]
    },
    {
     "name": "stderr",
     "output_type": "stream",
     "text": [
      "\n",
      "*** SYSTEM INFORMATION MESSAGE (pgm: nastran, fn: estimate_job_requirements)\n",
      "    Starting ESTIMATE, please wait...\n",
      "\n",
      "*** USER INFORMATION MESSAGE (pgm: nastran, fn: estimate_job_requirements)\n",
      "    Estimated memory=96411.0MB\n",
      "    Estimated pmem=0+\n"
     ]
    },
    {
     "name": "stdout",
     "output_type": "stream",
     "text": [
      "Nastran job sol_106_pull_up.bdf completed\n",
      "Wall time: 9388.0 s\n"
     ]
    },
    {
     "data": {
      "text/html": [
       "<text style=color:orange>WARNING: subcase.py:683               nwords_to_lsem=1000 nwords_to_lsem//4=250\n",
       "</text>"
      ],
      "text/plain": [
       "<IPython.core.display.HTML object>"
      ]
     },
     "metadata": {},
     "output_type": "display_data"
    },
    {
     "data": {
      "text/html": [
       "<text style=color:orange>WARNING: subcase.py:683               nwords_to_lsem=1000 nwords_to_lsem//4=250\n",
       "</text>"
      ],
      "text/plain": [
       "<IPython.core.display.HTML object>"
      ]
     },
     "metadata": {},
     "output_type": "display_data"
    },
    {
     "data": {
      "text/html": [
       "<text style=color:orange>WARNING: write_mesh.py:1333           is_double=True...changing size from 8 to 16...\n",
       "</text>"
      ],
      "text/plain": [
       "<IPython.core.display.HTML object>"
      ]
     },
     "metadata": {},
     "output_type": "display_data"
    },
    {
     "name": "stdout",
     "output_type": "stream",
     "text": [
      "MSC Nastran V2024.2 (Intel Linux 6.8.0-49-generic) Fri Dec  6 21:31:11 2024\n"
     ]
    },
    {
     "name": "stderr",
     "output_type": "stream",
     "text": [
      "\n",
      "*** SYSTEM INFORMATION MESSAGE (pgm: nastran, fn: estimate_job_requirements)\n",
      "    Starting ESTIMATE, please wait...\n",
      "\n",
      "*** USER INFORMATION MESSAGE (pgm: nastran, fn: estimate_job_requirements)\n",
      "    Estimated memory=96411.0MB\n",
      "    Estimated pmem=0+\n"
     ]
    },
    {
     "name": "stdout",
     "output_type": "stream",
     "text": [
      "MSC Nastran beginning job sol_106_push_down.\n",
      "Nastran job sol_106_push_down.bdf completed\n",
      "Wall time: 1300.0 s\n"
     ]
    },
    {
     "data": {
      "text/html": [
       "<text style=color:orange>WARNING: subcase.py:683               nwords_to_lsem=1000 nwords_to_lsem//4=250\n",
       "</text>"
      ],
      "text/plain": [
       "<IPython.core.display.HTML object>"
      ]
     },
     "metadata": {},
     "output_type": "display_data"
    },
    {
     "data": {
      "text/html": [
       "<text style=color:orange>WARNING: subcase.py:683               nwords_to_lsem=1000 nwords_to_lsem//4=250\n",
       "</text>"
      ],
      "text/plain": [
       "<IPython.core.display.HTML object>"
      ]
     },
     "metadata": {},
     "output_type": "display_data"
    },
    {
     "name": "stdout",
     "output_type": "stream",
     "text": [
      "Nonlinear constraints\n",
      "{'pull_up_sol_106.ks_stability': array([-0.13387]),\n",
      " 'pull_up_sol_106.ks_stress': array([73936480.]),\n",
      " 'pull_up_sol_106.load_factor': array([0.95244]),\n",
      " 'push_down_sol_106.ks_stability': array([-12.98205]),\n",
      " 'push_down_sol_106.ks_stress': array([-2.43913e+08]),\n",
      " 'push_down_sol_106.load_factor': array([1.])}\n",
      "\n",
      "Objectives\n",
      "{'pull_up_sol_106.mass': array([1863.30889])}\n",
      "\n",
      "Optimization FAILED.\n",
      "\n",
      "Did not converge to a solution satisfying the constraints. See `maxcv` for magnitude of violation.\n",
      "-----------------------------------\n",
      "   Return from subroutine COBYLA because the MAXFUN limit has been reached.\n",
      "\n",
      "   NFVALS =   50   F = 1.113966E+00    MAXCV = 1.000000E-03\n",
      "   X = 9.611556E-01   6.074360E-01   7.088112E-01   2.046787E+00   8.656405E-01\n",
      "       6.399229E-01   1.141604E+00   2.776084E+00   9.216236E-01   1.188039E+00\n",
      "       2.893507E+00   9.039547E-01   1.436336E+00   1.859362E+00   4.262521E-01\n",
      "       8.575922E-01   1.465256E+00   1.269127E+00   1.041538E+00   8.917931E-01\n",
      "       1.525668E+00\n"
     ]
    }
   ],
   "source": [
    "# Define recorder file path\n",
    "recorder_filename = \"nonlinear_optimization\"\n",
    "recorder_filepath = os.path.join(\n",
    "    ANALYSIS_DIRECTORY_PATH, recorder_filename + '.sql')\n",
    "\n",
    "# Define whether to run optimization or not\n",
    "run_optimization = False\n",
    "\n",
    "if run_optimization:\n",
    "    # If optimization is to be run, set up recorder and run optimization\n",
    "    recorder = om.SqliteRecorder(recorder_filepath)  # create recorder\n",
    "    nonlinear_problem.driver.add_recorder(recorder)  # attach recorder to driver\n",
    "    nonlinear_problem.setup()  # re-setup problem before running optimization\n",
    "    nonlinear_problem.set_solver_print(0)  # disable solver output\n",
    "    nonlinear_problem.driver.options['debug_print'] = ['desvars','nl_cons','objs']\n",
    "    nonlinear_problem.run_driver()\n",
    "else:\n",
    "    # If optimization is not to be run, call final setup to enable driver\n",
    "    # variables list\n",
    "    nonlinear_problem.final_setup()\n",
    "    \n",
    "# Clean up resources prior to exit\n",
    "nonlinear_problem.cleanup()"
   ]
  },
  {
   "cell_type": "markdown",
   "metadata": {},
   "source": [
    "Plot optimiation history."
   ]
  },
  {
   "cell_type": "code",
   "execution_count": null,
   "metadata": {},
   "outputs": [
    {
     "name": "stdout",
     "output_type": "stream",
     "text": [
      "----------------\n",
      "Design Variables\n",
      "----------------\n",
      "name                           val        size  \n",
      "-----------------------------  ---------  ---- \n",
      "ribs_interp.t_cp               |1.19193|  3     \n",
      "front_spar_interp.t_cp         |2.31264|  3     \n",
      "rear_spar_interp.t_cp          |3.13956|  3     \n",
      "top_skin_interp.t_cp           |3.0349|   3     \n",
      "bottom_skin_interp.t_cp        |2.20169|  3     \n",
      "top_stiffeners_interp.t_cp     |2.08378|  3     \n",
      "bottom_stiffeners_interp.t_cp  |2.07646|  3     \n",
      "\n",
      "-----------\n",
      "Constraints\n",
      "-----------\n",
      "name                            val         size  \n",
      "------------------------------  ----------  ---- \n",
      "pull_up_sol_106.ks_stress       [0.45229]   1     \n",
      "pull_up_sol_106.ks_stability    [-0.01057]  1     \n",
      "pull_up_sol_106.load_factor     [0.95244]   1     \n",
      "push_down_sol_106.ks_stress     [-1.00189]  1     \n",
      "push_down_sol_106.ks_stability  [-1.02687]  1     \n",
      "push_down_sol_106.load_factor   [1.]        1     \n",
      "\n",
      "----------\n",
      "Objectives\n",
      "----------\n",
      "name                  val        size  \n",
      "--------------------  ---------  ---- \n",
      "pull_up_sol_106.mass  [1.02748]  1     \n",
      "\n",
      "Requested variables at last iteration:\n",
      "- ribs_interp.t_cp: [0.00604 0.00352 0.00397]\n",
      "- front_spar_interp.t_cp: [0.01314 0.00539 0.00304]\n",
      "- rear_spar_interp.t_cp: [0.00746 0.01699 0.00585]\n",
      "- top_skin_interp.t_cp: [0.00694 0.0167  0.00519]\n",
      "- bottom_skin_interp.t_cp: [0.00896 0.01043 0.00212]\n",
      "- top_stiffeners_interp.t_cp: [0.00522 0.00803 0.00767]\n",
      "- bottom_stiffeners_interp.t_cp: [0.00616 0.0048  0.00939]\n",
      "Requested variables at last iteration:\n",
      "- pull_up_sol_106.mass: [1863.30889]\n",
      "- pull_up_sol_106.ks_stress: [73936480.]\n",
      "- pull_up_sol_106.ks_stability: [-0.13387]\n",
      "- pull_up_sol_106.load_factor: [0.95244]\n",
      "- push_down_sol_106.ks_stress: [-2.43913e+08]\n",
      "- push_down_sol_106.ks_stability: [-12.98205]\n",
      "- push_down_sol_106.load_factor: [1.]\n"
     ]
    },
    {
     "data": {
      "application/vnd.jupyter.widget-view+json": {
       "model_id": "309b712779f34e799cb77a490a166f46",
       "version_major": 2,
       "version_minor": 0
      },
      "image/png": "[encoded data removed]",
      "text/html": [
       "\n",
       "            <div style=\"display: inline-block;\">\n",
       "                <div class=\"jupyter-widgets widget-label\" style=\"text-align: center;\">\n",
       "                    Figure\n",
       "                </div>\n",
       "                <img src='data:image/png;base64,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' width=768.0/>\n",
       "            </div>\n",
       "        "
      ],
      "text/plain": [
       "Canvas(toolbar=Toolbar(toolitems=[('Home', 'Reset original view', 'home', 'home'), ('Back', 'Back to previous …"
      ]
     },
     "metadata": {},
     "output_type": "display_data"
    },
    {
     "data": {
      "application/vnd.jupyter.widget-view+json": {
       "model_id": "548fc3447b394a618d2b90940aa35f2e",
       "version_major": 2,
       "version_minor": 0
      },
      "image/png": "[encoded data removed]",
      "text/html": [
       "\n",
       "            <div style=\"display: inline-block;\">\n",
       "                <div class=\"jupyter-widgets widget-label\" style=\"text-align: center;\">\n",
       "                    Figure\n",
       "                </div>\n",
       "                <img src='data:image/png;base64,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' width=768.0/>\n",
       "            </div>\n",
       "        "
      ],
      "text/plain": [
       "Canvas(toolbar=Toolbar(toolitems=[('Home', 'Reset original view', 'home', 'home'), ('Back', 'Back to previous …"
      ]
     },
     "metadata": {},
     "output_type": "display_data"
    }
   ],
   "source": [
    "driver_variables = nonlinear_problem.list_driver_vars()\n",
    "\n",
    "design_variables = [var[0] for var in driver_variables['design_vars']]\n",
    "design_variable_labels = [\n",
    "    \"$t_{\\mathrm{ribs}}$, m\", \"$t_{\\mathrm{front\\ spar}}$, m\",\n",
    "    \"$t_{\\mathrm{rear\\ spar}}$, m\", \"$t_{\\mathrm{top\\ skin}}$, m\",\n",
    "    \"$t_{\\mathrm{bot\\ skin}}$, m\", \"$t_{\\mathrm{top\\ stif}}$, m\",\n",
    "    \"$t_{\\mathrm{bot\\ stif}}$, m\"]\n",
    "_, axes, design_variable_histories = plot_optimization_history(\n",
    "    recorder_filepath=recorder_filepath,\n",
    "    variable_names=design_variables,\n",
    "    y_labels=design_variable_labels)\n",
    "\n",
    "objective_constraints = [var[0] for var in driver_variables['objectives']] +\\\n",
    "    [var[0] for var in driver_variables['constraints']]\n",
    "objective_constraints_labels = [\n",
    "    \"$M_{\\mathrm{wing}}$, kg\", \"$KS_{\\sigma,\\,2.5\\mathrm{g}}$, Pa\",\n",
    "    \"$KS_{\\lambda,\\,2.5\\mathrm{g}}$, N/m\",\n",
    "    \"$P/P_{\\mathrm{target},\\,2.5\\mathrm{g}}$\",\n",
    "    \"$KS_{\\sigma,\\,-1\\mathrm{g}}, N/m$, Pa\", \"$KS_{\\lambda,\\,-1\\mathrm{g}}$\",\n",
    "    \"$P/P_{\\mathrm{target},\\,-1\\mathrm{g}}$\"]\n",
    "_, axes, objective_constraints_histories = plot_optimization_history(\n",
    "    recorder_filepath=recorder_filepath,\n",
    "    variable_names=objective_constraints,\n",
    "    y_labels=objective_constraints_labels)"
   ]
  },
  {
   "cell_type": "markdown",
   "metadata": {},
   "source": [
    "The optimization ends on an unfeasible design point (positive stress and stability constraint function value for the pull up maneuver). The last feasible design corresponds to the penultimate iteration."
   ]
  },
  {
   "cell_type": "code",
   "execution_count": null,
   "metadata": {},
   "outputs": [
    {
     "name": "stdout",
     "output_type": "stream",
     "text": [
      "\n",
      "Mass variation w.r.t. linearly optimized structure: 11.6 %\n"
     ]
    }
   ],
   "source": [
    "# Find index of last feasible design\n",
    "feasible_design_index = -2\n",
    "\n",
    "# Find and print mass percentage variation w.r.t. initial structure\n",
    "mass_percentage_variation = (\n",
    "    objective_constraints_histories['pull_up_sol_106.mass'][feasible_design_index, 0]/mass_0 - 1)*100\n",
    "print(f\"\"\"\n",
    "Mass variation w.r.t. linearly optimized structure: {mass_percentage_variation:.1f} %\"\"\")"
   ]
  },
  {
   "cell_type": "markdown",
   "metadata": {},
   "source": [
    "Run analysis of last feasible design."
   ]
  },
  {
   "cell_type": "code",
   "execution_count": null,
   "metadata": {},
   "outputs": [
    {
     "name": "stderr",
     "output_type": "stream",
     "text": [
      "/home/fmamitrotta/anaconda3/envs/aeroelastic-opt-benchmark/lib/python3.10/site-packages/openmdao/core/component.py:203: DistributedComponentWarning:'pull_up_sol_106_mesh' <class NastranMesh>: Component contains distributed variables, but there is no distributed vector implementation (MPI/PETSc) available. The default non-distributed vectors will be used.\n",
      "/home/fmamitrotta/anaconda3/envs/aeroelastic-opt-benchmark/lib/python3.10/site-packages/openmdao/core/component.py:203: DistributedComponentWarning:'push_down_sol_106_mesh' <class NastranMesh>: Component contains distributed variables, but there is no distributed vector implementation (MPI/PETSc) available. The default non-distributed vectors will be used.\n",
      "/home/fmamitrotta/anaconda3/envs/aeroelastic-opt-benchmark/lib/python3.10/site-packages/openmdao/core/group.py:2885: UnitsWarning:<model> <class Nonlinear>: Output 'ivc.yield_strength' with units of 'Pa' is connected to input 'pull_up_sol_106.struct_post.struct_function.yield_strength' which has no units.\n",
      "/home/fmamitrotta/anaconda3/envs/aeroelastic-opt-benchmark/lib/python3.10/site-packages/openmdao/core/group.py:2885: UnitsWarning:<model> <class Nonlinear>: Output 'ivc.yield_strength' with units of 'Pa' is connected to input 'push_down_sol_106.struct_post.struct_function.yield_strength' which has no units.\n"
     ]
    },
    {
     "data": {
      "text/html": [
       "<text style=color:orange>WARNING: write_mesh.py:1333           is_double=True...changing size from 8 to 16...\n",
       "</text>"
      ],
      "text/plain": [
       "<IPython.core.display.HTML object>"
      ]
     },
     "metadata": {},
     "output_type": "display_data"
    },
    {
     "name": "stdout",
     "output_type": "stream",
     "text": [
      "MSC Nastran V2024.2 (Intel Linux 6.8.0-49-generic) Sun Dec  8 02:38:31 2024\n"
     ]
    },
    {
     "name": "stderr",
     "output_type": "stream",
     "text": [
      "\n",
      "*** SYSTEM INFORMATION MESSAGE (pgm: nastran, fn: estimate_job_requirements)\n",
      "    Starting ESTIMATE, please wait...\n",
      "\n",
      "*** USER INFORMATION MESSAGE (pgm: nastran, fn: estimate_job_requirements)\n",
      "    Estimated memory=96411.0MB\n",
      "    Estimated pmem=0+\n"
     ]
    },
    {
     "name": "stdout",
     "output_type": "stream",
     "text": [
      "MSC Nastran beginning job sol_106_pull_up_feasible.\n",
      "Nastran job sol_106_pull_up_feasible.bdf completed\n",
      "Wall time: 30057.0 s\n"
     ]
    },
    {
     "data": {
      "text/html": [
       "<text style=color:orange>WARNING: subcase.py:683               nwords_to_lsem=1000 nwords_to_lsem//4=250\n",
       "</text>"
      ],
      "text/plain": [
       "<IPython.core.display.HTML object>"
      ]
     },
     "metadata": {},
     "output_type": "display_data"
    },
    {
     "data": {
      "text/html": [
       "<text style=color:orange>WARNING: subcase.py:683               nwords_to_lsem=1000 nwords_to_lsem//4=250\n",
       "</text>"
      ],
      "text/plain": [
       "<IPython.core.display.HTML object>"
      ]
     },
     "metadata": {},
     "output_type": "display_data"
    },
    {
     "data": {
      "text/html": [
       "<text style=color:orange>WARNING: write_mesh.py:1333           is_double=True...changing size from 8 to 16...\n",
       "</text>"
      ],
      "text/plain": [
       "<IPython.core.display.HTML object>"
      ]
     },
     "metadata": {},
     "output_type": "display_data"
    },
    {
     "name": "stdout",
     "output_type": "stream",
     "text": [
      "MSC Nastran V2024.2 (Intel Linux 6.8.0-49-generic) Sun Dec  8 11:01:34 2024\n",
      "MSC Nastran beginning job sol_106_push_down_feasible.\n"
     ]
    },
    {
     "name": "stderr",
     "output_type": "stream",
     "text": [
      "\n",
      "*** SYSTEM INFORMATION MESSAGE (pgm: nastran, fn: estimate_job_requirements)\n",
      "    Starting ESTIMATE, please wait...\n",
      "\n",
      "*** USER INFORMATION MESSAGE (pgm: nastran, fn: estimate_job_requirements)\n",
      "    Estimated memory=96411.0MB\n",
      "    Estimated pmem=0+\n"
     ]
    },
    {
     "name": "stdout",
     "output_type": "stream",
     "text": [
      "Nastran job sol_106_push_down_feasible.bdf completed\n",
      "Wall time: 1090.0 s\n"
     ]
    },
    {
     "data": {
      "text/html": [
       "<text style=color:orange>WARNING: subcase.py:683               nwords_to_lsem=1000 nwords_to_lsem//4=250\n",
       "</text>"
      ],
      "text/plain": [
       "<IPython.core.display.HTML object>"
      ]
     },
     "metadata": {},
     "output_type": "display_data"
    },
    {
     "data": {
      "text/html": [
       "<text style=color:orange>WARNING: subcase.py:683               nwords_to_lsem=1000 nwords_to_lsem//4=250\n",
       "</text>"
      ],
      "text/plain": [
       "<IPython.core.display.HTML object>"
      ]
     },
     "metadata": {},
     "output_type": "display_data"
    }
   ],
   "source": [
    "# Slighly increase multiplier of aerodynamic loads to capture instability\n",
    "sol_106_bdf.load_combinations[LOAD_SET_ID][0].scale_factors[1] = 1.6\n",
    "\n",
    "# Change DMAP to store eigenvectors\n",
    "sol_106_bdf.executive_control_lines[-2] = dmap_eigenvectors\n",
    "\n",
    "# Increase maximum number of increments\n",
    "sol_106_bdf.nlpcis[1].mxinc = 650\n",
    "\n",
    "# Add suffix to input names\n",
    "nonlinear_problem.model.options['input_name_suffix'] = \"_feasible\"\n",
    "\n",
    "# Re-setup problem\n",
    "nonlinear_problem.setup()\n",
    "\n",
    "# Find value of thickness vectors at the end of the linear optimization\n",
    "nonlinear_opt_thickness_vectors = [\n",
    "    history[feasible_design_index] for history in design_variable_histories.values()]\n",
    "\n",
    "# Assign thickness vector of last feasible design\n",
    "for i, variable in enumerate(design_variable_histories):\n",
    "    nonlinear_problem.set_val(variable, nonlinear_opt_thickness_vectors[i])\n",
    "\n",
    "# Run analyses of last feasible design\n",
    "nonlinear_problem.run_model()"
   ]
  },
  {
   "cell_type": "markdown",
   "metadata": {},
   "source": [
    "Run linear buckling analysis of nonlinearly optimized structure."
   ]
  },
  {
   "cell_type": "code",
   "execution_count": null,
   "metadata": {},
   "outputs": [],
   "source": [
    "# Deepcopy the bdf with last feasible design\n",
    "sol_106_bdf_feasible = nonlinear_problem.model.pull_up_sol_106.coupling.solver.solver.bdf\n",
    "sol_106_bdf_feasible._xref = False\n",
    "sol_105_bdf = sol_106_bdf_feasible.__deepcopy__({})\n",
    "sol_105_bdf.cross_reference(xref_loads=False)\n",
    "\n",
    "# Remove DMAP to calculate eigenvalues of tangent stiffness matrix\n",
    "del sol_105_bdf.executive_control_lines[-2]\n",
    "\n",
    "# Remove nonlinear output requests\n",
    "del sol_105_bdf.subcases[0].params['NLSTRESS']\n",
    "del sol_105_bdf.subcases[0].params['NLPARM']\n",
    "del sol_105_bdf.subcases[1].params['NLPARM']\n",
    "\n",
    "# Remove SPC from general case control\n",
    "del sol_105_bdf.subcases[0].params['METHOD']\n",
    "\n",
    "# Request stress output for first subcase in place of nonlinear stress\n",
    "sol_105_bdf.subcases[1].params['STRESS'] = sol_105_bdf.subcases[1].params.pop('NLSTRESS')\n",
    "\n",
    "# Restore original multiplier for aerodynamic loads\n",
    "sol_105_bdf.load_combinations[LOAD_SET_ID][0].scale_factors[1] = 1.5\n",
    "\n",
    "# Loop over the two maneuvers\n",
    "for maneuver in [\"pull_up\", \"push_down\"]:\n",
    "    # Include the pch file with the forces obtained from pull-up SOL 144\n",
    "    sol_105_bdf.reject_lines[0][0] = f\"INCLUDE 'sol_144_{maneuver}.pch'\"\n",
    "\n",
    "    # Run analysis for pull-up maneuver load\n",
    "    input_name = f\"sol_105_nonlinear_opt_{maneuver}\"\n",
    "    sol_105_op2 = pynastran_utils.run_sol_105(\n",
    "        analysis_directory_path=ANALYSIS_DIRECTORY_PATH, input_name=input_name,\n",
    "        bdf=sol_105_bdf, method_set_id=METHOD_SET_ID, run_flag=True)"
   ]
  }
 ],
 "metadata": {
  "kernelspec": {
   "display_name": "aeroelastic-opt-benchmark",
   "language": "python",
   "name": "python3"
  },
  "language_info": {
   "codemirror_mode": {
    "name": "ipython",
    "version": 3
   },
   "file_extension": ".py",
   "mimetype": "text/x-python",
   "name": "python",
   "nbconvert_exporter": "python",
   "pygments_lexer": "ipython3",
   "version": "3.10.13"
  }
 },
 "nbformat": 4,
 "nbformat_minor": 2
}
